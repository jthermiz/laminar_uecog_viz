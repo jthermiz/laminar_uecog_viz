{
 "cells": [
  {
   "cell_type": "markdown",
   "source": [
    "# Spectral analysis\n",
    "- Load data\n",
    "- Preprocess\n",
    "    - Resample down to 3kHz\n",
    "    - Notch line noise and harmonics\n",
    "    - Reference CAR\n",
    "    - Compute wavelet transform\n",
    "    - Resample down to 400Hz\n",
    "- Plot spectrogram for one channel"
   ],
   "metadata": {}
  },
  {
   "cell_type": "code",
   "execution_count": 1,
   "source": [
    "from process_nwb import resample, linenoise_notch, common_referencing, wavelet_transform\n",
    "from nsds_lab_to_nwb.tools.tdt.tdt_reader import TDTReader\n",
    "import pandas as pd\n",
    "import time\n",
    "import numpy as np\n",
    "import matplotlib as mpl\n",
    "import matplotlib.pyplot as plt\n",
    "import os\n",
    "from laminar_uecog_viz import spectral"
   ],
   "outputs": [],
   "metadata": {}
  },
  {
   "cell_type": "code",
   "execution_count": 2,
   "source": [
    "# Plotting parameters\n",
    "mpl.rcParams['figure.facecolor'] = '1'"
   ],
   "outputs": [],
   "metadata": {}
  },
  {
   "cell_type": "markdown",
   "source": [
    "## User defined parameters"
   ],
   "metadata": {}
  },
  {
   "cell_type": "code",
   "execution_count": 3,
   "source": [
    "data_path = '/home/jhermiz/data/aer/RVG16/RVG16_B01/' #path where TDT data lives\n",
    "data_dump_path = os.path.join(data_path, 'preprocessed') #path to dump preprocessed data\n",
    "plot_dump_path = os.path.join(data_path, 'plot') #path to save plots\n",
    "\n",
    "fs = 3200 #intermediate (before wavelet transform) sample rate\n",
    "fs_final = 400 #final sample rate (after wavelet transform)\n",
    "num_ch = 1 #change to -1 for all channels"
   ],
   "outputs": [],
   "metadata": {}
  },
  {
   "cell_type": "markdown",
   "source": [
    "## Load data"
   ],
   "metadata": {}
  },
  {
   "cell_type": "code",
   "execution_count": 4,
   "source": [
    "rec = TDTReader(data_path)\n",
    "data, params = rec.get_data(stream='Wave')\n",
    "print(data.shape, params)"
   ],
   "outputs": [
    {
     "output_type": "stream",
     "name": "stdout",
     "text": [
      "read from t=0s to t=77.86s\n",
      "(950272, 128) {'sample_rate': 12207.03125, 'channel_ids': [1, 2, 3, 4, 5, 6, 7, 8, 9, 10, 11, 12, 13, 14, 15, 16, 17, 18, 19, 20, 21, 22, 23, 24, 25, 26, 27, 28, 29, 30, 31, 32, 33, 34, 35, 36, 37, 38, 39, 40, 41, 42, 43, 44, 45, 46, 47, 48, 49, 50, 51, 52, 53, 54, 55, 56, 57, 58, 59, 60, 61, 62, 63, 64, 65, 66, 67, 68, 69, 70, 71, 72, 73, 74, 75, 76, 77, 78, 79, 80, 81, 82, 83, 84, 85, 86, 87, 88, 89, 90, 91, 92, 93, 94, 95, 96, 97, 98, 99, 100, 101, 102, 103, 104, 105, 106, 107, 108, 109, 110, 111, 112, 113, 114, 115, 116, 117, 118, 119, 120, 121, 122, 123, 124, 125, 126, 127, 128], 'start_time': '11:53:14', 'num_channels': 128, 'num_samples': 950272}\n"
     ]
    }
   ],
   "metadata": {
    "scrolled": true
   }
  },
  {
   "cell_type": "code",
   "execution_count": 5,
   "source": [
    "# Timestamps where stimulus occurs (correct for 0.25s offset)\n",
    "events = rec.get_events()\n",
    "events += events + 0.25\n",
    "print(f'Number of events: {str(len(events))}')"
   ],
   "outputs": [
    {
     "output_type": "stream",
     "name": "stdout",
     "text": [
      "Number of events: 60\n"
     ]
    }
   ],
   "metadata": {}
  },
  {
   "cell_type": "markdown",
   "source": [
    "## Preprocess"
   ],
   "metadata": {}
  },
  {
   "cell_type": "code",
   "execution_count": 6,
   "source": [
    "chs = range(data.shape[1])\n",
    "num_frame = data.shape[0]\n",
    "\n",
    "if num_ch < 0:\n",
    "    num_ch = len(chs)\n",
    "\n",
    "data_proc = resample.resample(data, fs, params['sample_rate'])\n",
    "data_proc = linenoise_notch.apply_linenoise_notch(data_proc, fs)\n",
    "data_proc = common_referencing.subtract_CAR(data_proc)\n",
    "t = np.arange(0, num_frame)/fs\n",
    "\n",
    "data_proc_file = os.path.join(data_dump_path, 'data_proc.npy')\n",
    "np.save(data_proc_file, data_proc)\n",
    "time_file = os.path.join(data_dump_path, 'time.npy')\n",
    "np.save(time_file, t)  "
   ],
   "outputs": [],
   "metadata": {}
  },
  {
   "cell_type": "code",
   "execution_count": 7,
   "source": [
    "# Calculate wavelet transform\n",
    "for ch in chs[:num_ch]:\n",
    "    t1 = time.time()\n",
    "    print('Starting wavelet transform')\n",
    "    W, _, f, _ = wavelet_transform.wavelet_transform(data_proc[:, ch].reshape((-1, 1)), \n",
    "                                                     fs, filters='rat', hg_only=False)\n",
    "    W = np.float32(abs(W))\n",
    "    W = resample.resample(W, fs_final, fs)\n",
    "    t2 = time.time()\n",
    "    wavelet_file = os.path.join(data_dump_path, f'wavelet_coefs_ch{str(ch)}.npy')\n",
    "    np.save(wavelet_file, W)\n",
    "    print(f'Wavelet compute time: {str(np.round(t2-t1, 2))}s')\n",
    "\n",
    "print('Done preprocessing')"
   ],
   "outputs": [
    {
     "output_type": "stream",
     "name": "stdout",
     "text": [
      "Starting wavelet transform\n",
      "Wavelet compute time: 2.08s\n",
      "Done preprocessing\n"
     ]
    }
   ],
   "metadata": {}
  },
  {
   "cell_type": "code",
   "execution_count": 8,
   "source": [
    "W = np.squeeze(W, axis=1)"
   ],
   "outputs": [],
   "metadata": {}
  },
  {
   "cell_type": "markdown",
   "source": [
    "## Plot spectrogram for a 0.5 sec window"
   ],
   "metadata": {}
  },
  {
   "cell_type": "code",
   "execution_count": 9,
   "source": [
    "tbeg = int(fs_final*14.35)\n",
    "tend = tbeg + int(fs_final*0.5)\n",
    "Wsnip = W[tbeg:tend, :]\n",
    "mean = np.mean(W, axis=0)\n",
    "sigma = np.std(W, axis=0)\n",
    "Wsnip_norm = (Wsnip - mean)/sigma\n",
    "t = np.arange(0, tend-tbeg)/fs_final\n",
    "fig, ax = spectral.plot_spectrogram(Wsnip_norm, f, t, colorbar=True)\n",
    "ax.set_xlabel('Time (sec)')\n",
    "ax.set_ylabel('Frequency (Hz)')"
   ],
   "outputs": [
    {
     "output_type": "execute_result",
     "data": {
      "text/plain": [
       "Text(0, 0.5, 'Frequency (Hz)')"
      ]
     },
     "metadata": {},
     "execution_count": 9
    },
    {
     "output_type": "display_data",
     "data": {
      "image/png": "[encoded data removed]",
      "text/plain": [
       "<Figure size 432x288 with 2 Axes>"
      ]
     },
     "metadata": {}
    }
   ],
   "metadata": {}
  },
  {
   "cell_type": "code",
   "execution_count": null,
   "source": [],
   "outputs": [],
   "metadata": {}
  }
 ],
 "metadata": {
  "kernelspec": {
   "name": "python3",
   "display_name": "Python 3.8.5 64-bit ('ecog': conda)"
  },
  "language_info": {
   "codemirror_mode": {
    "name": "ipython",
    "version": 3
   },
   "file_extension": ".py",
   "mimetype": "text/x-python",
   "name": "python",
   "nbconvert_exporter": "python",
   "pygments_lexer": "ipython3",
   "version": "3.8.5"
  },
  "interpreter": {
   "hash": "38c0e808faf8ddf65346ac7af3b9e895db74e1269817767ee5b89841666e29d9"
  }
 },
 "nbformat": 4,
 "nbformat_minor": 5
}