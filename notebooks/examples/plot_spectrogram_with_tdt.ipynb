{
 "cells": [
  {
   "cell_type": "markdown",
   "id": "0e41a005",
   "metadata": {},
   "source": [
    "# Spectral analysis\n",
    "- Load data\n",
    "- Preprocess\n",
    "    - Resample down to 3kHz\n",
    "    - Notch line noise and harmonics\n",
    "    - Reference CAR\n",
    "    - Compute wavelet transform\n",
    "    - Resample down to 400Hz\n",
    "- Plot spectrogram for one channel"
   ]
  },
  {
   "cell_type": "code",
   "execution_count": 3,
   "id": "cfbe7fbc",
   "metadata": {},
   "outputs": [],
   "source": [
    "from laminar_uecog_viz import spectral\n",
    "from process_nwb import resample, linenoise_notch, common_referencing, wavelet_transform\n",
    "from nsds_lab_to_nwb.tools.tdt.tdt_reader import TDTReader\n",
    "import pandas as pd\n",
    "import time\n",
    "import numpy as np\n",
    "import matplotlib as mpl\n",
    "import matplotlib.pyplot as plt\n",
    "import os"
   ]
  },
  {
   "cell_type": "code",
   "execution_count": 4,
   "id": "130b022d",
   "metadata": {},
   "outputs": [],
   "source": [
    "# Plotting parameters\n",
    "mpl.rcParams['figure.facecolor'] = '1'"
   ]
  },
  {
   "cell_type": "markdown",
   "id": "3c26425d",
   "metadata": {},
   "source": [
    "## User defined parameters"
   ]
  },
  {
   "cell_type": "code",
   "execution_count": 5,
   "id": "aaa57bd9",
   "metadata": {},
   "outputs": [],
   "source": [
    "data_path = '/Users/vanessagutierrez/data/Rat/RVG21/RVG21_B11' #path where TDT data lives\n",
    "data_dump_path = os.path.join(data_path, 'preprocessed') #path to dump preprocessed data\n",
    "plot_dump_path = os.path.join(data_path, 'plot') #path to save plots\n",
    "\n",
    "fs = 3200 #intermediate (before wavelet transform) sample rate\n",
    "fs_final = 400 #final sample rate (after wavelet transform)\n",
    "num_ch = 1 #change to -1 for all channels"
   ]
  },
  {
   "cell_type": "code",
   "execution_count": 6,
   "id": "a027480d",
   "metadata": {},
   "outputs": [],
   "source": [
    "if not os.path.exists(data_dump_path):\n",
    "    os.mkdir('{}/preprocessed'.format(data_path))\n",
    "    \n",
    "if not os.path.exists(plot_dump_path):\n",
    "    os.mkdir('{}/plot'.format(data_path))"
   ]
  },
  {
   "cell_type": "markdown",
   "id": "65b2e714",
   "metadata": {},
   "source": [
    "## Load data"
   ]
  },
  {
   "cell_type": "code",
   "execution_count": null,
   "id": "e2ddc93e",
   "metadata": {
    "scrolled": true
   },
   "outputs": [
    {
     "name": "stdout",
     "output_type": "stream",
     "text": [
      "read from t=0s to t=1460.22s\n"
     ]
    }
   ],
   "source": [
    "rec = TDTReader(data_path)\n",
    "data, params = rec.get_data(stream='Wave')\n",
    "print(data.shape, params)"
   ]
  },
  {
   "cell_type": "code",
   "execution_count": 1,
   "id": "873c79fc",
   "metadata": {},
   "outputs": [
    {
     "ename": "NameError",
     "evalue": "name 'data' is not defined",
     "output_type": "error",
     "traceback": [
      "\u001b[0;31m---------------------------------------------------------------------------\u001b[0m",
      "\u001b[0;31mNameError\u001b[0m                                 Traceback (most recent call last)",
      "\u001b[0;32m/var/folders/9g/xldtw14s65x2fxhvrzmjtmwm0000gn/T/ipykernel_35924/3577733739.py\u001b[0m in \u001b[0;36m<module>\u001b[0;34m\u001b[0m\n\u001b[0;32m----> 1\u001b[0;31m \u001b[0mdata\u001b[0m\u001b[0;34m[\u001b[0m\u001b[0;34m:\u001b[0m\u001b[0;34m,\u001b[0m \u001b[0;36m5\u001b[0m\u001b[0;34m]\u001b[0m\u001b[0;34m\u001b[0m\u001b[0;34m\u001b[0m\u001b[0m\n\u001b[0m",
      "\u001b[0;31mNameError\u001b[0m: name 'data' is not defined"
     ]
    }
   ],
   "source": [
    "data[:, 5]"
   ]
  },
  {
   "cell_type": "code",
   "execution_count": 95,
   "id": "5e5b3a0f",
   "metadata": {},
   "outputs": [
    {
     "name": "stdout",
     "output_type": "stream",
     "text": [
      "Number of events: 4800\n"
     ]
    }
   ],
   "source": [
    "# Timestamps where stimulus occurs (correct for 0.25s offset)\n",
    "events = rec.get_events()\n",
    "events += events + 0.25\n",
    "print(f'Number of events: {str(len(events))}')"
   ]
  },
  {
   "cell_type": "markdown",
   "id": "bd505e77",
   "metadata": {},
   "source": [
    "## Preprocess"
   ]
  },
  {
   "cell_type": "code",
   "execution_count": 96,
   "id": "cdd0f022",
   "metadata": {},
   "outputs": [],
   "source": [
    "chs = range(data.shape[1])\n",
    "num_frame = data.shape[0]\n",
    "\n",
    "if num_ch < 0:\n",
    "    num_ch = len(chs)\n",
    "\n",
    "data_proc = resample.resample(data, fs, params['sample_rate'])\n",
    "data_proc = linenoise_notch.apply_linenoise_notch(data_proc, fs)\n",
    "data_proc = common_referencing.subtract_CAR(data_proc)\n",
    "t = np.arange(0, num_frame)/fs\n",
    "\n",
    "data_proc_file = os.path.join(data_dump_path, 'data_proc.npy')\n",
    "np.save(data_proc_file, data_proc)\n",
    "time_file = os.path.join(data_dump_path, 'time.npy')\n",
    "np.save(time_file, t)  "
   ]
  },
  {
   "cell_type": "code",
   "execution_count": 97,
   "id": "4b6c1b8a",
   "metadata": {},
   "outputs": [
    {
     "name": "stdout",
     "output_type": "stream",
     "text": [
      "Starting wavelet transform\n",
      "Wavelet compute time: 122.61s\n",
      "Done preprocessing\n"
     ]
    }
   ],
   "source": [
    "# Calculate wavelet transform\n",
    "for ch in chs[:num_ch]:\n",
    "    t1 = time.time()\n",
    "    print('Starting wavelet transform')\n",
    "    W, _, f, _ = wavelet_transform.wavelet_transform(data_proc[:, ch].reshape((-1, 1)), \n",
    "                                                     fs, filters='rat', hg_only=False)\n",
    "    W = np.float32(abs(W))\n",
    "    W = resample.resample(W, fs_final, fs)\n",
    "    t2 = time.time()\n",
    "    wavelet_file = os.path.join(data_dump_path, f'wavelet_coefs_ch{str(ch)}.npy')\n",
    "    np.save(wavelet_file, W)\n",
    "    print(f'Wavelet compute time: {str(np.round(t2-t1, 2))}s')\n",
    "\n",
    "print('Done preprocessing')"
   ]
  },
  {
   "cell_type": "code",
   "execution_count": 98,
   "id": "dcf8da58",
   "metadata": {},
   "outputs": [],
   "source": [
    "W = np.squeeze(W, axis=1)"
   ]
  },
  {
   "cell_type": "code",
   "execution_count": 99,
   "id": "ab550aa3",
   "metadata": {},
   "outputs": [
    {
     "data": {
      "text/plain": [
       "(584082, 54)"
      ]
     },
     "execution_count": 99,
     "metadata": {},
     "output_type": "execute_result"
    }
   ],
   "source": [
    "W.shape"
   ]
  },
  {
   "cell_type": "markdown",
   "id": "044f42cc",
   "metadata": {},
   "source": [
    "## Plot spectrogram for a 0.5 sec window"
   ]
  },
  {
   "cell_type": "code",
   "execution_count": 132,
   "id": "7cbcada3",
   "metadata": {},
   "outputs": [
    {
     "data": {
      "text/plain": [
       "Text(0.5, 1.0, 'Full_Tone')"
      ]
     },
     "execution_count": 132,
     "metadata": {},
     "output_type": "execute_result"
    },
    {
     "data": {
      "image/png": "[encoded data removed]",
      "text/plain": [
       "<Figure size 432x288 with 2 Axes>"
      ]
     },
     "metadata": {},
     "output_type": "display_data"
    }
   ],
   "source": [
    "tbeg = int(fs_final*19.15)\n",
    "tend = tbeg + int(fs_final*2)\n",
    "Wsnip = W[tbeg:tend, :]\n",
    "mean = np.mean(W, axis=0)\n",
    "sigma = np.std(W, axis=0)\n",
    "Wsnip_norm = (Wsnip - mean)/sigma\n",
    "t = np.arange(0, tend-tbeg)/fs_final\n",
    "fig, ax = spectral.plot_spectrogram(Wsnip_norm, f, t, colorbar=True)\n",
    "ax.set_xlabel('Time (sec)')\n",
    "ax.set_ylabel('Frequency (Hz)')\n",
    "ax.set_title('Full_Tone')"
   ]
  },
  {
   "cell_type": "code",
   "execution_count": null,
   "id": "1d3e47ab",
   "metadata": {},
   "outputs": [],
   "source": []
  }
 ],
 "metadata": {
  "kernelspec": {
   "display_name": "Python 3 (ipykernel)",
   "language": "python",
   "name": "python3"
  },
  "language_info": {
   "codemirror_mode": {
    "name": "ipython",
    "version": 3
   },
   "file_extension": ".py",
   "mimetype": "text/x-python",
   "name": "python",
   "nbconvert_exporter": "python",
   "pygments_lexer": "ipython3",
   "version": "3.8.5"
  }
 },
 "nbformat": 4,
 "nbformat_minor": 5
}
