{
 "cells": [
  {
   "cell_type": "code",
   "execution_count": 64,
   "id": "ee427415",
   "metadata": {},
   "outputs": [],
   "source": [
    "import spectral\n",
    "from process_nwb import resample, linenoise_notch, common_referencing, wavelet_transform\n",
    "import pandas as pd\n",
    "import time\n",
    "import numpy as np\n",
    "import matplotlib as mpl\n",
    "import matplotlib.pyplot as plt\n",
    "import os\n",
    "from pynwb import NWBHDF5IO"
   ]
  },
  {
   "cell_type": "code",
   "execution_count": 65,
   "id": "7a7a54bf",
   "metadata": {},
   "outputs": [],
   "source": [
    "# Plotting parameters\n",
    "mpl.rcParams['figure.facecolor'] = '1'"
   ]
  },
  {
   "cell_type": "markdown",
   "id": "dfa5074a",
   "metadata": {},
   "source": [
    "# Spectral analysis\n",
    "- Load data\n",
    "- Preprocess (if necessary using preprocess_folder.py from process_nwb)\n",
    "    - Resample down to 3200Hz\n",
    "    - Notch line noise and harmonics\n",
    "    - Reference CAR\n",
    "    - Compute wavelet transform\n",
    "    - Resample down to 400Hz\n",
    "- Plot spectrogram for one channel"
   ]
  },
  {
   "cell_type": "markdown",
   "id": "4acd3a10",
   "metadata": {},
   "source": [
    "## User defined parameters"
   ]
  },
  {
   "cell_type": "code",
   "execution_count": 73,
   "id": "3643ec8c",
   "metadata": {},
   "outputs": [],
   "source": [
    "data_path = '/home/jhermiz/data/aer/RVG16/RVG16_B01/RVG16_B01.nwb' #path to nwb file\n",
    "io = NWBHDF5IO(data_path, 'a')\n",
    "nwb = io.read()"
   ]
  },
  {
   "cell_type": "code",
   "execution_count": 74,
   "id": "c220bbba",
   "metadata": {},
   "outputs": [
    {
     "data": {
      "text/plain": [
       "root pynwb.file.NWBFile at 0x140044847068736\n",
       "Fields:\n",
       "  acquisition: {\n",
       "    ECoG <class 'pynwb.ecephys.ElectricalSeries'>\n",
       "  }\n",
       "  devices: {\n",
       "    ECoG <class 'pynwb.device.Device'>\n",
       "  }\n",
       "  electrode_groups: {\n",
       "    ECoG <class 'pynwb.ecephys.ElectrodeGroup'>\n",
       "  }\n",
       "  electrodes: electrodes <class 'hdmf.common.table.DynamicTable'>\n",
       "  experiment_description: This is an acute rat experiment. Auditory stimuli are played to an anesthsized rat and electrophysiological measurements are made auditory cortex\n",
       "  experimenter: ['Vanessa Gutierrez']\n",
       "  file_create_date: [datetime.datetime(2021, 9, 1, 10, 35, 51, 37836, tzinfo=tzoffset(None, -25200))]\n",
       "  identifier: 0d045d16-0b4b-11ec-96d0-ac1f6b76b038\n",
       "  institution: Lawrence Berkeley National Lab\n",
       "  intervals: {\n",
       "    trials <class 'pynwb.epoch.TimeIntervals'>\n",
       "  }\n",
       "  lab: Bouchard Lab\n",
       "  notes: All channels responded except obvious bad channels, some responses were not as spike, maybe due to slight damage to brain\n",
       "  pharmacology: Anesthesized with Ketamine (90 mg/kg induction and 55 mg/kg maintence) and Xyzaline (10 mg/kg induction and 5 mg/kg maintence)\n",
       "  processing: {\n",
       "    preprocessing <class 'pynwb.base.ProcessingModule'>\n",
       "  }\n",
       "  scratch: {\n",
       "    ecog_lat_loc <class 'pynwb.core.ScratchData'>,\n",
       "    ecog_post_loc <class 'pynwb.core.ScratchData'>,\n",
       "    has_ecog <class 'pynwb.core.ScratchData'>,\n",
       "    has_poly <class 'pynwb.core.ScratchData'>,\n",
       "    is_clean_block <class 'pynwb.core.ScratchData'>,\n",
       "    stim_response <class 'pynwb.core.ScratchData'>\n",
       "  }\n",
       "  session_description: White noise\n",
       "  session_id: RVG16_B01\n",
       "  session_start_time: 2021-05-25 11:53:14.999999-07:00\n",
       "  source_script: Created by nsds-lab-to-nwb 0.0.1.dev0 (https://github.com/BouchardLab/nsds_lab_to_nwb) (git@2e4e3ee)\n",
       "  source_script_file_name: nsds-lab-to-nwb\n",
       "  stimulus: {\n",
       "    raw_stimulus <class 'pynwb.base.TimeSeries'>,\n",
       "    recorded_mark <class 'pynwb.base.TimeSeries'>\n",
       "  }\n",
       "  subject: subject pynwb.file.Subject at 0x140044844536976\n",
       "Fields:\n",
       "  description: Charles River\n",
       "  genotype: Wild type\n",
       "  sex: M\n",
       "  species: Sprague Dawley\n",
       "  subject_id: RVG16\n",
       "  weight: 466g\n",
       "\n",
       "  surgery: Right temporal lobe craniotomy w/ durotomy\n",
       "Surgery date: 2021-05-25\n",
       "Surgery time: 08:40:00 (US/Pacific)\n",
       "Surgery notes: Clean window. minimal damage to surface\n",
       "Surgery outcome: Ok\n",
       "  timestamps_reference_time: 2021-05-25 11:53:14.999999-07:00\n",
       "  trials: trials <class 'pynwb.epoch.TimeIntervals'>"
      ]
     },
     "execution_count": 74,
     "metadata": {},
     "output_type": "execute_result"
    }
   ],
   "source": [
    "nwb"
   ]
  },
  {
   "cell_type": "markdown",
   "id": "e9879bd8",
   "metadata": {},
   "source": [
    "## Preprocessed data\n",
    "**If there is no preprocessed data run preprocess_folder.py as shown below**"
   ]
  },
  {
   "cell_type": "code",
   "execution_count": 75,
   "id": "2a28c284",
   "metadata": {},
   "outputs": [],
   "source": [
    "#!python path/to/process_nwb/scripts/preprocess_folder.py path/to/nwb/folder --all_filters"
   ]
  },
  {
   "cell_type": "code",
   "execution_count": 76,
   "id": "82b7435f",
   "metadata": {},
   "outputs": [
    {
     "data": {
      "text/plain": [
       "preprocessing pynwb.base.ProcessingModule at 0x140044844538656\n",
       "Fields:\n",
       "  data_interfaces: {\n",
       "    CAR <class 'pynwb.ecephys.ElectricalSeries'>,\n",
       "    CAR_ln_downsampled_ECoG <class 'pynwb.ecephys.ElectricalSeries'>,\n",
       "    downsampled_ECoG <class 'pynwb.ecephys.ElectricalSeries'>,\n",
       "    wvlt_amp_CAR_ln_downsampled_ECoG <class 'pynwb.misc.DecompositionSeries'>\n",
       "  }\n",
       "  description: Preprocessing."
      ]
     },
     "execution_count": 76,
     "metadata": {},
     "output_type": "execute_result"
    }
   ],
   "source": [
    "nwb.processing['preprocessing']"
   ]
  },
  {
   "cell_type": "code",
   "execution_count": 70,
   "id": "38a8c8f6",
   "metadata": {},
   "outputs": [],
   "source": [
    "# load wavelet data\n",
    "wavelet_di = nwb.processing['preprocessing'].get_data_interface('wvlt_amp_CAR_ln_downsampled_ECoG')\n",
    "Wall = wavelet_di.data\n",
    "f = wavelet_di.bands.band_mean.data\n",
    "fs_final = wavelet_di.rate"
   ]
  },
  {
   "cell_type": "code",
   "execution_count": 71,
   "id": "ec353a5c",
   "metadata": {
    "scrolled": false
   },
   "outputs": [
    {
     "data": {
      "text/plain": [
       "{'resolution': -1.0,\n",
       " 'comments': 'no comments',\n",
       " 'description': 'Wavlet: CAR_lned: Downsampled: This is an acute rat experiment. Auditory stimuli are played to an anesthsized rat and electrophysiological measurements are made auditory cortex. Recordings from ECoG sampled at 12207.031250 Hz. Then resampled down to 12000 Hz',\n",
       " 'conversion': 1.0,\n",
       " 'unit': 'no unit',\n",
       " 'data': <HDF5 dataset \"data\": shape (31139, 128, 54), type \"<f4\">,\n",
       " 'rate': 400.0,\n",
       " 'starting_time': 0.0,\n",
       " 'starting_time_unit': 'seconds',\n",
       " 'source_timeseries': CAR_ln_downsampled_ECoG pynwb.ecephys.ElectricalSeries at 0x140044852925920\n",
       " Fields:\n",
       "   comments: no comments\n",
       "   conversion: 1.0\n",
       "   data: <HDF5 dataset \"data\": shape (249109, 128), type \"<f4\">\n",
       "   description: CAR_lned: Downsampled: This is an acute rat experiment. Auditory stimuli are played to an anesthsized rat and electrophysiological measurements are made auditory cortex. Recordings from ECoG sampled at 12207.031250 Hz. Then resampled down to 12000 Hz\n",
       "   electrodes: electrodes <class 'hdmf.common.table.DynamicTableRegion'>\n",
       "   rate: 3200.0\n",
       "   resolution: -1.0\n",
       "   starting_time: 0.0\n",
       "   starting_time_unit: seconds\n",
       "   unit: volts,\n",
       " 'metric': 'amplitude',\n",
       " 'bands': bands hdmf.common.table.DynamicTable at 0x140044852926736\n",
       " Fields:\n",
       "   colnames: ['band_name' 'band_limits' 'band_mean' 'band_stdev']\n",
       "   columns: (\n",
       "     band_name <class 'hdmf.common.table.VectorData'>,\n",
       "     band_limits <class 'hdmf.common.table.VectorData'>,\n",
       "     band_mean <class 'hdmf.common.table.VectorData'>,\n",
       "     band_stdev <class 'hdmf.common.table.VectorData'>\n",
       "   )\n",
       "   description: data about the frequency bands that the signal was decomposed into\n",
       "   id: id <class 'hdmf.common.table.ElementIdentifiers'>}"
      ]
     },
     "execution_count": 71,
     "metadata": {},
     "output_type": "execute_result"
    }
   ],
   "source": [
    "wavelet_di.fields"
   ]
  },
  {
   "cell_type": "markdown",
   "id": "4dcce29f",
   "metadata": {},
   "source": [
    "## Plot spectrogram for a 0.5 sec window"
   ]
  },
  {
   "cell_type": "code",
   "execution_count": 72,
   "id": "f3f18caf",
   "metadata": {},
   "outputs": [
    {
     "data": {
      "text/plain": [
       "Text(0, 0.5, 'Frequency (Hz)')"
      ]
     },
     "execution_count": 72,
     "metadata": {},
     "output_type": "execute_result"
    },
    {
     "data": {
      "image/png": "[encoded data removed]",
      "text/plain": [
       "<Figure size 432x288 with 2 Axes>"
      ]
     },
     "metadata": {},
     "output_type": "display_data"
    }
   ],
   "source": [
    "W = Wall[:, 0, :]\n",
    "tbeg = int(fs_final*14.35)\n",
    "tend = tbeg + int(fs_final*0.5)\n",
    "Wsnip = W[tbeg:tend, :]\n",
    "mean = np.mean(W, axis=0)\n",
    "sigma = np.std(W, axis=0)\n",
    "Wsnip_norm = (Wsnip - mean)/sigma\n",
    "t = np.arange(0, tend-tbeg)/fs_final\n",
    "fig, ax = spectral.plot_spectrogram(Wsnip_norm, np.array(f), t, colorbar=True)\n",
    "ax.set_xlabel('Time (sec)')\n",
    "ax.set_ylabel('Frequency (Hz)')"
   ]
  }
 ],
 "metadata": {
  "kernelspec": {
   "display_name": "Python 3 (ipykernel)",
   "language": "python",
   "name": "python3"
  },
  "language_info": {
   "codemirror_mode": {
    "name": "ipython",
    "version": 3
   },
   "file_extension": ".py",
   "mimetype": "text/x-python",
   "name": "python",
   "nbconvert_exporter": "python",
   "pygments_lexer": "ipython3",
   "version": "3.8.5"
  }
 },
 "nbformat": 4,
 "nbformat_minor": 5
}
