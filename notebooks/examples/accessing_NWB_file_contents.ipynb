{
 "cells": [
  {
   "cell_type": "markdown",
   "id": "4442ad5b",
   "metadata": {},
   "source": [
    "# Access and inspect NWB file contents"
   ]
  },
  {
   "cell_type": "markdown",
   "id": "ad2e9de8",
   "metadata": {},
   "source": [
    "The purpose of this notebook is to provide a quick reference to the PyNWB syntax for accessing NWB contents. Also see the [NWB tutorial](https://pynwb.readthedocs.io/en/latest/tutorials/index.html)."
   ]
  },
  {
   "cell_type": "code",
   "execution_count": 1,
   "id": "f1d81bd3",
   "metadata": {},
   "outputs": [],
   "source": [
    "import os\n",
    "import pynwb"
   ]
  },
  {
   "cell_type": "code",
   "execution_count": 2,
   "id": "0f79aef7",
   "metadata": {},
   "outputs": [],
   "source": [
    "# specify block\n",
    "animal_name = 'RVG16'\n",
    "block_id = 'B01'"
   ]
  },
  {
   "cell_type": "code",
   "execution_count": 3,
   "id": "eda94720",
   "metadata": {},
   "outputs": [],
   "source": [
    "# specify path where NWB files are saved (this example is on catscan)\n",
    "out_path = '/Users/vanessagutierrez/Desktop/NWB_Test/'"
   ]
  },
  {
   "cell_type": "code",
   "execution_count": 4,
   "id": "895aec81",
   "metadata": {},
   "outputs": [
    {
     "name": "stdout",
     "output_type": "stream",
     "text": [
      "/Users/vanessagutierrez/Desktop/NWB_Test/RVG16/RVG16_B01.nwb\n"
     ]
    }
   ],
   "source": [
    "block_name = f'{animal_name}_{block_id}'\n",
    "nwb_file_name = os.path.join(out_path, animal_name, (block_name + '.nwb'))\n",
    "print(nwb_file_name)"
   ]
  },
  {
   "cell_type": "markdown",
   "id": "6b71da78",
   "metadata": {},
   "source": [
    "Let's take a look at the structure of the entire NWB file. If you print the NWB file object, it shows a summary like this:"
   ]
  },
  {
   "cell_type": "code",
   "execution_count": 9,
   "id": "190eddb8",
   "metadata": {},
   "outputs": [
    {
     "name": "stdout",
     "output_type": "stream",
     "text": [
      "root pynwb.file.NWBFile at 0x140582043013664\n",
      "Fields:\n",
      "  acquisition: {\n",
      "    ECoG <class 'pynwb.ecephys.ElectricalSeries'>\n",
      "  }\n",
      "  devices: {\n",
      "    ECoG <class 'pynwb.device.Device'>\n",
      "  }\n",
      "  electrode_groups: {\n",
      "    ECoG <class 'pynwb.ecephys.ElectrodeGroup'>\n",
      "  }\n",
      "  electrodes: electrodes <class 'hdmf.common.table.DynamicTable'>\n",
      "  experiment_description: This is an acute rat experiment. Auditory stimuli are played to an anesthsized rat and electrophysiological measurements are made auditory cortex\n",
      "  experimenter: ['Vanessa Gutierrez']\n",
      "  file_create_date: [datetime.datetime(2021, 9, 24, 14, 44, 0, 783849, tzinfo=tzoffset(None, -25200))]\n",
      "  identifier: 877def98-1d80-11ec-9acd-aa665a133c20\n",
      "  institution: Lawrence Berkeley National Lab\n",
      "  intervals: {\n",
      "    trials <class 'pynwb.epoch.TimeIntervals'>\n",
      "  }\n",
      "  lab: Bouchard Lab\n",
      "  notes: All channels responded except obvious bad channels, some responses were not as spike, maybe due to slight damage to brain\n",
      "  pharmacology: Anesthesized with Ketamine (90 mg/kg induction and 55 mg/kg maintence) and Xyzaline (10 mg/kg induction and 5 mg/kg maintence)\n",
      "  processing: {\n",
      "    preprocessing <class 'pynwb.base.ProcessingModule'>\n",
      "  }\n",
      "  scratch: {\n",
      "    ecog_lat_loc <class 'pynwb.core.ScratchData'>,\n",
      "    ecog_post_loc <class 'pynwb.core.ScratchData'>,\n",
      "    has_ecog <class 'pynwb.core.ScratchData'>,\n",
      "    has_poly <class 'pynwb.core.ScratchData'>,\n",
      "    is_clean_block <class 'pynwb.core.ScratchData'>,\n",
      "    stim_response <class 'pynwb.core.ScratchData'>\n",
      "  }\n",
      "  session_description: White noise\n",
      "  session_id: RVG16_B01\n",
      "  session_start_time: 2021-05-25 11:53:14.999999-07:00\n",
      "  source_script: Created by nsds-lab-to-nwb 0.0.1.dev0 (https://github.com/BouchardLab/nsds_lab_to_nwb) (git@20e2000)\n",
      "  source_script_file_name: nsds-lab-to-nwb\n",
      "  stimulus: {\n",
      "    stim_onset_marks <class 'pynwb.base.TimeSeries'>,\n",
      "    stim_waveform <class 'pynwb.base.TimeSeries'>\n",
      "  }\n",
      "  subject: subject pynwb.file.Subject at 0x140582044141168\n",
      "Fields:\n",
      "  description: Charles River\n",
      "  genotype: Wild type\n",
      "  sex: M\n",
      "  species: Sprague Dawley\n",
      "  subject_id: RVG16\n",
      "  weight: 466g\n",
      "\n",
      "  surgery: Right temporal lobe craniotomy w/ durotomy\n",
      "Surgery date: 2021-05-25\n",
      "Surgery time: 08:40:00 (US/Pacific)\n",
      "Surgery notes: Clean window. minimal damage to surface\n",
      "Surgery outcome: Ok\n",
      "  timestamps_reference_time: 2021-05-25 11:53:14.999999-07:00\n",
      "  trials: trials <class 'pynwb.epoch.TimeIntervals'>\n",
      "\n"
     ]
    }
   ],
   "source": [
    "# It is a good practice to use the `with` keyword like this,\n",
    "# because it makes sure that the file is always properly closed.\n",
    "with pynwb.NWBHDF5IO(nwb_file_name,'a') as io:\n",
    "    nwbf = io.read()\n",
    "    print(nwbf)"
   ]
  },
  {
   "cell_type": "markdown",
   "id": "56a22c4b",
   "metadata": {},
   "source": [
    "Below, we show how you can access individual parts of the NWB file. We are explicitly opening the file (instead of the `with` syntax as above) to keep the HDF5 stream open. If you ever do this, always REMEMBER TO CLOSE THE FILE by doing `io.close()` at the end!!!"
   ]
  },
  {
   "cell_type": "code",
   "execution_count": 6,
   "id": "c2bbdb9e",
   "metadata": {},
   "outputs": [],
   "source": [
    "io = pynwb.NWBHDF5IO(nwb_file_name,'r')\n",
    "nwbf = io.read()"
   ]
  },
  {
   "cell_type": "code",
   "execution_count": 7,
   "id": "f0cb89c0",
   "metadata": {},
   "outputs": [],
   "source": [
    "# nwbf"
   ]
  },
  {
   "cell_type": "code",
   "execution_count": 10,
   "id": "0a19e8f8",
   "metadata": {},
   "outputs": [
    {
     "data": {
      "text/plain": [
       "{'ECoG': ECoG pynwb.ecephys.ElectricalSeries at 0x140582043014720\n",
       " Fields:\n",
       "   conversion: 1.0\n",
       "   description: This is an acute rat experiment. Auditory stimuli are played to an anesthsized rat and electrophysiological measurements are made auditory cortex. Recordings from ECoG sampled at 12207.031250 Hz.\n",
       "   rate: 12207.03125\n",
       "   resolution: -1.0\n",
       "   starting_time: 0.0\n",
       "   starting_time_unit: seconds\n",
       "   unit: volts}"
      ]
     },
     "execution_count": 10,
     "metadata": {},
     "output_type": "execute_result"
    }
   ],
   "source": [
    "# this is where the neural data are saved\n",
    "nwbf.acquisition"
   ]
  },
  {
   "cell_type": "code",
   "execution_count": 11,
   "id": "859f6352",
   "metadata": {},
   "outputs": [
    {
     "ename": "ValueError",
     "evalue": "Not a dataset (not a dataset)",
     "output_type": "error",
     "traceback": [
      "\u001b[0;31m---------------------------------------------------------------------------\u001b[0m",
      "\u001b[0;31mValueError\u001b[0m                                Traceback (most recent call last)",
      "\u001b[0;32m<ipython-input-11-c7b10a468d80>\u001b[0m in \u001b[0;36m<module>\u001b[0;34m\u001b[0m\n\u001b[1;32m      1\u001b[0m \u001b[0;31m# access relevant subsets of data like this\u001b[0m\u001b[0;34m\u001b[0m\u001b[0;34m\u001b[0m\u001b[0;34m\u001b[0m\u001b[0m\n\u001b[0;32m----> 2\u001b[0;31m \u001b[0mdata_subset\u001b[0m \u001b[0;34m=\u001b[0m \u001b[0mnwbf\u001b[0m\u001b[0;34m.\u001b[0m\u001b[0macquisition\u001b[0m\u001b[0;34m[\u001b[0m\u001b[0;34m'ECoG'\u001b[0m\u001b[0;34m]\u001b[0m\u001b[0;34m.\u001b[0m\u001b[0mdata\u001b[0m\u001b[0;34m[\u001b[0m\u001b[0;34m:\u001b[0m\u001b[0;36m10\u001b[0m\u001b[0;34m,\u001b[0m \u001b[0;34m:\u001b[0m\u001b[0;36m2\u001b[0m\u001b[0;34m]\u001b[0m\u001b[0;34m\u001b[0m\u001b[0;34m\u001b[0m\u001b[0m\n\u001b[0m\u001b[1;32m      3\u001b[0m \u001b[0mprint\u001b[0m\u001b[0;34m(\u001b[0m\u001b[0mdata_subset\u001b[0m\u001b[0;34m.\u001b[0m\u001b[0mshape\u001b[0m\u001b[0;34m)\u001b[0m\u001b[0;34m\u001b[0m\u001b[0;34m\u001b[0m\u001b[0m\n\u001b[1;32m      4\u001b[0m \u001b[0mdata_subset\u001b[0m\u001b[0;34m\u001b[0m\u001b[0;34m\u001b[0m\u001b[0m\n",
      "\u001b[0;32mh5py/_objects.pyx\u001b[0m in \u001b[0;36mh5py._objects.with_phil.wrapper\u001b[0;34m()\u001b[0m\n",
      "\u001b[0;32mh5py/_objects.pyx\u001b[0m in \u001b[0;36mh5py._objects.with_phil.wrapper\u001b[0;34m()\u001b[0m\n",
      "\u001b[0;32m~/opt/anaconda3/lib/python3.8/site-packages/h5py/_hl/dataset.py\u001b[0m in \u001b[0;36m__getitem__\u001b[0;34m(self, args)\u001b[0m\n\u001b[1;32m    487\u001b[0m         \"\"\"\n\u001b[1;32m    488\u001b[0m         \u001b[0margs\u001b[0m \u001b[0;34m=\u001b[0m \u001b[0margs\u001b[0m \u001b[0;32mif\u001b[0m \u001b[0misinstance\u001b[0m\u001b[0;34m(\u001b[0m\u001b[0margs\u001b[0m\u001b[0;34m,\u001b[0m \u001b[0mtuple\u001b[0m\u001b[0;34m)\u001b[0m \u001b[0;32melse\u001b[0m \u001b[0;34m(\u001b[0m\u001b[0margs\u001b[0m\u001b[0;34m,\u001b[0m\u001b[0;34m)\u001b[0m\u001b[0;34m\u001b[0m\u001b[0;34m\u001b[0m\u001b[0m\n\u001b[0;32m--> 489\u001b[0;31m         \u001b[0;32mif\u001b[0m \u001b[0mis_empty_dataspace\u001b[0m\u001b[0;34m(\u001b[0m\u001b[0mself\u001b[0m\u001b[0;34m.\u001b[0m\u001b[0mid\u001b[0m\u001b[0;34m)\u001b[0m\u001b[0;34m:\u001b[0m\u001b[0;34m\u001b[0m\u001b[0;34m\u001b[0m\u001b[0m\n\u001b[0m\u001b[1;32m    490\u001b[0m             \u001b[0;32mif\u001b[0m \u001b[0;32mnot\u001b[0m \u001b[0;34m(\u001b[0m\u001b[0margs\u001b[0m \u001b[0;34m==\u001b[0m \u001b[0mtuple\u001b[0m\u001b[0;34m(\u001b[0m\u001b[0;34m)\u001b[0m \u001b[0;32mor\u001b[0m \u001b[0margs\u001b[0m \u001b[0;34m==\u001b[0m \u001b[0;34m(\u001b[0m\u001b[0mEllipsis\u001b[0m\u001b[0;34m,\u001b[0m\u001b[0;34m)\u001b[0m\u001b[0;34m)\u001b[0m\u001b[0;34m:\u001b[0m\u001b[0;34m\u001b[0m\u001b[0;34m\u001b[0m\u001b[0m\n\u001b[1;32m    491\u001b[0m                 \u001b[0;32mraise\u001b[0m \u001b[0mValueError\u001b[0m\u001b[0;34m(\u001b[0m\u001b[0;34m\"Empty datasets cannot be sliced\"\u001b[0m\u001b[0;34m)\u001b[0m\u001b[0;34m\u001b[0m\u001b[0;34m\u001b[0m\u001b[0m\n",
      "\u001b[0;32m~/opt/anaconda3/lib/python3.8/site-packages/h5py/_hl/base.py\u001b[0m in \u001b[0;36mis_empty_dataspace\u001b[0;34m(obj)\u001b[0m\n\u001b[1;32m     85\u001b[0m \u001b[0;32mdef\u001b[0m \u001b[0mis_empty_dataspace\u001b[0m\u001b[0;34m(\u001b[0m\u001b[0mobj\u001b[0m\u001b[0;34m)\u001b[0m\u001b[0;34m:\u001b[0m\u001b[0;34m\u001b[0m\u001b[0;34m\u001b[0m\u001b[0m\n\u001b[1;32m     86\u001b[0m     \u001b[0;34m\"\"\" Check if an object's dataspace is empty \"\"\"\u001b[0m\u001b[0;34m\u001b[0m\u001b[0;34m\u001b[0m\u001b[0m\n\u001b[0;32m---> 87\u001b[0;31m     \u001b[0;32mif\u001b[0m \u001b[0mobj\u001b[0m\u001b[0;34m.\u001b[0m\u001b[0mget_space\u001b[0m\u001b[0;34m(\u001b[0m\u001b[0;34m)\u001b[0m\u001b[0;34m.\u001b[0m\u001b[0mget_simple_extent_type\u001b[0m\u001b[0;34m(\u001b[0m\u001b[0;34m)\u001b[0m \u001b[0;34m==\u001b[0m \u001b[0mh5s\u001b[0m\u001b[0;34m.\u001b[0m\u001b[0mNULL\u001b[0m\u001b[0;34m:\u001b[0m\u001b[0;34m\u001b[0m\u001b[0;34m\u001b[0m\u001b[0m\n\u001b[0m\u001b[1;32m     88\u001b[0m         \u001b[0;32mreturn\u001b[0m \u001b[0;32mTrue\u001b[0m\u001b[0;34m\u001b[0m\u001b[0;34m\u001b[0m\u001b[0m\n\u001b[1;32m     89\u001b[0m     \u001b[0;32mreturn\u001b[0m \u001b[0;32mFalse\u001b[0m\u001b[0;34m\u001b[0m\u001b[0;34m\u001b[0m\u001b[0m\n",
      "\u001b[0;32mh5py/_objects.pyx\u001b[0m in \u001b[0;36mh5py._objects.with_phil.wrapper\u001b[0;34m()\u001b[0m\n",
      "\u001b[0;32mh5py/_objects.pyx\u001b[0m in \u001b[0;36mh5py._objects.with_phil.wrapper\u001b[0;34m()\u001b[0m\n",
      "\u001b[0;32mh5py/h5d.pyx\u001b[0m in \u001b[0;36mh5py.h5d.DatasetID.get_space\u001b[0;34m()\u001b[0m\n",
      "\u001b[0;31mValueError\u001b[0m: Not a dataset (not a dataset)"
     ]
    }
   ],
   "source": [
    "# access relevant subsets of data like this\n",
    "data_subset = nwbf.acquisition['ECoG'].data[:10, :2]\n",
    "print(data_subset.shape)\n",
    "data_subset"
   ]
  },
  {
   "cell_type": "code",
   "execution_count": 11,
   "id": "6a473d28",
   "metadata": {},
   "outputs": [
    {
     "data": {
      "text/plain": [
       "{'stim_onset_marks': stim_onset_marks pynwb.base.TimeSeries at 0x140269432921632\n",
       " Fields:\n",
       "   comments: no comments\n",
       "   conversion: 1.0\n",
       "   data: <HDF5 dataset \"data\": shape (949248,), type \"<f4\">\n",
       "   description: Recorded mark that tracks stimulus onsets.\n",
       "   rate: 12207.03125\n",
       "   resolution: -1.0\n",
       "   starting_time: 0.0\n",
       "   starting_time_unit: seconds\n",
       "   unit: Volts,\n",
       " 'stim_waveform': stim_waveform pynwb.base.TimeSeries at 0x140269432921680\n",
       " Fields:\n",
       "   comments: no comments\n",
       "   conversion: 1.0\n",
       "   data: <HDF5 dataset \"data\": shape (5760000,), type \"<i2\">\n",
       "   description: Auditory stimulus waveform, aligned to neural recording.\n",
       "   rate: 96000.0\n",
       "   resolution: -1.0\n",
       "   starting_time: 13.0738784\n",
       "   starting_time_unit: seconds\n",
       "   unit: Volts}"
      ]
     },
     "execution_count": 11,
     "metadata": {},
     "output_type": "execute_result"
    }
   ],
   "source": [
    "nwbf.stimulus"
   ]
  },
  {
   "cell_type": "code",
   "execution_count": 12,
   "id": "dc1747bd",
   "metadata": {},
   "outputs": [
    {
     "data": {
      "text/plain": [
       "trials pynwb.epoch.TimeIntervals at 0x140269432921968\n",
       "Fields:\n",
       "  colnames: ['start_time' 'stop_time' 'sb']\n",
       "  columns: (\n",
       "    start_time <class 'hdmf.common.table.VectorData'>,\n",
       "    stop_time <class 'hdmf.common.table.VectorData'>,\n",
       "    sb <class 'hdmf.common.table.VectorData'>\n",
       "  )\n",
       "  description: experimental trials\n",
       "  id: id <class 'hdmf.common.table.ElementIdentifiers'>"
      ]
     },
     "execution_count": 12,
     "metadata": {},
     "output_type": "execute_result"
    }
   ],
   "source": [
    "nwbf.trials"
   ]
  },
  {
   "cell_type": "code",
   "execution_count": 13,
   "id": "c514421d",
   "metadata": {},
   "outputs": [
    {
     "data": {
      "text/html": [
       "<div>\n",
       "<style scoped>\n",
       "    .dataframe tbody tr th:only-of-type {\n",
       "        vertical-align: middle;\n",
       "    }\n",
       "\n",
       "    .dataframe tbody tr th {\n",
       "        vertical-align: top;\n",
       "    }\n",
       "\n",
       "    .dataframe thead th {\n",
       "        text-align: right;\n",
       "    }\n",
       "</style>\n",
       "<table border=\"1\" class=\"dataframe\">\n",
       "  <thead>\n",
       "    <tr style=\"text-align: right;\">\n",
       "      <th></th>\n",
       "      <th>start_time</th>\n",
       "      <th>stop_time</th>\n",
       "      <th>sb</th>\n",
       "    </tr>\n",
       "    <tr>\n",
       "      <th>id</th>\n",
       "      <th></th>\n",
       "      <th></th>\n",
       "      <th></th>\n",
       "    </tr>\n",
       "  </thead>\n",
       "  <tbody>\n",
       "    <tr>\n",
       "      <th>0</th>\n",
       "      <td>13.323878</td>\n",
       "      <td>13.423878</td>\n",
       "      <td>s</td>\n",
       "    </tr>\n",
       "    <tr>\n",
       "      <th>1</th>\n",
       "      <td>13.623878</td>\n",
       "      <td>13.823878</td>\n",
       "      <td>b</td>\n",
       "    </tr>\n",
       "    <tr>\n",
       "      <th>2</th>\n",
       "      <td>14.319534</td>\n",
       "      <td>14.419534</td>\n",
       "      <td>s</td>\n",
       "    </tr>\n",
       "    <tr>\n",
       "      <th>3</th>\n",
       "      <td>14.619534</td>\n",
       "      <td>14.819534</td>\n",
       "      <td>b</td>\n",
       "    </tr>\n",
       "    <tr>\n",
       "      <th>4</th>\n",
       "      <td>15.319572</td>\n",
       "      <td>15.419572</td>\n",
       "      <td>s</td>\n",
       "    </tr>\n",
       "    <tr>\n",
       "      <th>...</th>\n",
       "      <td>...</td>\n",
       "      <td>...</td>\n",
       "      <td>...</td>\n",
       "    </tr>\n",
       "    <tr>\n",
       "      <th>115</th>\n",
       "      <td>70.619800</td>\n",
       "      <td>70.819800</td>\n",
       "      <td>b</td>\n",
       "    </tr>\n",
       "    <tr>\n",
       "      <th>116</th>\n",
       "      <td>71.319798</td>\n",
       "      <td>71.419798</td>\n",
       "      <td>s</td>\n",
       "    </tr>\n",
       "    <tr>\n",
       "      <th>117</th>\n",
       "      <td>71.619798</td>\n",
       "      <td>71.819798</td>\n",
       "      <td>b</td>\n",
       "    </tr>\n",
       "    <tr>\n",
       "      <th>118</th>\n",
       "      <td>72.319795</td>\n",
       "      <td>72.419795</td>\n",
       "      <td>s</td>\n",
       "    </tr>\n",
       "    <tr>\n",
       "      <th>119</th>\n",
       "      <td>72.619795</td>\n",
       "      <td>72.819795</td>\n",
       "      <td>b</td>\n",
       "    </tr>\n",
       "  </tbody>\n",
       "</table>\n",
       "<p>120 rows × 3 columns</p>\n",
       "</div>"
      ],
      "text/plain": [
       "     start_time  stop_time sb\n",
       "id                           \n",
       "0     13.323878  13.423878  s\n",
       "1     13.623878  13.823878  b\n",
       "2     14.319534  14.419534  s\n",
       "3     14.619534  14.819534  b\n",
       "4     15.319572  15.419572  s\n",
       "..          ...        ... ..\n",
       "115   70.619800  70.819800  b\n",
       "116   71.319798  71.419798  s\n",
       "117   71.619798  71.819798  b\n",
       "118   72.319795  72.419795  s\n",
       "119   72.619795  72.819795  b\n",
       "\n",
       "[120 rows x 3 columns]"
      ]
     },
     "execution_count": 13,
     "metadata": {},
     "output_type": "execute_result"
    }
   ],
   "source": [
    "nwbf.trials[:]"
   ]
  },
  {
   "cell_type": "code",
   "execution_count": 13,
   "id": "3d57b2ea",
   "metadata": {},
   "outputs": [
    {
     "data": {
      "text/plain": [
       "{'ECoG': ECoG pynwb.device.Device at 0x140118546438032\n",
       " Fields:\n",
       "   description: 128-ch ECoG from Cortera (ECoG128). serial=R42/R43. acq=TDT-PZM5. n_columns=16, n_rows=8, orientation=R, xspacing=0.2mm, yspacing=0.2mm, prefix=Wave.\n",
       "   manufacturer: Cortera,\n",
       " 'Poly': Poly pynwb.device.Device at 0x140118546437968\n",
       " Fields:\n",
       "   description: 64-ch Poly from Cambridge Neurotech (Camb64). serial=5500. acq=TDT-PZM5. n_columns=2, n_rows=32, orientation=, xspacing=0.0225mm, zspacing=0.045mm, prefix=Poly.\n",
       "   manufacturer: Cambridge Neurotech}"
      ]
     },
     "execution_count": 13,
     "metadata": {},
     "output_type": "execute_result"
    }
   ],
   "source": [
    "nwbf.devices"
   ]
  },
  {
   "cell_type": "code",
   "execution_count": 14,
   "id": "ebd4e7d9",
   "metadata": {},
   "outputs": [
    {
     "data": {
      "text/plain": [
       "{'ECoG': ECoG pynwb.ecephys.ElectrodeGroup at 0x140118546438544\n",
       " Fields:\n",
       "   description: 128-ch ECoG.\n",
       "   device: ECoG pynwb.device.Device at 0x140118546438032\n",
       " Fields:\n",
       "   description: 128-ch ECoG from Cortera (ECoG128). serial=R42/R43. acq=TDT-PZM5. n_columns=16, n_rows=8, orientation=R, xspacing=0.2mm, yspacing=0.2mm, prefix=Wave.\n",
       "   manufacturer: Cortera\n",
       " \n",
       "   location: AUD,\n",
       " 'Poly': Poly pynwb.ecephys.ElectrodeGroup at 0x140118546438480\n",
       " Fields:\n",
       "   description: 64-ch Poly.\n",
       "   device: Poly pynwb.device.Device at 0x140118546437968\n",
       " Fields:\n",
       "   description: 64-ch Poly from Cambridge Neurotech (Camb64). serial=5500. acq=TDT-PZM5. n_columns=2, n_rows=32, orientation=, xspacing=0.0225mm, zspacing=0.045mm, prefix=Poly.\n",
       "   manufacturer: Cambridge Neurotech\n",
       " \n",
       "   location: AUD}"
      ]
     },
     "execution_count": 14,
     "metadata": {},
     "output_type": "execute_result"
    }
   ],
   "source": [
    "nwbf.electrode_groups"
   ]
  },
  {
   "cell_type": "code",
   "execution_count": 15,
   "id": "f70d1db4",
   "metadata": {},
   "outputs": [
    {
     "data": {
      "text/plain": [
       "electrodes hdmf.common.table.DynamicTable at 0x140118546397200\n",
       "Fields:\n",
       "  colnames: ['x' 'y' 'z' 'imp' 'location' 'filtering' 'group' 'group_name' 'rel_x'\n",
       " 'rel_y' 'rel_z']\n",
       "  columns: (\n",
       "    x <class 'hdmf.common.table.VectorData'>,\n",
       "    y <class 'hdmf.common.table.VectorData'>,\n",
       "    z <class 'hdmf.common.table.VectorData'>,\n",
       "    imp <class 'hdmf.common.table.VectorData'>,\n",
       "    location <class 'hdmf.common.table.VectorData'>,\n",
       "    filtering <class 'hdmf.common.table.VectorData'>,\n",
       "    group <class 'hdmf.common.table.VectorData'>,\n",
       "    group_name <class 'hdmf.common.table.VectorData'>,\n",
       "    rel_x <class 'hdmf.common.table.VectorData'>,\n",
       "    rel_y <class 'hdmf.common.table.VectorData'>,\n",
       "    rel_z <class 'hdmf.common.table.VectorData'>\n",
       "  )\n",
       "  description: metadata about extracellular electrodes\n",
       "  id: id <class 'hdmf.common.table.ElementIdentifiers'>"
      ]
     },
     "execution_count": 15,
     "metadata": {},
     "output_type": "execute_result"
    }
   ],
   "source": [
    "nwbf.electrodes"
   ]
  },
  {
   "cell_type": "code",
   "execution_count": 16,
   "id": "dcf44e86",
   "metadata": {},
   "outputs": [
    {
     "data": {
      "text/html": [
       "<div>\n",
       "<style scoped>\n",
       "    .dataframe tbody tr th:only-of-type {\n",
       "        vertical-align: middle;\n",
       "    }\n",
       "\n",
       "    .dataframe tbody tr th {\n",
       "        vertical-align: top;\n",
       "    }\n",
       "\n",
       "    .dataframe thead th {\n",
       "        text-align: right;\n",
       "    }\n",
       "</style>\n",
       "<table border=\"1\" class=\"dataframe\">\n",
       "  <thead>\n",
       "    <tr style=\"text-align: right;\">\n",
       "      <th></th>\n",
       "      <th>x</th>\n",
       "      <th>y</th>\n",
       "      <th>z</th>\n",
       "      <th>imp</th>\n",
       "      <th>location</th>\n",
       "      <th>filtering</th>\n",
       "      <th>group</th>\n",
       "      <th>group_name</th>\n",
       "      <th>rel_x</th>\n",
       "      <th>rel_y</th>\n",
       "      <th>rel_z</th>\n",
       "    </tr>\n",
       "    <tr>\n",
       "      <th>id</th>\n",
       "      <th></th>\n",
       "      <th></th>\n",
       "      <th></th>\n",
       "      <th></th>\n",
       "      <th></th>\n",
       "      <th></th>\n",
       "      <th></th>\n",
       "      <th></th>\n",
       "      <th></th>\n",
       "      <th></th>\n",
       "      <th></th>\n",
       "    </tr>\n",
       "  </thead>\n",
       "  <tbody>\n",
       "    <tr>\n",
       "      <th>0</th>\n",
       "      <td>NaN</td>\n",
       "      <td>NaN</td>\n",
       "      <td>NaN</td>\n",
       "      <td>NaN</td>\n",
       "      <td>AUD</td>\n",
       "      <td>The signal is low pass filtered at 45 percent ...</td>\n",
       "      <td>ECoG pynwb.ecephys.ElectrodeGroup at 0x1401185...</td>\n",
       "      <td>ECoG</td>\n",
       "      <td>3000.0</td>\n",
       "      <td>800.0</td>\n",
       "      <td>0.0</td>\n",
       "    </tr>\n",
       "    <tr>\n",
       "      <th>1</th>\n",
       "      <td>NaN</td>\n",
       "      <td>NaN</td>\n",
       "      <td>NaN</td>\n",
       "      <td>NaN</td>\n",
       "      <td>AUD</td>\n",
       "      <td>The signal is low pass filtered at 45 percent ...</td>\n",
       "      <td>ECoG pynwb.ecephys.ElectrodeGroup at 0x1401185...</td>\n",
       "      <td>ECoG</td>\n",
       "      <td>2600.0</td>\n",
       "      <td>800.0</td>\n",
       "      <td>0.0</td>\n",
       "    </tr>\n",
       "  </tbody>\n",
       "</table>\n",
       "</div>"
      ],
      "text/plain": [
       "     x   y   z  imp location  \\\n",
       "id                             \n",
       "0  NaN NaN NaN  NaN      AUD   \n",
       "1  NaN NaN NaN  NaN      AUD   \n",
       "\n",
       "                                            filtering  \\\n",
       "id                                                      \n",
       "0   The signal is low pass filtered at 45 percent ...   \n",
       "1   The signal is low pass filtered at 45 percent ...   \n",
       "\n",
       "                                                group group_name   rel_x  \\\n",
       "id                                                                         \n",
       "0   ECoG pynwb.ecephys.ElectrodeGroup at 0x1401185...       ECoG  3000.0   \n",
       "1   ECoG pynwb.ecephys.ElectrodeGroup at 0x1401185...       ECoG  2600.0   \n",
       "\n",
       "    rel_y  rel_z  \n",
       "id                \n",
       "0   800.0    0.0  \n",
       "1   800.0    0.0  "
      ]
     },
     "execution_count": 16,
     "metadata": {},
     "output_type": "execute_result"
    }
   ],
   "source": [
    "nwbf.electrodes[:2]"
   ]
  },
  {
   "cell_type": "code",
   "execution_count": 13,
   "id": "cca3db14",
   "metadata": {},
   "outputs": [],
   "source": [
    "io.close()  # remember to close!"
   ]
  },
  {
   "cell_type": "code",
   "execution_count": null,
   "id": "2c0a3d1c",
   "metadata": {},
   "outputs": [],
   "source": []
  }
 ],
 "metadata": {
  "kernelspec": {
   "display_name": "Python 3 (ipykernel)",
   "language": "python",
   "name": "python3"
  },
  "language_info": {
   "codemirror_mode": {
    "name": "ipython",
    "version": 3
   },
   "file_extension": ".py",
   "mimetype": "text/x-python",
   "name": "python",
   "nbconvert_exporter": "python",
   "pygments_lexer": "ipython3",
   "version": "3.8.5"
  }
 },
 "nbformat": 4,
 "nbformat_minor": 5
}
