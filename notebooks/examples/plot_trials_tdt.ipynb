{
 "cells": [
  {
   "cell_type": "code",
   "execution_count": 1,
   "id": "2cfb4a70",
   "metadata": {},
   "outputs": [],
   "source": [
    "from laminar_uecog_viz import data_reader as dr\n",
    "from laminar_uecog_viz import utils\n",
    "from laminar_uecog_viz import plot_trials"
   ]
  },
  {
   "cell_type": "code",
   "execution_count": 2,
   "id": "bbef7e82",
   "metadata": {},
   "outputs": [],
   "source": [
    "data_directory = r'/Users/vanessagutierrez/data/Rat/RVG13/RVG13_B04'\n",
    "stream = 'Wave'\n",
    "stimulus = 'wn2' #stimulus names according to stimulus_yamls folder"
   ]
  },
  {
   "cell_type": "code",
   "execution_count": 3,
   "id": "c139dce9",
   "metadata": {},
   "outputs": [],
   "source": [
    "#ECoG channel order\n",
    "channel_order = [\n",
    "        81, 83, 85, 87, 89, 91, 93, 95, 97, 105, 98, 106, 114, 122, 113, 121,\n",
    "        82, 84, 86, 88, 90, 92, 94, 96, 99, 107, 100, 108, 116, 124, 115, 123,\n",
    "        66, 68, 70, 72, 74, 76, 78, 80, 101, 109, 102, 110, 118, 126, 117, 125,\n",
    "        65, 67, 69, 71, 73, 75, 77, 79, 103, 111, 104, 112, 120, 128, 119, 127,\n",
    "        63, 61, 59, 57, 55, 53, 51, 49, 25, 17, 26, 18, 10, 2, 9, 1,\n",
    "        64, 62, 60, 58, 56, 54, 52, 50, 27, 19, 28, 20, 12, 4, 11, 3,\n",
    "        48, 46, 44, 42, 40, 38, 36, 34, 29, 21, 30, 22, 14, 6, 13, 5,\n",
    "        47, 45, 43, 41, 39, 37, 35, 33, 31, 23, 32, 24, 16, 8, 15, 7\n",
    "        ]\n",
    "\n",
    "#Polytrode channel order\n",
    "# channel_order = [ \n",
    "#                     21, 3, \n",
    "#                     23, 5, \n",
    "#                     24, 7, \n",
    "#                     30, 9, \n",
    "#                     29, 11, \n",
    "#                     16, 13, \n",
    "#                     18, 15, \n",
    "#                     20, 31, \n",
    "#                     27, 14, \n",
    "#                     19, 12, \n",
    "#                     17, 10, \n",
    "#                     25, 8, \n",
    "#                     26, 6, \n",
    "#                     32, 4, \n",
    "#                     28, 2, \n",
    "#                     22, 64, \n",
    "#                     1, 62, \n",
    "#                     58, 60, \n",
    "#                     54, 56, \n",
    "#                     50, 52,\n",
    "#                     51, 34, \n",
    "#                     55, 53, \n",
    "#                     59, 57, \n",
    "#                     63, 61, \n",
    "#                     42, 44, \n",
    "#                     35, 41, \n",
    "#                     49, 36, \n",
    "#                     45, 47, \n",
    "#                     46, 38, \n",
    "#                     40, 48, \n",
    "#                     33, 39, \n",
    "#                     43, 37,\n",
    "#                     ]"
   ]
  },
  {
   "cell_type": "code",
   "execution_count": 6,
   "id": "15aa245f",
   "metadata": {},
   "outputs": [
    {
     "ename": "FileNotFoundError",
     "evalue": "[Errno 2] No such file or directory: 'stimulus_yamls/wn2.yaml'",
     "output_type": "error",
     "traceback": [
      "\u001b[0;31m---------------------------------------------------------------------------\u001b[0m",
      "\u001b[0;31mFileNotFoundError\u001b[0m                         Traceback (most recent call last)",
      "\u001b[0;32m/var/folders/9g/xldtw14s65x2fxhvrzmjtmwm0000gn/T/ipykernel_36953/1429693487.py\u001b[0m in \u001b[0;36m<module>\u001b[0;34m\u001b[0m\n\u001b[0;32m----> 1\u001b[0;31m \u001b[0mrd\u001b[0m \u001b[0;34m=\u001b[0m \u001b[0mdr\u001b[0m\u001b[0;34m.\u001b[0m\u001b[0mdata_reader\u001b[0m\u001b[0;34m(\u001b[0m\u001b[0mdata_directory\u001b[0m\u001b[0;34m,\u001b[0m \u001b[0mstream\u001b[0m\u001b[0;34m,\u001b[0m \u001b[0mstimulus\u001b[0m\u001b[0;34m)\u001b[0m\u001b[0;34m\u001b[0m\u001b[0;34m\u001b[0m\u001b[0m\n\u001b[0m\u001b[1;32m      2\u001b[0m \u001b[0;34m\u001b[0m\u001b[0m\n\u001b[1;32m      3\u001b[0m \u001b[0msignal_data\u001b[0m\u001b[0;34m,\u001b[0m \u001b[0mfs\u001b[0m\u001b[0;34m,\u001b[0m \u001b[0mstim_markers\u001b[0m\u001b[0;34m,\u001b[0m \u001b[0manimal_block\u001b[0m \u001b[0;34m=\u001b[0m \u001b[0mrd\u001b[0m\u001b[0;34m.\u001b[0m\u001b[0mget_data\u001b[0m\u001b[0;34m(\u001b[0m\u001b[0;34m)\u001b[0m\u001b[0;34m\u001b[0m\u001b[0;34m\u001b[0m\u001b[0m\n\u001b[1;32m      4\u001b[0m \u001b[0;34m\u001b[0m\u001b[0m\n\u001b[1;32m      5\u001b[0m \u001b[0mmarker_onsets\u001b[0m\u001b[0;34m,\u001b[0m \u001b[0mstim_duration\u001b[0m \u001b[0;34m=\u001b[0m \u001b[0mrd\u001b[0m\u001b[0;34m.\u001b[0m\u001b[0mget_stim_onsets\u001b[0m\u001b[0;34m(\u001b[0m\u001b[0;34m)\u001b[0m\u001b[0;34m\u001b[0m\u001b[0;34m\u001b[0m\u001b[0m\n",
      "\u001b[0;32m~/laminar_uecog_viz/laminar_uecog_viz/data_reader.py\u001b[0m in \u001b[0;36m__init__\u001b[0;34m(self, data_directory, stream, stimulus)\u001b[0m\n\u001b[1;32m     39\u001b[0m             \u001b[0;32mreturn\u001b[0m \u001b[0mstim_doc\u001b[0m\u001b[0;34m\u001b[0m\u001b[0;34m\u001b[0m\u001b[0m\n\u001b[1;32m     40\u001b[0m \u001b[0;34m\u001b[0m\u001b[0m\n\u001b[0;32m---> 41\u001b[0;31m         \u001b[0mself\u001b[0m\u001b[0;34m.\u001b[0m\u001b[0mstim_doc\u001b[0m \u001b[0;34m=\u001b[0m \u001b[0mopen_yaml\u001b[0m\u001b[0;34m(\u001b[0m\u001b[0mstimulus\u001b[0m\u001b[0;34m)\u001b[0m\u001b[0;34m\u001b[0m\u001b[0;34m\u001b[0m\u001b[0m\n\u001b[0m\u001b[1;32m     42\u001b[0m \u001b[0;34m\u001b[0m\u001b[0m\n\u001b[1;32m     43\u001b[0m \u001b[0;34m\u001b[0m\u001b[0m\n",
      "\u001b[0;32m~/laminar_uecog_viz/laminar_uecog_viz/data_reader.py\u001b[0m in \u001b[0;36mopen_yaml\u001b[0;34m(stimulus)\u001b[0m\n\u001b[1;32m     35\u001b[0m \u001b[0;34m\u001b[0m\u001b[0m\n\u001b[1;32m     36\u001b[0m         \u001b[0;32mdef\u001b[0m \u001b[0mopen_yaml\u001b[0m\u001b[0;34m(\u001b[0m\u001b[0mstimulus\u001b[0m\u001b[0;34m)\u001b[0m\u001b[0;34m:\u001b[0m\u001b[0;34m\u001b[0m\u001b[0;34m\u001b[0m\u001b[0m\n\u001b[0;32m---> 37\u001b[0;31m             \u001b[0;32mwith\u001b[0m \u001b[0mopen\u001b[0m\u001b[0;34m(\u001b[0m\u001b[0;34m'stimulus_yamls/{}.yaml'\u001b[0m\u001b[0;34m.\u001b[0m\u001b[0mformat\u001b[0m\u001b[0;34m(\u001b[0m\u001b[0mstimulus\u001b[0m\u001b[0;34m)\u001b[0m\u001b[0;34m,\u001b[0m \u001b[0;34m'r'\u001b[0m\u001b[0;34m)\u001b[0m \u001b[0;32mas\u001b[0m \u001b[0mfile\u001b[0m\u001b[0;34m:\u001b[0m\u001b[0;34m\u001b[0m\u001b[0;34m\u001b[0m\u001b[0m\n\u001b[0m\u001b[1;32m     38\u001b[0m                 \u001b[0mstim_doc\u001b[0m \u001b[0;34m=\u001b[0m \u001b[0myaml\u001b[0m\u001b[0;34m.\u001b[0m\u001b[0mfull_load\u001b[0m\u001b[0;34m(\u001b[0m\u001b[0mfile\u001b[0m\u001b[0;34m)\u001b[0m\u001b[0;34m\u001b[0m\u001b[0;34m\u001b[0m\u001b[0m\n\u001b[1;32m     39\u001b[0m             \u001b[0;32mreturn\u001b[0m \u001b[0mstim_doc\u001b[0m\u001b[0;34m\u001b[0m\u001b[0;34m\u001b[0m\u001b[0m\n",
      "\u001b[0;31mFileNotFoundError\u001b[0m: [Errno 2] No such file or directory: 'stimulus_yamls/wn2.yaml'"
     ]
    }
   ],
   "source": [
    "rd = dr.data_reader(data_directory, stream, stimulus)\n",
    "\n",
    "signal_data, fs, stim_markers, animal_block = rd.get_data()\n",
    "\n",
    "marker_onsets, stim_duration = rd.get_stim_onsets()"
   ]
  },
  {
   "cell_type": "code",
   "execution_count": null,
   "id": "38cd5197",
   "metadata": {},
   "outputs": [],
   "source": [
    "trials_dict = utils.get_all_trials_matrices(signal_data, marker_onsets, channel_order)"
   ]
  },
  {
   "cell_type": "code",
   "execution_count": null,
   "id": "f5561716",
   "metadata": {},
   "outputs": [],
   "source": [
    "plot_trials.plot_trials(trials_dict, fs, 3, stream)"
   ]
  },
  {
   "cell_type": "code",
   "execution_count": null,
   "id": "9cf65b71",
   "metadata": {},
   "outputs": [],
   "source": [
    "plot_trials.plot_trials_matrix(trials_dict, fs, channel_order, stream)"
   ]
  }
 ],
 "metadata": {
  "kernelspec": {
   "display_name": "Python 3 (ipykernel)",
   "language": "python",
   "name": "python3"
  },
  "language_info": {
   "codemirror_mode": {
    "name": "ipython",
    "version": 3
   },
   "file_extension": ".py",
   "mimetype": "text/x-python",
   "name": "python",
   "nbconvert_exporter": "python",
   "pygments_lexer": "ipython3",
   "version": "3.8.5"
  }
 },
 "nbformat": 4,
 "nbformat_minor": 5
}
