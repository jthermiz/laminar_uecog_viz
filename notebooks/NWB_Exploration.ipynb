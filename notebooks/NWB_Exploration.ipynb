{
 "cells": [
  {
   "cell_type": "markdown",
   "metadata": {},
   "source": [
    "# NWB exploration"
   ]
  },
  {
   "cell_type": "code",
   "execution_count": 1,
   "metadata": {},
   "outputs": [],
   "source": [
    "from pynwb import NWBHDF5IO\n",
    "import numpy as np "
   ]
  },
  {
   "cell_type": "code",
   "execution_count": 8,
   "metadata": {},
   "outputs": [],
   "source": [
    "#change pathway as needed\n",
    "io = NWBHDF5IO('/Users/vanessagutierrez/Desktop/NWB_Test/RVG21/RVG21_B02.nwb', 'r')\n",
    "nwb = io.read()"
   ]
  },
  {
   "cell_type": "code",
   "execution_count": 9,
   "metadata": {
    "scrolled": true
   },
   "outputs": [
    {
     "data": {
      "text/plain": [
       "root pynwb.file.NWBFile at 0x140628934884416\n",
       "Fields:\n",
       "  acquisition: {\n",
       "    ECoG <class 'pynwb.ecephys.ElectricalSeries'>\n",
       "  }\n",
       "  devices: {\n",
       "    ECoG <class 'pynwb.device.Device'>\n",
       "  }\n",
       "  electrode_groups: {\n",
       "    ECoG <class 'pynwb.ecephys.ElectrodeGroup'>\n",
       "  }\n",
       "  electrodes: electrodes <class 'hdmf.common.table.DynamicTable'>\n",
       "  experiment_description: This is an acute rat experiment. Auditory stimuli are played to an anesthsized rat and electrophysiological measurements are made auditory cortex\n",
       "  experimenter: ['Vanessa Gutierrez']\n",
       "  file_create_date: [datetime.datetime(2021, 9, 7, 14, 35, 56, 402889, tzinfo=tzoffset(None, -25200))]\n",
       "  identifier: 95c18458-1023-11ec-b0f0-aa665a133c20\n",
       "  institution: Lawrence Berkeley National Lab\n",
       "  intervals: {\n",
       "    trials <class 'pynwb.epoch.TimeIntervals'>\n",
       "  }\n",
       "  lab: Bouchard Lab\n",
       "  notes: All channels responsed! couple of bad channels, lots of 60Hz due to PZ5 being on, injected ketamine 13 mins before\n",
       "  pharmacology: Anesthesized with Ketamine (90 mg/kg induction and 55 mg/kg maintence) and Xyzaline (10 mg/kg induction and 5 mg/kg maintence)\n",
       "  scratch: {\n",
       "    ecog_lat_loc <class 'pynwb.core.ScratchData'>,\n",
       "    ecog_placement <class 'pynwb.core.ScratchData'>,\n",
       "    ecog_post_loc <class 'pynwb.core.ScratchData'>,\n",
       "    has_ecog <class 'pynwb.core.ScratchData'>,\n",
       "    has_poly <class 'pynwb.core.ScratchData'>,\n",
       "    is_clean_block <class 'pynwb.core.ScratchData'>,\n",
       "    stim_response <class 'pynwb.core.ScratchData'>\n",
       "  }\n",
       "  session_description: Tone diagnostic\n",
       "  session_id: RVG21_B02\n",
       "  session_start_time: 2021-06-30 12:39:52.999999-07:00\n",
       "  source_script: Created by nsds-lab-to-nwb 0.0.1.dev0 (https://github.com/BouchardLab/nsds_lab_to_nwb) (git@f6ab42b)\n",
       "  source_script_file_name: nsds-lab-to-nwb\n",
       "  stimulus: {\n",
       "    stim_onset_marks <class 'pynwb.base.TimeSeries'>,\n",
       "    stim_waveform <class 'pynwb.base.TimeSeries'>\n",
       "  }\n",
       "  subject: subject pynwb.file.Subject at 0x140628935868080\n",
       "Fields:\n",
       "  description: Charles River\n",
       "  genotype: Wild type\n",
       "  sex: M\n",
       "  species: Sprague Dawley\n",
       "  subject_id: RVG21\n",
       "  weight: 216g\n",
       "\n",
       "  surgery: Right temporal lobe craniotomy w/ durotomy\n",
       "Surgery date: 2021-06-30\n",
       "Surgery time: 08:30:00 (US/Pacific)\n",
       "Surgery notes: Clean window. No damage during durotomy although while placing the grid, it damaged center of window. Animal needs a lot of ketamine\n",
       "Surgery outcome: Good\n",
       "  timestamps_reference_time: 2021-06-30 12:39:52.999999-07:00\n",
       "  trials: trials <class 'pynwb.epoch.TimeIntervals'>"
      ]
     },
     "execution_count": 9,
     "metadata": {},
     "output_type": "execute_result"
    }
   ],
   "source": [
    "nwb"
   ]
  },
  {
   "cell_type": "code",
   "execution_count": 139,
   "metadata": {},
   "outputs": [],
   "source": [
    "nwb_signal_data = nwb.acquisition['ECoG'].data[:]"
   ]
  },
  {
   "cell_type": "code",
   "execution_count": 137,
   "metadata": {},
   "outputs": [
    {
     "data": {
      "text/plain": [
       "array([ 1731.07346602,  1404.92890931,  1515.16066544, ...,\n",
       "       -4128.9488449 , -4073.24806302, -4088.56527452])"
      ]
     },
     "execution_count": 137,
     "metadata": {},
     "output_type": "execute_result"
    }
   ],
   "source": [
    "nwb.acquisition['ECoG'].data[:].T[0]"
   ]
  },
  {
   "cell_type": "code",
   "execution_count": 64,
   "metadata": {},
   "outputs": [],
   "source": [
    "trials_df = nwb.trials[:]"
   ]
  },
  {
   "cell_type": "code",
   "execution_count": 65,
   "metadata": {},
   "outputs": [
    {
     "data": {
      "text/html": [
       "<div>\n",
       "<style scoped>\n",
       "    .dataframe tbody tr th:only-of-type {\n",
       "        vertical-align: middle;\n",
       "    }\n",
       "\n",
       "    .dataframe tbody tr th {\n",
       "        vertical-align: top;\n",
       "    }\n",
       "\n",
       "    .dataframe thead th {\n",
       "        text-align: right;\n",
       "    }\n",
       "</style>\n",
       "<table border=\"1\" class=\"dataframe\">\n",
       "  <thead>\n",
       "    <tr style=\"text-align: right;\">\n",
       "      <th></th>\n",
       "      <th>start_time</th>\n",
       "      <th>stop_time</th>\n",
       "      <th>sb</th>\n",
       "      <th>frq</th>\n",
       "      <th>amp</th>\n",
       "    </tr>\n",
       "    <tr>\n",
       "      <th>id</th>\n",
       "      <th></th>\n",
       "      <th></th>\n",
       "      <th></th>\n",
       "      <th></th>\n",
       "      <th></th>\n",
       "    </tr>\n",
       "  </thead>\n",
       "  <tbody>\n",
       "    <tr>\n",
       "      <th>0</th>\n",
       "      <td>0.000000</td>\n",
       "      <td>7.930483</td>\n",
       "      <td>b</td>\n",
       "      <td>500.0</td>\n",
       "      <td>6.0</td>\n",
       "    </tr>\n",
       "    <tr>\n",
       "      <th>1</th>\n",
       "      <td>7.980483</td>\n",
       "      <td>8.030483</td>\n",
       "      <td>s</td>\n",
       "      <td>500</td>\n",
       "      <td>6</td>\n",
       "    </tr>\n",
       "    <tr>\n",
       "      <th>2</th>\n",
       "      <td>8.080483</td>\n",
       "      <td>8.160483</td>\n",
       "      <td>b</td>\n",
       "      <td>500</td>\n",
       "      <td>6</td>\n",
       "    </tr>\n",
       "    <tr>\n",
       "      <th>3</th>\n",
       "      <td>8.280515</td>\n",
       "      <td>8.330515</td>\n",
       "      <td>s</td>\n",
       "      <td>3175</td>\n",
       "      <td>6</td>\n",
       "    </tr>\n",
       "    <tr>\n",
       "      <th>4</th>\n",
       "      <td>8.380515</td>\n",
       "      <td>8.460515</td>\n",
       "      <td>b</td>\n",
       "      <td>3175</td>\n",
       "      <td>6</td>\n",
       "    </tr>\n",
       "    <tr>\n",
       "      <th>...</th>\n",
       "      <td>...</td>\n",
       "      <td>...</td>\n",
       "      <td>...</td>\n",
       "      <td>...</td>\n",
       "      <td>...</td>\n",
       "    </tr>\n",
       "    <tr>\n",
       "      <th>597</th>\n",
       "      <td>97.380925</td>\n",
       "      <td>97.430925</td>\n",
       "      <td>s</td>\n",
       "      <td>20159</td>\n",
       "      <td>4</td>\n",
       "    </tr>\n",
       "    <tr>\n",
       "      <th>598</th>\n",
       "      <td>97.480925</td>\n",
       "      <td>97.560925</td>\n",
       "      <td>b</td>\n",
       "      <td>20159</td>\n",
       "      <td>4</td>\n",
       "    </tr>\n",
       "    <tr>\n",
       "      <th>599</th>\n",
       "      <td>97.680916</td>\n",
       "      <td>97.730916</td>\n",
       "      <td>s</td>\n",
       "      <td>2000</td>\n",
       "      <td>6</td>\n",
       "    </tr>\n",
       "    <tr>\n",
       "      <th>600</th>\n",
       "      <td>97.780916</td>\n",
       "      <td>97.860916</td>\n",
       "      <td>b</td>\n",
       "      <td>2000</td>\n",
       "      <td>6</td>\n",
       "    </tr>\n",
       "    <tr>\n",
       "      <th>601</th>\n",
       "      <td>97.860916</td>\n",
       "      <td>101.669929</td>\n",
       "      <td>b</td>\n",
       "      <td>2000</td>\n",
       "      <td>6</td>\n",
       "    </tr>\n",
       "  </tbody>\n",
       "</table>\n",
       "<p>602 rows × 5 columns</p>\n",
       "</div>"
      ],
      "text/plain": [
       "     start_time   stop_time sb    frq  amp\n",
       "id                                        \n",
       "0      0.000000    7.930483  b  500.0  6.0\n",
       "1      7.980483    8.030483  s    500    6\n",
       "2      8.080483    8.160483  b    500    6\n",
       "3      8.280515    8.330515  s   3175    6\n",
       "4      8.380515    8.460515  b   3175    6\n",
       "..          ...         ... ..    ...  ...\n",
       "597   97.380925   97.430925  s  20159    4\n",
       "598   97.480925   97.560925  b  20159    4\n",
       "599   97.680916   97.730916  s   2000    6\n",
       "600   97.780916   97.860916  b   2000    6\n",
       "601   97.860916  101.669929  b   2000    6\n",
       "\n",
       "[602 rows x 5 columns]"
      ]
     },
     "execution_count": 65,
     "metadata": {},
     "output_type": "execute_result"
    }
   ],
   "source": [
    "trials_df"
   ]
  },
  {
   "cell_type": "code",
   "execution_count": 66,
   "metadata": {},
   "outputs": [
    {
     "data": {
      "text/plain": [
       "id\n",
       "1       7.980483\n",
       "3       8.280515\n",
       "5       8.580506\n",
       "7       8.880497\n",
       "9       9.180488\n",
       "         ...    \n",
       "591    96.480911\n",
       "593    96.780902\n",
       "595    97.080934\n",
       "597    97.380925\n",
       "599    97.680916\n",
       "Name: start_time, Length: 300, dtype: float64"
      ]
     },
     "execution_count": 66,
     "metadata": {},
     "output_type": "execute_result"
    }
   ],
   "source": [
    "trials_df[['start_time', 'sb']].loc[trials_df['sb'].str.contains('s')]['start_time'][:]"
   ]
  },
  {
   "cell_type": "code",
   "execution_count": 42,
   "metadata": {},
   "outputs": [
    {
     "data": {
      "text/plain": [
       "array([ 0.        ,  7.98048256,  8.08048256,  8.28051456,  8.38051456,\n",
       "        8.5805056 ,  8.6805056 ,  8.88049664,  8.98049664,  9.18048768,\n",
       "        9.28048768,  9.48051968,  9.58051968,  9.78051072,  9.88051072,\n",
       "       10.08050176, 10.18050176, 10.3804928 , 10.4804928 , 10.6805248 ,\n",
       "       10.7805248 , 10.98051584, 11.08051584, 11.28050688, 11.38050688,\n",
       "       11.58049792, 11.68049792, 11.88052992, 11.98052992, 12.18052096,\n",
       "       12.28052096, 12.480512  , 12.580512  , 12.78050304, 12.88050304,\n",
       "       13.08053504, 13.18053504, 13.38052608, 13.48052608, 13.68051712,\n",
       "       13.78051712, 13.98050816, 14.08050816, 14.28054016, 14.38054016,\n",
       "       14.5805312 , 14.6805312 , 14.88052224, 14.98052224, 15.18051328,\n",
       "       15.28051328, 15.48054528, 15.58054528, 15.78053632, 15.88053632,\n",
       "       16.08052736, 16.18052736, 16.3805184 , 16.4805184 , 16.6805504 ,\n",
       "       16.7805504 , 16.98054144, 17.08054144, 17.28053248, 17.38053248,\n",
       "       17.58052352, 17.68052352, 17.88055552, 17.98055552, 18.18054656,\n",
       "       18.28054656, 18.4805376 , 18.5805376 , 18.78052864, 18.88052864,\n",
       "       19.08056064, 19.18056064, 19.38055168, 19.48055168, 19.68054272,\n",
       "       19.78054272, 19.98053376, 20.08053376, 20.28056576, 20.38056576,\n",
       "       20.5805568 , 20.6805568 , 20.88054784, 20.98054784, 21.18053888,\n",
       "       21.28053888, 21.48057088, 21.58057088, 21.78056192, 21.88056192,\n",
       "       22.08055296, 22.18055296, 22.380544  , 22.480544  , 22.680576  ,\n",
       "       22.780576  , 22.98056704, 23.08056704, 23.28055808, 23.38055808,\n",
       "       23.58054912, 23.68054912, 23.88058112, 23.98058112, 24.18057216,\n",
       "       24.28057216, 24.4805632 , 24.5805632 , 24.78055424, 24.88055424,\n",
       "       25.08058624, 25.18058624, 25.38057728, 25.48057728, 25.68056832,\n",
       "       25.78056832, 25.98055936, 26.08055936, 26.28059136, 26.38059136,\n",
       "       26.5805824 , 26.6805824 , 26.88057344, 26.98057344, 27.18056448,\n",
       "       27.28056448, 27.48059648, 27.58059648, 27.78058752, 27.88058752,\n",
       "       28.08057856, 28.18057856, 28.3805696 , 28.4805696 , 28.6806016 ,\n",
       "       28.7806016 , 28.98059264, 29.08059264, 29.28058368, 29.38058368,\n",
       "       29.58057472, 29.68057472, 29.88060672, 29.98060672, 30.18059776,\n",
       "       30.28059776, 30.4805888 , 30.5805888 , 30.78057984, 30.88057984,\n",
       "       31.08061184, 31.18061184, 31.38060288, 31.48060288, 31.68059392,\n",
       "       31.78059392, 31.98058496, 32.08058496, 32.28061696, 32.38061696,\n",
       "       32.580608  , 32.680608  , 32.88059904, 32.98059904, 33.18063104,\n",
       "       33.28063104, 33.48062208, 33.58062208, 33.78061312, 33.88061312,\n",
       "       34.08060416, 34.18060416, 34.38063616, 34.48063616, 34.6806272 ,\n",
       "       34.7806272 , 34.98061824, 35.08061824, 35.28060928, 35.38060928,\n",
       "       35.58064128, 35.68064128, 35.88063232, 35.98063232, 36.18062336,\n",
       "       36.28062336, 36.4806144 , 36.5806144 , 36.7806464 , 36.8806464 ,\n",
       "       37.08063744, 37.18063744, 37.38062848, 37.48062848, 37.68061952,\n",
       "       37.78061952, 37.98065152, 38.08065152, 38.28064256, 38.38064256,\n",
       "       38.5806336 , 38.6806336 , 38.88062464, 38.98062464, 39.18065664,\n",
       "       39.28065664, 39.48064768, 39.58064768, 39.78063872, 39.88063872,\n",
       "       40.08062976, 40.18062976, 40.38066176, 40.48066176, 40.6806528 ,\n",
       "       40.7806528 , 40.98064384, 41.08064384, 41.28063488, 41.38063488,\n",
       "       41.58066688, 41.68066688, 41.88065792, 41.98065792, 42.18064896,\n",
       "       42.28064896, 42.48064   , 42.58064   , 42.780672  , 42.880672  ,\n",
       "       43.08066304, 43.18066304, 43.38065408, 43.48065408, 43.68064512,\n",
       "       43.78064512, 43.98067712, 44.08067712, 44.28066816, 44.38066816,\n",
       "       44.5806592 , 44.6806592 , 44.88065024, 44.98065024, 45.18068224,\n",
       "       45.28068224, 45.48067328, 45.58067328, 45.78066432, 45.88066432,\n",
       "       46.08065536, 46.18065536, 46.38068736, 46.48068736, 46.6806784 ,\n",
       "       46.7806784 , 46.98066944, 47.08066944, 47.28066048, 47.38066048,\n",
       "       47.58069248, 47.68069248, 47.88068352, 47.98068352, 48.18067456,\n",
       "       48.28067456, 48.4806656 , 48.5806656 , 48.7806976 , 48.8806976 ,\n",
       "       49.08068864, 49.18068864, 49.38067968, 49.48067968, 49.68067072,\n",
       "       49.78067072, 49.98070272, 50.08070272, 50.28069376, 50.38069376,\n",
       "       50.5806848 , 50.6806848 , 50.88067584, 50.98067584, 51.18070784,\n",
       "       51.28070784, 51.48069888, 51.58069888, 51.78068992, 51.88068992,\n",
       "       52.08068096, 52.18068096, 52.38071296, 52.48071296, 52.680704  ,\n",
       "       52.780704  , 52.98069504, 53.08069504, 53.28068608, 53.38068608,\n",
       "       53.58071808, 53.68071808, 53.88070912, 53.98070912, 54.18070016,\n",
       "       54.28070016, 54.4806912 , 54.5806912 , 54.7807232 , 54.8807232 ,\n",
       "       55.08071424, 55.18071424, 55.38070528, 55.48070528, 55.68073728,\n",
       "       55.78073728, 55.98072832, 56.08072832, 56.28071936, 56.38071936,\n",
       "       56.5807104 , 56.6807104 , 56.8807424 , 56.9807424 , 57.18073344,\n",
       "       57.28073344, 57.48072448, 57.58072448, 57.78071552, 57.88071552,\n",
       "       58.08074752, 58.18074752, 58.38073856, 58.48073856, 58.6807296 ,\n",
       "       58.7807296 , 58.98072064, 59.08072064, 59.28075264, 59.38075264,\n",
       "       59.58074368, 59.68074368, 59.88073472, 59.98073472, 60.18072576,\n",
       "       60.28072576, 60.48075776, 60.58075776, 60.7807488 , 60.8807488 ,\n",
       "       61.08073984, 61.18073984, 61.38073088, 61.48073088, 61.68076288,\n",
       "       61.78076288, 61.98075392, 62.08075392, 62.28074496, 62.38074496,\n",
       "       62.580736  , 62.680736  , 62.880768  , 62.980768  , 63.18075904,\n",
       "       63.28075904, 63.48075008, 63.58075008, 63.78074112, 63.88074112,\n",
       "       64.08077312, 64.18077312, 64.38076416, 64.48076416, 64.6807552 ,\n",
       "       64.7807552 , 64.98074624, 65.08074624, 65.28077824, 65.38077824,\n",
       "       65.58076928, 65.68076928, 65.88076032, 65.98076032, 66.18075136,\n",
       "       66.28075136, 66.48078336, 66.58078336, 66.7807744 , 66.8807744 ,\n",
       "       67.08076544, 67.18076544, 67.38075648, 67.48075648, 67.68078848,\n",
       "       67.78078848, 67.98077952, 68.08077952, 68.28077056, 68.38077056,\n",
       "       68.5807616 , 68.6807616 , 68.8807936 , 68.9807936 , 69.18078464,\n",
       "       69.28078464, 69.48077568, 69.58077568, 69.78076672, 69.88076672,\n",
       "       70.08079872, 70.18079872, 70.38078976, 70.48078976, 70.6807808 ,\n",
       "       70.7807808 , 70.98077184, 71.08077184, 71.28080384, 71.38080384,\n",
       "       71.58079488, 71.68079488, 71.88078592, 71.98078592, 72.18077696,\n",
       "       72.28077696, 72.48080896, 72.58080896, 72.7808    , 72.8808    ,\n",
       "       73.08079104, 73.18079104, 73.38078208, 73.48078208, 73.68081408,\n",
       "       73.78081408, 73.98080512, 74.08080512, 74.28079616, 74.38079616,\n",
       "       74.5807872 , 74.6807872 , 74.8808192 , 74.9808192 , 75.18081024,\n",
       "       75.28081024, 75.48080128, 75.58080128, 75.78079232, 75.88079232,\n",
       "       76.08082432, 76.18082432, 76.38081536, 76.48081536, 76.6808064 ,\n",
       "       76.7808064 , 76.9808384 , 77.0808384 , 77.28082944, 77.38082944,\n",
       "       77.58082048, 77.68082048, 77.88081152, 77.98081152, 78.18084352,\n",
       "       78.28084352, 78.48083456, 78.58083456, 78.7808256 , 78.8808256 ,\n",
       "       79.08081664, 79.18081664, 79.38084864, 79.48084864, 79.68083968,\n",
       "       79.78083968, 79.98083072, 80.08083072, 80.28082176, 80.38082176,\n",
       "       80.58085376, 80.68085376, 80.8808448 , 80.9808448 , 81.18083584,\n",
       "       81.28083584, 81.48082688, 81.58082688, 81.78085888, 81.88085888,\n",
       "       82.08084992, 82.18084992, 82.38084096, 82.48084096, 82.680832  ,\n",
       "       82.780832  , 82.980864  , 83.080864  , 83.28085504, 83.38085504,\n",
       "       83.58084608, 83.68084608, 83.88083712, 83.98083712, 84.18086912,\n",
       "       84.28086912, 84.48086016, 84.58086016, 84.7808512 , 84.8808512 ,\n",
       "       85.08084224, 85.18084224, 85.38087424, 85.48087424, 85.68086528,\n",
       "       85.78086528, 85.98085632, 86.08085632, 86.28084736, 86.38084736,\n",
       "       86.58087936, 86.68087936, 86.8808704 , 86.9808704 , 87.18086144,\n",
       "       87.28086144, 87.48085248, 87.58085248, 87.78088448, 87.88088448,\n",
       "       88.08087552, 88.18087552, 88.38086656, 88.48086656, 88.6808576 ,\n",
       "       88.7808576 , 88.9808896 , 89.0808896 , 89.28088064, 89.38088064,\n",
       "       89.58087168, 89.68087168, 89.88086272, 89.98086272, 90.18089472,\n",
       "       90.28089472, 90.48088576, 90.58088576, 90.7808768 , 90.8808768 ,\n",
       "       91.08086784, 91.18086784, 91.38089984, 91.48089984, 91.68089088,\n",
       "       91.78089088, 91.98088192, 92.08088192, 92.28087296, 92.38087296,\n",
       "       92.58090496, 92.68090496, 92.880896  , 92.980896  , 93.18088704,\n",
       "       93.28088704, 93.48087808, 93.58087808, 93.78091008, 93.88091008,\n",
       "       94.08090112, 94.18090112, 94.38089216, 94.48089216, 94.6808832 ,\n",
       "       94.7808832 , 94.9809152 , 95.0809152 , 95.28090624, 95.38090624,\n",
       "       95.58089728, 95.68089728, 95.88092928, 95.98092928, 96.18092032,\n",
       "       96.28092032, 96.48091136, 96.58091136, 96.7809024 , 96.8809024 ,\n",
       "       97.0809344 , 97.1809344 , 97.38092544, 97.48092544, 97.68091648,\n",
       "       97.78091648, 97.86091648])"
      ]
     },
     "execution_count": 42,
     "metadata": {},
     "output_type": "execute_result"
    }
   ],
   "source": [
    "nwb.intervals['trials']['start_time'][:]"
   ]
  },
  {
   "cell_type": "code",
   "execution_count": 35,
   "metadata": {},
   "outputs": [
    {
     "data": {
      "text/plain": [
       "(1239166, 128)"
      ]
     },
     "execution_count": 35,
     "metadata": {},
     "output_type": "execute_result"
    }
   ],
   "source": [
    "nwbfile_in.acquisition['ECoG'].data[:].shape"
   ]
  },
  {
   "cell_type": "code",
   "execution_count": 36,
   "metadata": {},
   "outputs": [
    {
     "data": {
      "text/plain": [
       "{'stim_onset_marks': stim_onset_marks pynwb.base.TimeSeries at 0x140628039993712\n",
       " Fields:\n",
       "   comments: no comments\n",
       "   conversion: 1.0\n",
       "   data: <HDF5 dataset \"data\": shape (1261568,), type \"<f4\">\n",
       "   description: Recorded mark that tracks stimulus onsets.\n",
       "   rate: 12207.03125\n",
       "   resolution: -1.0\n",
       "   starting_time: 0.0\n",
       "   starting_time_unit: seconds\n",
       "   unit: Volts,\n",
       " 'stim_waveform': stim_waveform pynwb.base.TimeSeries at 0x140628039993184\n",
       " Fields:\n",
       "   comments: no comments\n",
       "   conversion: 1.0\n",
       "   data: <HDF5 dataset \"data\": shape (4800248,), type \"<i2\">\n",
       "   description: Auditory stimulus waveform, aligned to neural recording.\n",
       "   rate: 48000.0\n",
       "   resolution: -1.0\n",
       "   starting_time: 2.74766592\n",
       "   starting_time_unit: seconds\n",
       "   unit: Volts}"
      ]
     },
     "execution_count": 36,
     "metadata": {},
     "output_type": "execute_result"
    }
   ],
   "source": [
    "nwbfile_in.stimulus"
   ]
  },
  {
   "cell_type": "code",
   "execution_count": 37,
   "metadata": {},
   "outputs": [
    {
     "data": {
      "text/plain": [
       "stim_onset_marks pynwb.base.TimeSeries at 0x140628039993712\n",
       "Fields:\n",
       "  comments: no comments\n",
       "  conversion: 1.0\n",
       "  data: <HDF5 dataset \"data\": shape (1261568,), type \"<f4\">\n",
       "  description: Recorded mark that tracks stimulus onsets.\n",
       "  rate: 12207.03125\n",
       "  resolution: -1.0\n",
       "  starting_time: 0.0\n",
       "  starting_time_unit: seconds\n",
       "  unit: Volts"
      ]
     },
     "execution_count": 37,
     "metadata": {},
     "output_type": "execute_result"
    }
   ],
   "source": [
    "nwbfile_in.stimulus['stim_onset_marks']"
   ]
  },
  {
   "cell_type": "code",
   "execution_count": 38,
   "metadata": {
    "scrolled": true
   },
   "outputs": [
    {
     "data": {
      "text/plain": [
       "stim_waveform pynwb.base.TimeSeries at 0x140628039993184\n",
       "Fields:\n",
       "  comments: no comments\n",
       "  conversion: 1.0\n",
       "  data: <HDF5 dataset \"data\": shape (4800248,), type \"<i2\">\n",
       "  description: Auditory stimulus waveform, aligned to neural recording.\n",
       "  rate: 48000.0\n",
       "  resolution: -1.0\n",
       "  starting_time: 2.74766592\n",
       "  starting_time_unit: seconds\n",
       "  unit: Volts"
      ]
     },
     "execution_count": 38,
     "metadata": {},
     "output_type": "execute_result"
    }
   ],
   "source": [
    "nwbfile_in.stimulus['stim_waveform']"
   ]
  },
  {
   "cell_type": "code",
   "execution_count": 39,
   "metadata": {},
   "outputs": [],
   "source": [
    "device = 'Poly'"
   ]
  },
  {
   "cell_type": "code",
   "execution_count": 40,
   "metadata": {},
   "outputs": [
    {
     "data": {
      "text/plain": [
       "array(['ECoG', 'ECoG', 'ECoG', 'ECoG', 'ECoG', 'ECoG', 'ECoG', 'ECoG',\n",
       "       'ECoG', 'ECoG', 'ECoG', 'ECoG', 'ECoG', 'ECoG', 'ECoG', 'ECoG',\n",
       "       'ECoG', 'ECoG', 'ECoG', 'ECoG', 'ECoG', 'ECoG', 'ECoG', 'ECoG',\n",
       "       'ECoG', 'ECoG', 'ECoG', 'ECoG', 'ECoG', 'ECoG', 'ECoG', 'ECoG',\n",
       "       'ECoG', 'ECoG', 'ECoG', 'ECoG', 'ECoG', 'ECoG', 'ECoG', 'ECoG',\n",
       "       'ECoG', 'ECoG', 'ECoG', 'ECoG', 'ECoG', 'ECoG', 'ECoG', 'ECoG',\n",
       "       'ECoG', 'ECoG', 'ECoG', 'ECoG', 'ECoG', 'ECoG', 'ECoG', 'ECoG',\n",
       "       'ECoG', 'ECoG', 'ECoG', 'ECoG', 'ECoG', 'ECoG', 'ECoG', 'ECoG',\n",
       "       'ECoG', 'ECoG', 'ECoG', 'ECoG', 'ECoG', 'ECoG', 'ECoG', 'ECoG',\n",
       "       'ECoG', 'ECoG', 'ECoG', 'ECoG', 'ECoG', 'ECoG', 'ECoG', 'ECoG',\n",
       "       'ECoG', 'ECoG', 'ECoG', 'ECoG', 'ECoG', 'ECoG', 'ECoG', 'ECoG',\n",
       "       'ECoG', 'ECoG', 'ECoG', 'ECoG', 'ECoG', 'ECoG', 'ECoG', 'ECoG',\n",
       "       'ECoG', 'ECoG', 'ECoG', 'ECoG', 'ECoG', 'ECoG', 'ECoG', 'ECoG',\n",
       "       'ECoG', 'ECoG', 'ECoG', 'ECoG', 'ECoG', 'ECoG', 'ECoG', 'ECoG',\n",
       "       'ECoG', 'ECoG', 'ECoG', 'ECoG', 'ECoG', 'ECoG', 'ECoG', 'ECoG',\n",
       "       'ECoG', 'ECoG', 'ECoG', 'ECoG', 'ECoG', 'ECoG', 'ECoG', 'ECoG',\n",
       "       'Poly', 'Poly', 'Poly', 'Poly', 'Poly', 'Poly', 'Poly', 'Poly',\n",
       "       'Poly', 'Poly', 'Poly', 'Poly', 'Poly', 'Poly', 'Poly', 'Poly',\n",
       "       'Poly', 'Poly', 'Poly', 'Poly', 'Poly', 'Poly', 'Poly', 'Poly',\n",
       "       'Poly', 'Poly', 'Poly', 'Poly', 'Poly', 'Poly', 'Poly', 'Poly',\n",
       "       'Poly', 'Poly', 'Poly', 'Poly', 'Poly', 'Poly', 'Poly', 'Poly',\n",
       "       'Poly', 'Poly', 'Poly', 'Poly', 'Poly', 'Poly', 'Poly', 'Poly',\n",
       "       'Poly', 'Poly', 'Poly', 'Poly', 'Poly', 'Poly', 'Poly', 'Poly',\n",
       "       'Poly', 'Poly', 'Poly', 'Poly', 'Poly', 'Poly', 'Poly', 'Poly'],\n",
       "      dtype=object)"
      ]
     },
     "execution_count": 40,
     "metadata": {},
     "output_type": "execute_result"
    }
   ],
   "source": [
    "nwbfile_in.electrodes['group_name'].data[:]"
   ]
  },
  {
   "cell_type": "code",
   "execution_count": 41,
   "metadata": {
    "scrolled": true
   },
   "outputs": [],
   "source": [
    "device_idx = nwbfile_in.electrodes.group_name.data[:] == device"
   ]
  },
  {
   "cell_type": "code",
   "execution_count": 42,
   "metadata": {},
   "outputs": [
    {
     "data": {
      "text/plain": [
       "array([False, False, False, False, False, False, False, False, False,\n",
       "       False, False, False, False, False, False, False, False, False,\n",
       "       False, False, False, False, False, False, False, False, False,\n",
       "       False, False, False, False, False, False, False, False, False,\n",
       "       False, False, False, False, False, False, False, False, False,\n",
       "       False, False, False, False, False, False, False, False, False,\n",
       "       False, False, False, False, False, False, False, False, False,\n",
       "       False, False, False, False, False, False, False, False, False,\n",
       "       False, False, False, False, False, False, False, False, False,\n",
       "       False, False, False, False, False, False, False, False, False,\n",
       "       False, False, False, False, False, False, False, False, False,\n",
       "       False, False, False, False, False, False, False, False, False,\n",
       "       False, False, False, False, False, False, False, False, False,\n",
       "       False, False, False, False, False, False, False, False, False,\n",
       "       False, False,  True,  True,  True,  True,  True,  True,  True,\n",
       "        True,  True,  True,  True,  True,  True,  True,  True,  True,\n",
       "        True,  True,  True,  True,  True,  True,  True,  True,  True,\n",
       "        True,  True,  True,  True,  True,  True,  True,  True,  True,\n",
       "        True,  True,  True,  True,  True,  True,  True,  True,  True,\n",
       "        True,  True,  True,  True,  True,  True,  True,  True,  True,\n",
       "        True,  True,  True,  True,  True,  True,  True,  True,  True,\n",
       "        True,  True,  True])"
      ]
     },
     "execution_count": 42,
     "metadata": {},
     "output_type": "execute_result"
    }
   ],
   "source": [
    "device_idx"
   ]
  },
  {
   "cell_type": "code",
   "execution_count": 47,
   "metadata": {},
   "outputs": [
    {
     "data": {
      "text/plain": [
       "array(['AUD', 'AUD', 'AUD', 'AUD', 'AUD', 'AUD', 'AUD', 'AUD', 'AUD',\n",
       "       'AUD', 'AUD', 'AUD', 'AUD', 'AUD', 'AUD', 'AUD', 'AUD', 'AUD',\n",
       "       'AUD', 'AUD', 'AUD', 'AUD', 'AUD', 'AUD', 'AUD', 'AUD', 'AUD',\n",
       "       'AUD', 'AUD', 'AUD', 'AUD', 'AUD', 'AUD', 'AUD', 'AUD', 'AUD',\n",
       "       'AUD', 'AUD', 'AUD', 'AUD', 'AUD', 'AUD', 'AUD', 'AUD', 'AUD',\n",
       "       'AUD', 'AUD', 'AUD', 'AUD', 'AUD', 'AUD', 'AUD', 'AUD', 'AUD',\n",
       "       'AUD', 'AUD', 'AUD', 'AUD', 'AUD', 'AUD', 'AUD', 'AUD', 'AUD',\n",
       "       'AUD'], dtype=object)"
      ]
     },
     "execution_count": 47,
     "metadata": {},
     "output_type": "execute_result"
    }
   ],
   "source": [
    "nwbfile_in.electrodes['location'].data[device_idx]"
   ]
  },
  {
   "cell_type": "code",
   "execution_count": 46,
   "metadata": {},
   "outputs": [
    {
     "ename": "ValueError",
     "evalue": "invalid literal for int() with base 10: 'AUD'",
     "output_type": "error",
     "traceback": [
      "\u001b[0;31m---------------------------------------------------------------------------\u001b[0m",
      "\u001b[0;31mValueError\u001b[0m                                Traceback (most recent call last)",
      "\u001b[0;32m<ipython-input-46-f772505f34fb>\u001b[0m in \u001b[0;36m<module>\u001b[0;34m\u001b[0m\n\u001b[0;32m----> 1\u001b[0;31m \u001b[0mch_ids\u001b[0m \u001b[0;34m=\u001b[0m \u001b[0mnp\u001b[0m\u001b[0;34m.\u001b[0m\u001b[0marray\u001b[0m\u001b[0;34m(\u001b[0m\u001b[0;34m[\u001b[0m\u001b[0mint\u001b[0m\u001b[0;34m(\u001b[0m\u001b[0mch\u001b[0m\u001b[0;34m)\u001b[0m \u001b[0;32mfor\u001b[0m \u001b[0mch\u001b[0m \u001b[0;32min\u001b[0m \u001b[0mnwbfile_in\u001b[0m\u001b[0;34m.\u001b[0m\u001b[0melectrodes\u001b[0m\u001b[0;34m[\u001b[0m\u001b[0;34m'location'\u001b[0m\u001b[0;34m]\u001b[0m\u001b[0;34m.\u001b[0m\u001b[0mdata\u001b[0m\u001b[0;34m[\u001b[0m\u001b[0mdevice_idx\u001b[0m\u001b[0;34m]\u001b[0m\u001b[0;34m]\u001b[0m\u001b[0;34m)\u001b[0m\u001b[0;34m\u001b[0m\u001b[0;34m\u001b[0m\u001b[0m\n\u001b[0m",
      "\u001b[0;32m<ipython-input-46-f772505f34fb>\u001b[0m in \u001b[0;36m<listcomp>\u001b[0;34m(.0)\u001b[0m\n\u001b[0;32m----> 1\u001b[0;31m \u001b[0mch_ids\u001b[0m \u001b[0;34m=\u001b[0m \u001b[0mnp\u001b[0m\u001b[0;34m.\u001b[0m\u001b[0marray\u001b[0m\u001b[0;34m(\u001b[0m\u001b[0;34m[\u001b[0m\u001b[0mint\u001b[0m\u001b[0;34m(\u001b[0m\u001b[0mch\u001b[0m\u001b[0;34m)\u001b[0m \u001b[0;32mfor\u001b[0m \u001b[0mch\u001b[0m \u001b[0;32min\u001b[0m \u001b[0mnwbfile_in\u001b[0m\u001b[0;34m.\u001b[0m\u001b[0melectrodes\u001b[0m\u001b[0;34m[\u001b[0m\u001b[0;34m'location'\u001b[0m\u001b[0;34m]\u001b[0m\u001b[0;34m.\u001b[0m\u001b[0mdata\u001b[0m\u001b[0;34m[\u001b[0m\u001b[0mdevice_idx\u001b[0m\u001b[0;34m]\u001b[0m\u001b[0;34m]\u001b[0m\u001b[0;34m)\u001b[0m\u001b[0;34m\u001b[0m\u001b[0;34m\u001b[0m\u001b[0m\n\u001b[0m",
      "\u001b[0;31mValueError\u001b[0m: invalid literal for int() with base 10: 'AUD'"
     ]
    }
   ],
   "source": [
    "ch_ids = np.array([int(ch) for ch in nwbfile_in.electrodes['location'].data[device_idx]])"
   ]
  },
  {
   "cell_type": "code",
   "execution_count": 5,
   "metadata": {},
   "outputs": [
    {
     "data": {
      "text/html": [
       "<div>\n",
       "<style scoped>\n",
       "    .dataframe tbody tr th:only-of-type {\n",
       "        vertical-align: middle;\n",
       "    }\n",
       "\n",
       "    .dataframe tbody tr th {\n",
       "        vertical-align: top;\n",
       "    }\n",
       "\n",
       "    .dataframe thead th {\n",
       "        text-align: right;\n",
       "    }\n",
       "</style>\n",
       "<table border=\"1\" class=\"dataframe\">\n",
       "  <thead>\n",
       "    <tr style=\"text-align: right;\">\n",
       "      <th></th>\n",
       "      <th>x</th>\n",
       "      <th>y</th>\n",
       "      <th>z</th>\n",
       "      <th>imp</th>\n",
       "      <th>location</th>\n",
       "      <th>filtering</th>\n",
       "      <th>group</th>\n",
       "      <th>group_name</th>\n",
       "      <th>rel_x</th>\n",
       "      <th>rel_y</th>\n",
       "      <th>rel_z</th>\n",
       "    </tr>\n",
       "    <tr>\n",
       "      <th>id</th>\n",
       "      <th></th>\n",
       "      <th></th>\n",
       "      <th></th>\n",
       "      <th></th>\n",
       "      <th></th>\n",
       "      <th></th>\n",
       "      <th></th>\n",
       "      <th></th>\n",
       "      <th></th>\n",
       "      <th></th>\n",
       "      <th></th>\n",
       "    </tr>\n",
       "  </thead>\n",
       "  <tbody>\n",
       "    <tr>\n",
       "      <th>0</th>\n",
       "      <td>NaN</td>\n",
       "      <td>NaN</td>\n",
       "      <td>NaN</td>\n",
       "      <td>NaN</td>\n",
       "      <td>AUD</td>\n",
       "      <td>The signal is low pass filtered at 45 percent ...</td>\n",
       "      <td>ECoG pynwb.ecephys.ElectrodeGroup at 0x1406289...</td>\n",
       "      <td>ECoG</td>\n",
       "      <td>3000.0</td>\n",
       "      <td>800.0</td>\n",
       "      <td>0.0</td>\n",
       "    </tr>\n",
       "    <tr>\n",
       "      <th>1</th>\n",
       "      <td>NaN</td>\n",
       "      <td>NaN</td>\n",
       "      <td>NaN</td>\n",
       "      <td>NaN</td>\n",
       "      <td>AUD</td>\n",
       "      <td>The signal is low pass filtered at 45 percent ...</td>\n",
       "      <td>ECoG pynwb.ecephys.ElectrodeGroup at 0x1406289...</td>\n",
       "      <td>ECoG</td>\n",
       "      <td>2600.0</td>\n",
       "      <td>800.0</td>\n",
       "      <td>0.0</td>\n",
       "    </tr>\n",
       "    <tr>\n",
       "      <th>2</th>\n",
       "      <td>NaN</td>\n",
       "      <td>NaN</td>\n",
       "      <td>NaN</td>\n",
       "      <td>NaN</td>\n",
       "      <td>AUD</td>\n",
       "      <td>The signal is low pass filtered at 45 percent ...</td>\n",
       "      <td>ECoG pynwb.ecephys.ElectrodeGroup at 0x1406289...</td>\n",
       "      <td>ECoG</td>\n",
       "      <td>3000.0</td>\n",
       "      <td>1000.0</td>\n",
       "      <td>0.0</td>\n",
       "    </tr>\n",
       "    <tr>\n",
       "      <th>3</th>\n",
       "      <td>NaN</td>\n",
       "      <td>NaN</td>\n",
       "      <td>NaN</td>\n",
       "      <td>NaN</td>\n",
       "      <td>AUD</td>\n",
       "      <td>The signal is low pass filtered at 45 percent ...</td>\n",
       "      <td>ECoG pynwb.ecephys.ElectrodeGroup at 0x1406289...</td>\n",
       "      <td>ECoG</td>\n",
       "      <td>2600.0</td>\n",
       "      <td>1000.0</td>\n",
       "      <td>0.0</td>\n",
       "    </tr>\n",
       "    <tr>\n",
       "      <th>4</th>\n",
       "      <td>NaN</td>\n",
       "      <td>NaN</td>\n",
       "      <td>NaN</td>\n",
       "      <td>NaN</td>\n",
       "      <td>AUD</td>\n",
       "      <td>The signal is low pass filtered at 45 percent ...</td>\n",
       "      <td>ECoG pynwb.ecephys.ElectrodeGroup at 0x1406289...</td>\n",
       "      <td>ECoG</td>\n",
       "      <td>3000.0</td>\n",
       "      <td>1200.0</td>\n",
       "      <td>0.0</td>\n",
       "    </tr>\n",
       "    <tr>\n",
       "      <th>...</th>\n",
       "      <td>...</td>\n",
       "      <td>...</td>\n",
       "      <td>...</td>\n",
       "      <td>...</td>\n",
       "      <td>...</td>\n",
       "      <td>...</td>\n",
       "      <td>...</td>\n",
       "      <td>...</td>\n",
       "      <td>...</td>\n",
       "      <td>...</td>\n",
       "      <td>...</td>\n",
       "    </tr>\n",
       "    <tr>\n",
       "      <th>123</th>\n",
       "      <td>NaN</td>\n",
       "      <td>NaN</td>\n",
       "      <td>NaN</td>\n",
       "      <td>NaN</td>\n",
       "      <td>AUD</td>\n",
       "      <td>The signal is low pass filtered at 45 percent ...</td>\n",
       "      <td>ECoG pynwb.ecephys.ElectrodeGroup at 0x1406289...</td>\n",
       "      <td>ECoG</td>\n",
       "      <td>2600.0</td>\n",
       "      <td>200.0</td>\n",
       "      <td>0.0</td>\n",
       "    </tr>\n",
       "    <tr>\n",
       "      <th>124</th>\n",
       "      <td>NaN</td>\n",
       "      <td>NaN</td>\n",
       "      <td>NaN</td>\n",
       "      <td>NaN</td>\n",
       "      <td>AUD</td>\n",
       "      <td>The signal is low pass filtered at 45 percent ...</td>\n",
       "      <td>ECoG pynwb.ecephys.ElectrodeGroup at 0x1406289...</td>\n",
       "      <td>ECoG</td>\n",
       "      <td>3000.0</td>\n",
       "      <td>400.0</td>\n",
       "      <td>0.0</td>\n",
       "    </tr>\n",
       "    <tr>\n",
       "      <th>125</th>\n",
       "      <td>NaN</td>\n",
       "      <td>NaN</td>\n",
       "      <td>NaN</td>\n",
       "      <td>NaN</td>\n",
       "      <td>AUD</td>\n",
       "      <td>The signal is low pass filtered at 45 percent ...</td>\n",
       "      <td>ECoG pynwb.ecephys.ElectrodeGroup at 0x1406289...</td>\n",
       "      <td>ECoG</td>\n",
       "      <td>2600.0</td>\n",
       "      <td>400.0</td>\n",
       "      <td>0.0</td>\n",
       "    </tr>\n",
       "    <tr>\n",
       "      <th>126</th>\n",
       "      <td>NaN</td>\n",
       "      <td>NaN</td>\n",
       "      <td>NaN</td>\n",
       "      <td>NaN</td>\n",
       "      <td>AUD</td>\n",
       "      <td>The signal is low pass filtered at 45 percent ...</td>\n",
       "      <td>ECoG pynwb.ecephys.ElectrodeGroup at 0x1406289...</td>\n",
       "      <td>ECoG</td>\n",
       "      <td>3000.0</td>\n",
       "      <td>600.0</td>\n",
       "      <td>0.0</td>\n",
       "    </tr>\n",
       "    <tr>\n",
       "      <th>127</th>\n",
       "      <td>NaN</td>\n",
       "      <td>NaN</td>\n",
       "      <td>NaN</td>\n",
       "      <td>NaN</td>\n",
       "      <td>AUD</td>\n",
       "      <td>The signal is low pass filtered at 45 percent ...</td>\n",
       "      <td>ECoG pynwb.ecephys.ElectrodeGroup at 0x1406289...</td>\n",
       "      <td>ECoG</td>\n",
       "      <td>2600.0</td>\n",
       "      <td>600.0</td>\n",
       "      <td>0.0</td>\n",
       "    </tr>\n",
       "  </tbody>\n",
       "</table>\n",
       "<p>128 rows × 11 columns</p>\n",
       "</div>"
      ],
      "text/plain": [
       "      x   y   z  imp location  \\\n",
       "id                              \n",
       "0   NaN NaN NaN  NaN      AUD   \n",
       "1   NaN NaN NaN  NaN      AUD   \n",
       "2   NaN NaN NaN  NaN      AUD   \n",
       "3   NaN NaN NaN  NaN      AUD   \n",
       "4   NaN NaN NaN  NaN      AUD   \n",
       "..   ..  ..  ..  ...      ...   \n",
       "123 NaN NaN NaN  NaN      AUD   \n",
       "124 NaN NaN NaN  NaN      AUD   \n",
       "125 NaN NaN NaN  NaN      AUD   \n",
       "126 NaN NaN NaN  NaN      AUD   \n",
       "127 NaN NaN NaN  NaN      AUD   \n",
       "\n",
       "                                             filtering  \\\n",
       "id                                                       \n",
       "0    The signal is low pass filtered at 45 percent ...   \n",
       "1    The signal is low pass filtered at 45 percent ...   \n",
       "2    The signal is low pass filtered at 45 percent ...   \n",
       "3    The signal is low pass filtered at 45 percent ...   \n",
       "4    The signal is low pass filtered at 45 percent ...   \n",
       "..                                                 ...   \n",
       "123  The signal is low pass filtered at 45 percent ...   \n",
       "124  The signal is low pass filtered at 45 percent ...   \n",
       "125  The signal is low pass filtered at 45 percent ...   \n",
       "126  The signal is low pass filtered at 45 percent ...   \n",
       "127  The signal is low pass filtered at 45 percent ...   \n",
       "\n",
       "                                                 group group_name   rel_x  \\\n",
       "id                                                                          \n",
       "0    ECoG pynwb.ecephys.ElectrodeGroup at 0x1406289...       ECoG  3000.0   \n",
       "1    ECoG pynwb.ecephys.ElectrodeGroup at 0x1406289...       ECoG  2600.0   \n",
       "2    ECoG pynwb.ecephys.ElectrodeGroup at 0x1406289...       ECoG  3000.0   \n",
       "3    ECoG pynwb.ecephys.ElectrodeGroup at 0x1406289...       ECoG  2600.0   \n",
       "4    ECoG pynwb.ecephys.ElectrodeGroup at 0x1406289...       ECoG  3000.0   \n",
       "..                                                 ...        ...     ...   \n",
       "123  ECoG pynwb.ecephys.ElectrodeGroup at 0x1406289...       ECoG  2600.0   \n",
       "124  ECoG pynwb.ecephys.ElectrodeGroup at 0x1406289...       ECoG  3000.0   \n",
       "125  ECoG pynwb.ecephys.ElectrodeGroup at 0x1406289...       ECoG  2600.0   \n",
       "126  ECoG pynwb.ecephys.ElectrodeGroup at 0x1406289...       ECoG  3000.0   \n",
       "127  ECoG pynwb.ecephys.ElectrodeGroup at 0x1406289...       ECoG  2600.0   \n",
       "\n",
       "      rel_y  rel_z  \n",
       "id                  \n",
       "0     800.0    0.0  \n",
       "1     800.0    0.0  \n",
       "2    1000.0    0.0  \n",
       "3    1000.0    0.0  \n",
       "4    1200.0    0.0  \n",
       "..      ...    ...  \n",
       "123   200.0    0.0  \n",
       "124   400.0    0.0  \n",
       "125   400.0    0.0  \n",
       "126   600.0    0.0  \n",
       "127   600.0    0.0  \n",
       "\n",
       "[128 rows x 11 columns]"
      ]
     },
     "execution_count": 5,
     "metadata": {},
     "output_type": "execute_result"
    }
   ],
   "source": [
    "nwbfile_in.electrodes.to_dataframe()"
   ]
  },
  {
   "cell_type": "code",
   "execution_count": 20,
   "metadata": {},
   "outputs": [
    {
     "ename": "ValueError",
     "evalue": "invalid literal for int() with base 10: ''",
     "output_type": "error",
     "traceback": [
      "\u001b[0;31m---------------------------------------------------------------------------\u001b[0m",
      "\u001b[0;31mValueError\u001b[0m                                Traceback (most recent call last)",
      "\u001b[0;32m<ipython-input-20-30f3817d8ba9>\u001b[0m in \u001b[0;36m<module>\u001b[0;34m\u001b[0m\n\u001b[0;32m----> 1\u001b[0;31m \u001b[0mch_ids\u001b[0m \u001b[0;34m=\u001b[0m \u001b[0mnp\u001b[0m\u001b[0;34m.\u001b[0m\u001b[0marray\u001b[0m\u001b[0;34m(\u001b[0m\u001b[0;34m[\u001b[0m\u001b[0mint\u001b[0m\u001b[0;34m(\u001b[0m\u001b[0mch\u001b[0m\u001b[0;34m)\u001b[0m \u001b[0;32mfor\u001b[0m \u001b[0mch\u001b[0m \u001b[0;32min\u001b[0m \u001b[0mnwbfile_in\u001b[0m\u001b[0;34m.\u001b[0m\u001b[0melectrodes\u001b[0m\u001b[0;34m.\u001b[0m\u001b[0mlocation\u001b[0m\u001b[0;34m.\u001b[0m\u001b[0mdata\u001b[0m\u001b[0;34m[\u001b[0m\u001b[0mdevice_idx\u001b[0m\u001b[0;34m]\u001b[0m\u001b[0;34m]\u001b[0m\u001b[0;34m)\u001b[0m\u001b[0;34m\u001b[0m\u001b[0;34m\u001b[0m\u001b[0m\n\u001b[0m",
      "\u001b[0;32m<ipython-input-20-30f3817d8ba9>\u001b[0m in \u001b[0;36m<listcomp>\u001b[0;34m(.0)\u001b[0m\n\u001b[0;32m----> 1\u001b[0;31m \u001b[0mch_ids\u001b[0m \u001b[0;34m=\u001b[0m \u001b[0mnp\u001b[0m\u001b[0;34m.\u001b[0m\u001b[0marray\u001b[0m\u001b[0;34m(\u001b[0m\u001b[0;34m[\u001b[0m\u001b[0mint\u001b[0m\u001b[0;34m(\u001b[0m\u001b[0mch\u001b[0m\u001b[0;34m)\u001b[0m \u001b[0;32mfor\u001b[0m \u001b[0mch\u001b[0m \u001b[0;32min\u001b[0m \u001b[0mnwbfile_in\u001b[0m\u001b[0;34m.\u001b[0m\u001b[0melectrodes\u001b[0m\u001b[0;34m.\u001b[0m\u001b[0mlocation\u001b[0m\u001b[0;34m.\u001b[0m\u001b[0mdata\u001b[0m\u001b[0;34m[\u001b[0m\u001b[0mdevice_idx\u001b[0m\u001b[0;34m]\u001b[0m\u001b[0;34m]\u001b[0m\u001b[0;34m)\u001b[0m\u001b[0;34m\u001b[0m\u001b[0;34m\u001b[0m\u001b[0m\n\u001b[0m",
      "\u001b[0;31mValueError\u001b[0m: invalid literal for int() with base 10: ''"
     ]
    }
   ],
   "source": [
    "ch_ids = np.array([int(ch) for ch in nwbfile_in.electrodes.location.data[device_idx]])"
   ]
  },
  {
   "cell_type": "code",
   "execution_count": 22,
   "metadata": {},
   "outputs": [
    {
     "data": {
      "text/plain": [
       "array(['', '', '', '', '', '', '', '', '', '', '', '', '', '', '', '', '',\n",
       "       '', '', '', '', '', '', '', '', '', '', '', '', '', '', '', '', '',\n",
       "       '', '', '', '', '', '', '', '', '', '', '', '', '', '', '', '', '',\n",
       "       '', '', '', '', '', '', '', '', '', '', '', '', '', '', '', '', '',\n",
       "       '', '', '', '', '', '', '', '', '', '', '', '', '', '', '', '', '',\n",
       "       '', '', '', '', '', '', '', '', '', '', '', '', '', '', '', '', '',\n",
       "       '', '', '', '', '', '', '', '', '', '', '', '', '', '', '', '', '',\n",
       "       '', '', '', '', '', '', '', '', '', '', '', '', '', '', '', '', '',\n",
       "       '', '', '', '', '', '', '', '', '', '', '', '', '', '', '', '', '',\n",
       "       '', '', '', '', '', '', '', '', '', '', '', '', '', '', '', '', '',\n",
       "       '', '', '', '', '', '', '', '', '', '', '', '', '', '', '', '', '',\n",
       "       '', '', '', '', ''], dtype=object)"
      ]
     },
     "execution_count": 22,
     "metadata": {},
     "output_type": "execute_result"
    }
   ],
   "source": [
    "nwbfile_in.electrodes.location.data[:]"
   ]
  },
  {
   "cell_type": "markdown",
   "metadata": {},
   "source": [
    "# TRIAL STIM_START"
   ]
  },
  {
   "cell_type": "code",
   "execution_count": 83,
   "metadata": {},
   "outputs": [
    {
     "data": {
      "text/plain": [
       "trials pynwb.epoch.TimeIntervals at 0x140628935949136\n",
       "Fields:\n",
       "  colnames: ['start_time' 'stop_time' 'sb' 'frq' 'amp']\n",
       "  columns: (\n",
       "    start_time <class 'hdmf.common.table.VectorData'>,\n",
       "    stop_time <class 'hdmf.common.table.VectorData'>,\n",
       "    sb <class 'hdmf.common.table.VectorData'>,\n",
       "    frq <class 'hdmf.common.table.VectorData'>,\n",
       "    amp <class 'hdmf.common.table.VectorData'>\n",
       "  )\n",
       "  description: experimental trials\n",
       "  id: id <class 'hdmf.common.table.ElementIdentifiers'>"
      ]
     },
     "execution_count": 83,
     "metadata": {},
     "output_type": "execute_result"
    }
   ],
   "source": [
    "nwb.trials"
   ]
  },
  {
   "cell_type": "code",
   "execution_count": 84,
   "metadata": {},
   "outputs": [
    {
     "data": {
      "text/html": [
       "<div>\n",
       "<style scoped>\n",
       "    .dataframe tbody tr th:only-of-type {\n",
       "        vertical-align: middle;\n",
       "    }\n",
       "\n",
       "    .dataframe tbody tr th {\n",
       "        vertical-align: top;\n",
       "    }\n",
       "\n",
       "    .dataframe thead th {\n",
       "        text-align: right;\n",
       "    }\n",
       "</style>\n",
       "<table border=\"1\" class=\"dataframe\">\n",
       "  <thead>\n",
       "    <tr style=\"text-align: right;\">\n",
       "      <th></th>\n",
       "      <th>start_time</th>\n",
       "      <th>stop_time</th>\n",
       "      <th>sb</th>\n",
       "      <th>frq</th>\n",
       "      <th>amp</th>\n",
       "    </tr>\n",
       "    <tr>\n",
       "      <th>id</th>\n",
       "      <th></th>\n",
       "      <th></th>\n",
       "      <th></th>\n",
       "      <th></th>\n",
       "      <th></th>\n",
       "    </tr>\n",
       "  </thead>\n",
       "  <tbody>\n",
       "    <tr>\n",
       "      <th>1</th>\n",
       "      <td>7.980483</td>\n",
       "      <td>8.030483</td>\n",
       "      <td>s</td>\n",
       "      <td>500</td>\n",
       "      <td>6</td>\n",
       "    </tr>\n",
       "    <tr>\n",
       "      <th>3</th>\n",
       "      <td>8.280515</td>\n",
       "      <td>8.330515</td>\n",
       "      <td>s</td>\n",
       "      <td>3175</td>\n",
       "      <td>6</td>\n",
       "    </tr>\n",
       "    <tr>\n",
       "      <th>5</th>\n",
       "      <td>8.580506</td>\n",
       "      <td>8.630506</td>\n",
       "      <td>s</td>\n",
       "      <td>12699</td>\n",
       "      <td>8</td>\n",
       "    </tr>\n",
       "    <tr>\n",
       "      <th>7</th>\n",
       "      <td>8.880497</td>\n",
       "      <td>8.930497</td>\n",
       "      <td>s</td>\n",
       "      <td>794</td>\n",
       "      <td>6</td>\n",
       "    </tr>\n",
       "    <tr>\n",
       "      <th>9</th>\n",
       "      <td>9.180488</td>\n",
       "      <td>9.230488</td>\n",
       "      <td>s</td>\n",
       "      <td>32000</td>\n",
       "      <td>4</td>\n",
       "    </tr>\n",
       "    <tr>\n",
       "      <th>...</th>\n",
       "      <td>...</td>\n",
       "      <td>...</td>\n",
       "      <td>...</td>\n",
       "      <td>...</td>\n",
       "      <td>...</td>\n",
       "    </tr>\n",
       "    <tr>\n",
       "      <th>591</th>\n",
       "      <td>96.480911</td>\n",
       "      <td>96.530911</td>\n",
       "      <td>s</td>\n",
       "      <td>12699</td>\n",
       "      <td>6</td>\n",
       "    </tr>\n",
       "    <tr>\n",
       "      <th>593</th>\n",
       "      <td>96.780902</td>\n",
       "      <td>96.830902</td>\n",
       "      <td>s</td>\n",
       "      <td>8000</td>\n",
       "      <td>6</td>\n",
       "    </tr>\n",
       "    <tr>\n",
       "      <th>595</th>\n",
       "      <td>97.080934</td>\n",
       "      <td>97.130934</td>\n",
       "      <td>s</td>\n",
       "      <td>1260</td>\n",
       "      <td>6</td>\n",
       "    </tr>\n",
       "    <tr>\n",
       "      <th>597</th>\n",
       "      <td>97.380925</td>\n",
       "      <td>97.430925</td>\n",
       "      <td>s</td>\n",
       "      <td>20159</td>\n",
       "      <td>4</td>\n",
       "    </tr>\n",
       "    <tr>\n",
       "      <th>599</th>\n",
       "      <td>97.680916</td>\n",
       "      <td>97.730916</td>\n",
       "      <td>s</td>\n",
       "      <td>2000</td>\n",
       "      <td>6</td>\n",
       "    </tr>\n",
       "  </tbody>\n",
       "</table>\n",
       "<p>300 rows × 5 columns</p>\n",
       "</div>"
      ],
      "text/plain": [
       "     start_time  stop_time sb    frq amp\n",
       "id                                      \n",
       "1      7.980483   8.030483  s    500   6\n",
       "3      8.280515   8.330515  s   3175   6\n",
       "5      8.580506   8.630506  s  12699   8\n",
       "7      8.880497   8.930497  s    794   6\n",
       "9      9.180488   9.230488  s  32000   4\n",
       "..          ...        ... ..    ...  ..\n",
       "591   96.480911  96.530911  s  12699   6\n",
       "593   96.780902  96.830902  s   8000   6\n",
       "595   97.080934  97.130934  s   1260   6\n",
       "597   97.380925  97.430925  s  20159   4\n",
       "599   97.680916  97.730916  s   2000   6\n",
       "\n",
       "[300 rows x 5 columns]"
      ]
     },
     "execution_count": 84,
     "metadata": {},
     "output_type": "execute_result"
    }
   ],
   "source": [
    "df = nwb.trials.to_dataframe()\n",
    "# df = df[df[\"sb\"] == \"s\"]\n",
    "df_s = df[df[\"sb\"] == \"s\"]\n",
    "df_s"
   ]
  },
  {
   "cell_type": "code",
   "execution_count": 118,
   "metadata": {},
   "outputs": [
    {
     "data": {
      "text/html": [
       "<div>\n",
       "<style scoped>\n",
       "    .dataframe tbody tr th:only-of-type {\n",
       "        vertical-align: middle;\n",
       "    }\n",
       "\n",
       "    .dataframe tbody tr th {\n",
       "        vertical-align: top;\n",
       "    }\n",
       "\n",
       "    .dataframe thead th {\n",
       "        text-align: right;\n",
       "    }\n",
       "</style>\n",
       "<table border=\"1\" class=\"dataframe\">\n",
       "  <thead>\n",
       "    <tr style=\"text-align: right;\">\n",
       "      <th></th>\n",
       "      <th>start_time</th>\n",
       "      <th>sb</th>\n",
       "    </tr>\n",
       "    <tr>\n",
       "      <th>id</th>\n",
       "      <th></th>\n",
       "      <th></th>\n",
       "    </tr>\n",
       "  </thead>\n",
       "  <tbody>\n",
       "    <tr>\n",
       "      <th>1</th>\n",
       "      <td>7.980483</td>\n",
       "      <td>s</td>\n",
       "    </tr>\n",
       "    <tr>\n",
       "      <th>3</th>\n",
       "      <td>8.280515</td>\n",
       "      <td>s</td>\n",
       "    </tr>\n",
       "    <tr>\n",
       "      <th>5</th>\n",
       "      <td>8.580506</td>\n",
       "      <td>s</td>\n",
       "    </tr>\n",
       "    <tr>\n",
       "      <th>7</th>\n",
       "      <td>8.880497</td>\n",
       "      <td>s</td>\n",
       "    </tr>\n",
       "    <tr>\n",
       "      <th>9</th>\n",
       "      <td>9.180488</td>\n",
       "      <td>s</td>\n",
       "    </tr>\n",
       "    <tr>\n",
       "      <th>...</th>\n",
       "      <td>...</td>\n",
       "      <td>...</td>\n",
       "    </tr>\n",
       "    <tr>\n",
       "      <th>591</th>\n",
       "      <td>96.480911</td>\n",
       "      <td>s</td>\n",
       "    </tr>\n",
       "    <tr>\n",
       "      <th>593</th>\n",
       "      <td>96.780902</td>\n",
       "      <td>s</td>\n",
       "    </tr>\n",
       "    <tr>\n",
       "      <th>595</th>\n",
       "      <td>97.080934</td>\n",
       "      <td>s</td>\n",
       "    </tr>\n",
       "    <tr>\n",
       "      <th>597</th>\n",
       "      <td>97.380925</td>\n",
       "      <td>s</td>\n",
       "    </tr>\n",
       "    <tr>\n",
       "      <th>599</th>\n",
       "      <td>97.680916</td>\n",
       "      <td>s</td>\n",
       "    </tr>\n",
       "  </tbody>\n",
       "</table>\n",
       "<p>300 rows × 2 columns</p>\n",
       "</div>"
      ],
      "text/plain": [
       "     start_time sb\n",
       "id                \n",
       "1      7.980483  s\n",
       "3      8.280515  s\n",
       "5      8.580506  s\n",
       "7      8.880497  s\n",
       "9      9.180488  s\n",
       "..          ... ..\n",
       "591   96.480911  s\n",
       "593   96.780902  s\n",
       "595   97.080934  s\n",
       "597   97.380925  s\n",
       "599   97.680916  s\n",
       "\n",
       "[300 rows x 2 columns]"
      ]
     },
     "execution_count": 118,
     "metadata": {},
     "output_type": "execute_result"
    }
   ],
   "source": [
    "onsets = df_s.iloc[:, [0,2]]\n",
    "onsets"
   ]
  },
  {
   "cell_type": "code",
   "execution_count": 96,
   "metadata": {},
   "outputs": [],
   "source": [
    "stim_markers = onsets['start_time'].to_list()"
   ]
  },
  {
   "cell_type": "code",
   "execution_count": 97,
   "metadata": {},
   "outputs": [],
   "source": [
    "fs = nwbfile_in.acquisition['ECoG'].rate"
   ]
  },
  {
   "cell_type": "code",
   "execution_count": 98,
   "metadata": {},
   "outputs": [],
   "source": [
    "# fs_stim_delay = .25* fs"
   ]
  },
  {
   "cell_type": "code",
   "execution_count": 99,
   "metadata": {},
   "outputs": [],
   "source": [
    "# marker_onsets = [int(x*fs+fs_stim_delay) for x in markers]"
   ]
  },
  {
   "cell_type": "code",
   "execution_count": 114,
   "metadata": {},
   "outputs": [],
   "source": [
    "stim_onsets = [int(x*fs) for x in stim_markers]"
   ]
  },
  {
   "cell_type": "code",
   "execution_count": 120,
   "metadata": {},
   "outputs": [
    {
     "data": {
      "text/plain": [
       "array([  95765,   99366,  102966,  106565,  110165,  113766,  117366,\n",
       "        120966,  124565,  128166,  131766,  135366,  138965,  142566,\n",
       "        146166,  149766,  153366,  156966,  160566,  164166,  167766,\n",
       "        171366,  174966,  178566,  182166,  185766,  189366,  192966,\n",
       "        196566,  200166,  203766,  207366,  210966,  214566,  218166,\n",
       "        221766,  225366,  228966,  232566,  236166,  239766,  243366,\n",
       "        246966,  250566,  254166,  257766,  261366,  264966,  268566,\n",
       "        272166,  275766,  279366,  282966,  286566,  290166,  293766,\n",
       "        297366,  300967,  304566,  308166,  311766,  315367,  318966,\n",
       "        322566,  326166,  329767,  333367,  336966,  340566,  344167,\n",
       "        347767,  351367,  354966,  358567,  362167,  365767,  369366,\n",
       "        372967,  376567,  380167,  383767,  387367,  390967,  394567,\n",
       "        398167,  401767,  405367,  408967,  412567,  416167,  419767,\n",
       "        423367,  426967,  430567,  434167,  437767,  441367,  444967,\n",
       "        448567,  452167,  455767,  459367,  462967,  466567,  470167,\n",
       "        473767,  477367,  480967,  484567,  488167,  491767,  495367,\n",
       "        498968,  502567,  506167,  509767,  513368,  516967,  520567,\n",
       "        524167,  527768,  531368,  534967,  538567,  542168,  545768,\n",
       "        549367,  552967,  556568,  560168,  563768,  567367,  570968,\n",
       "        574568,  578168,  581767,  585368,  588968,  592568,  596168,\n",
       "        599768,  603368,  606968,  610568,  614168,  617768,  621368,\n",
       "        624968,  628568,  632168,  635768,  639368,  642968,  646568,\n",
       "        650168,  653768,  657368,  660968,  664568,  668168,  671768,\n",
       "        675368,  678968,  682568,  686168,  689768,  693368,  696968,\n",
       "        700568,  704168,  707768,  711369,  714968,  718568,  722168,\n",
       "        725769,  729368,  732968,  736568,  740169,  743769,  747368,\n",
       "        750968,  754569,  758169,  761769,  765368,  768969,  772569,\n",
       "        776169,  779768,  783369,  786969,  790569,  794169,  797769,\n",
       "        801369,  804969,  808569,  812169,  815769,  819369,  822969,\n",
       "        826569,  830169,  833769,  837369,  840969,  844569,  848169,\n",
       "        851769,  855369,  858969,  862569,  866169,  869769,  873369,\n",
       "        876969,  880569,  884169,  887769,  891369,  894969,  898569,\n",
       "        902169,  905769,  909369,  912969,  916569,  920169,  923770,\n",
       "        927369,  930969,  934569,  938170,  941770,  945369,  948969,\n",
       "        952570,  956170,  959769,  963369,  966970,  970570,  974170,\n",
       "        977769,  981370,  984970,  988570,  992169,  995770,  999370,\n",
       "       1002970, 1006570, 1010170, 1013770, 1017370, 1020970, 1024570,\n",
       "       1028170, 1031770, 1035370, 1038970, 1042570, 1046170, 1049770,\n",
       "       1053370, 1056970, 1060570, 1064170, 1067770, 1071370, 1074970,\n",
       "       1078570, 1082170, 1085770, 1089370, 1092970, 1096570, 1100170,\n",
       "       1103770, 1107370, 1110970, 1114570, 1118170, 1121770, 1125370,\n",
       "       1128970, 1132570, 1136170, 1139770, 1143370, 1146970, 1150571,\n",
       "       1154171, 1157770, 1161370, 1164971, 1168571, 1172170])"
      ]
     },
     "execution_count": 120,
     "metadata": {},
     "output_type": "execute_result"
    }
   ],
   "source": [
    "stim_start = np.array(stim_onsets)\n",
    "stim_start"
   ]
  },
  {
   "cell_type": "markdown",
   "metadata": {},
   "source": [
    "# TRIAL STIM_STOP"
   ]
  },
  {
   "cell_type": "code",
   "execution_count": 103,
   "metadata": {},
   "outputs": [
    {
     "data": {
      "text/html": [
       "<div>\n",
       "<style scoped>\n",
       "    .dataframe tbody tr th:only-of-type {\n",
       "        vertical-align: middle;\n",
       "    }\n",
       "\n",
       "    .dataframe tbody tr th {\n",
       "        vertical-align: top;\n",
       "    }\n",
       "\n",
       "    .dataframe thead th {\n",
       "        text-align: right;\n",
       "    }\n",
       "</style>\n",
       "<table border=\"1\" class=\"dataframe\">\n",
       "  <thead>\n",
       "    <tr style=\"text-align: right;\">\n",
       "      <th></th>\n",
       "      <th>start_time</th>\n",
       "      <th>stop_time</th>\n",
       "      <th>sb</th>\n",
       "      <th>frq</th>\n",
       "      <th>amp</th>\n",
       "    </tr>\n",
       "    <tr>\n",
       "      <th>id</th>\n",
       "      <th></th>\n",
       "      <th></th>\n",
       "      <th></th>\n",
       "      <th></th>\n",
       "      <th></th>\n",
       "    </tr>\n",
       "  </thead>\n",
       "  <tbody>\n",
       "    <tr>\n",
       "      <th>1</th>\n",
       "      <td>7.980483</td>\n",
       "      <td>8.030483</td>\n",
       "      <td>s</td>\n",
       "      <td>500</td>\n",
       "      <td>6</td>\n",
       "    </tr>\n",
       "    <tr>\n",
       "      <th>3</th>\n",
       "      <td>8.280515</td>\n",
       "      <td>8.330515</td>\n",
       "      <td>s</td>\n",
       "      <td>3175</td>\n",
       "      <td>6</td>\n",
       "    </tr>\n",
       "    <tr>\n",
       "      <th>5</th>\n",
       "      <td>8.580506</td>\n",
       "      <td>8.630506</td>\n",
       "      <td>s</td>\n",
       "      <td>12699</td>\n",
       "      <td>8</td>\n",
       "    </tr>\n",
       "    <tr>\n",
       "      <th>7</th>\n",
       "      <td>8.880497</td>\n",
       "      <td>8.930497</td>\n",
       "      <td>s</td>\n",
       "      <td>794</td>\n",
       "      <td>6</td>\n",
       "    </tr>\n",
       "    <tr>\n",
       "      <th>9</th>\n",
       "      <td>9.180488</td>\n",
       "      <td>9.230488</td>\n",
       "      <td>s</td>\n",
       "      <td>32000</td>\n",
       "      <td>4</td>\n",
       "    </tr>\n",
       "    <tr>\n",
       "      <th>...</th>\n",
       "      <td>...</td>\n",
       "      <td>...</td>\n",
       "      <td>...</td>\n",
       "      <td>...</td>\n",
       "      <td>...</td>\n",
       "    </tr>\n",
       "    <tr>\n",
       "      <th>591</th>\n",
       "      <td>96.480911</td>\n",
       "      <td>96.530911</td>\n",
       "      <td>s</td>\n",
       "      <td>12699</td>\n",
       "      <td>6</td>\n",
       "    </tr>\n",
       "    <tr>\n",
       "      <th>593</th>\n",
       "      <td>96.780902</td>\n",
       "      <td>96.830902</td>\n",
       "      <td>s</td>\n",
       "      <td>8000</td>\n",
       "      <td>6</td>\n",
       "    </tr>\n",
       "    <tr>\n",
       "      <th>595</th>\n",
       "      <td>97.080934</td>\n",
       "      <td>97.130934</td>\n",
       "      <td>s</td>\n",
       "      <td>1260</td>\n",
       "      <td>6</td>\n",
       "    </tr>\n",
       "    <tr>\n",
       "      <th>597</th>\n",
       "      <td>97.380925</td>\n",
       "      <td>97.430925</td>\n",
       "      <td>s</td>\n",
       "      <td>20159</td>\n",
       "      <td>4</td>\n",
       "    </tr>\n",
       "    <tr>\n",
       "      <th>599</th>\n",
       "      <td>97.680916</td>\n",
       "      <td>97.730916</td>\n",
       "      <td>s</td>\n",
       "      <td>2000</td>\n",
       "      <td>6</td>\n",
       "    </tr>\n",
       "  </tbody>\n",
       "</table>\n",
       "<p>300 rows × 5 columns</p>\n",
       "</div>"
      ],
      "text/plain": [
       "     start_time  stop_time sb    frq amp\n",
       "id                                      \n",
       "1      7.980483   8.030483  s    500   6\n",
       "3      8.280515   8.330515  s   3175   6\n",
       "5      8.580506   8.630506  s  12699   8\n",
       "7      8.880497   8.930497  s    794   6\n",
       "9      9.180488   9.230488  s  32000   4\n",
       "..          ...        ... ..    ...  ..\n",
       "591   96.480911  96.530911  s  12699   6\n",
       "593   96.780902  96.830902  s   8000   6\n",
       "595   97.080934  97.130934  s   1260   6\n",
       "597   97.380925  97.430925  s  20159   4\n",
       "599   97.680916  97.730916  s   2000   6\n",
       "\n",
       "[300 rows x 5 columns]"
      ]
     },
     "execution_count": 103,
     "metadata": {},
     "output_type": "execute_result"
    }
   ],
   "source": [
    "df = nwb.trials.to_dataframe()\n",
    "# df = df[df[\"sb\"] == \"s\"]\n",
    "df_s = df[df[\"sb\"] == \"s\"]\n",
    "df_s"
   ]
  },
  {
   "cell_type": "code",
   "execution_count": 117,
   "metadata": {},
   "outputs": [
    {
     "data": {
      "text/html": [
       "<div>\n",
       "<style scoped>\n",
       "    .dataframe tbody tr th:only-of-type {\n",
       "        vertical-align: middle;\n",
       "    }\n",
       "\n",
       "    .dataframe tbody tr th {\n",
       "        vertical-align: top;\n",
       "    }\n",
       "\n",
       "    .dataframe thead th {\n",
       "        text-align: right;\n",
       "    }\n",
       "</style>\n",
       "<table border=\"1\" class=\"dataframe\">\n",
       "  <thead>\n",
       "    <tr style=\"text-align: right;\">\n",
       "      <th></th>\n",
       "      <th>stop_time</th>\n",
       "      <th>sb</th>\n",
       "    </tr>\n",
       "    <tr>\n",
       "      <th>id</th>\n",
       "      <th></th>\n",
       "      <th></th>\n",
       "    </tr>\n",
       "  </thead>\n",
       "  <tbody>\n",
       "    <tr>\n",
       "      <th>1</th>\n",
       "      <td>8.030483</td>\n",
       "      <td>s</td>\n",
       "    </tr>\n",
       "    <tr>\n",
       "      <th>3</th>\n",
       "      <td>8.330515</td>\n",
       "      <td>s</td>\n",
       "    </tr>\n",
       "    <tr>\n",
       "      <th>5</th>\n",
       "      <td>8.630506</td>\n",
       "      <td>s</td>\n",
       "    </tr>\n",
       "    <tr>\n",
       "      <th>7</th>\n",
       "      <td>8.930497</td>\n",
       "      <td>s</td>\n",
       "    </tr>\n",
       "    <tr>\n",
       "      <th>9</th>\n",
       "      <td>9.230488</td>\n",
       "      <td>s</td>\n",
       "    </tr>\n",
       "    <tr>\n",
       "      <th>...</th>\n",
       "      <td>...</td>\n",
       "      <td>...</td>\n",
       "    </tr>\n",
       "    <tr>\n",
       "      <th>591</th>\n",
       "      <td>96.530911</td>\n",
       "      <td>s</td>\n",
       "    </tr>\n",
       "    <tr>\n",
       "      <th>593</th>\n",
       "      <td>96.830902</td>\n",
       "      <td>s</td>\n",
       "    </tr>\n",
       "    <tr>\n",
       "      <th>595</th>\n",
       "      <td>97.130934</td>\n",
       "      <td>s</td>\n",
       "    </tr>\n",
       "    <tr>\n",
       "      <th>597</th>\n",
       "      <td>97.430925</td>\n",
       "      <td>s</td>\n",
       "    </tr>\n",
       "    <tr>\n",
       "      <th>599</th>\n",
       "      <td>97.730916</td>\n",
       "      <td>s</td>\n",
       "    </tr>\n",
       "  </tbody>\n",
       "</table>\n",
       "<p>300 rows × 2 columns</p>\n",
       "</div>"
      ],
      "text/plain": [
       "     stop_time sb\n",
       "id               \n",
       "1     8.030483  s\n",
       "3     8.330515  s\n",
       "5     8.630506  s\n",
       "7     8.930497  s\n",
       "9     9.230488  s\n",
       "..         ... ..\n",
       "591  96.530911  s\n",
       "593  96.830902  s\n",
       "595  97.130934  s\n",
       "597  97.430925  s\n",
       "599  97.730916  s\n",
       "\n",
       "[300 rows x 2 columns]"
      ]
     },
     "execution_count": 117,
     "metadata": {},
     "output_type": "execute_result"
    }
   ],
   "source": [
    "offsets = df_s.iloc[:, [1,2]]\n",
    "offsets"
   ]
  },
  {
   "cell_type": "code",
   "execution_count": 112,
   "metadata": {},
   "outputs": [],
   "source": [
    "stim_mrks = offsets['stop_time'].to_list()"
   ]
  },
  {
   "cell_type": "code",
   "execution_count": 113,
   "metadata": {},
   "outputs": [],
   "source": [
    "stim_offsets = [int(x*fs) for x in stim_mrks]"
   ]
  },
  {
   "cell_type": "code",
   "execution_count": 119,
   "metadata": {},
   "outputs": [
    {
     "data": {
      "text/plain": [
       "array([  96365,   99966,  103566,  107165,  110765,  114366,  117966,\n",
       "        121566,  125165,  128766,  132366,  135966,  139565,  143166,\n",
       "        146766,  150366,  153966,  157566,  161166,  164766,  168366,\n",
       "        171966,  175566,  179166,  182766,  186366,  189966,  193566,\n",
       "        197166,  200766,  204366,  207966,  211566,  215166,  218766,\n",
       "        222366,  225966,  229566,  233166,  236766,  240366,  243966,\n",
       "        247566,  251166,  254766,  258366,  261966,  265566,  269166,\n",
       "        272766,  276366,  279966,  283566,  287166,  290766,  294366,\n",
       "        297966,  301567,  305166,  308766,  312366,  315967,  319566,\n",
       "        323166,  326766,  330367,  333967,  337566,  341166,  344767,\n",
       "        348367,  351967,  355566,  359167,  362767,  366367,  369966,\n",
       "        373567,  377167,  380767,  384367,  387967,  391567,  395167,\n",
       "        398767,  402367,  405967,  409567,  413167,  416767,  420367,\n",
       "        423967,  427567,  431167,  434767,  438367,  441967,  445567,\n",
       "        449167,  452767,  456367,  459967,  463567,  467167,  470767,\n",
       "        474367,  477967,  481567,  485167,  488767,  492367,  495967,\n",
       "        499568,  503167,  506767,  510367,  513968,  517567,  521167,\n",
       "        524767,  528368,  531968,  535567,  539167,  542768,  546368,\n",
       "        549967,  553567,  557168,  560768,  564368,  567967,  571568,\n",
       "        575168,  578768,  582367,  585968,  589568,  593168,  596768,\n",
       "        600368,  603968,  607568,  611168,  614768,  618368,  621968,\n",
       "        625568,  629168,  632768,  636368,  639968,  643568,  647168,\n",
       "        650768,  654368,  657968,  661568,  665168,  668768,  672368,\n",
       "        675968,  679568,  683168,  686768,  690368,  693968,  697568,\n",
       "        701168,  704768,  708368,  711969,  715568,  719168,  722768,\n",
       "        726369,  729968,  733568,  737168,  740769,  744369,  747968,\n",
       "        751568,  755169,  758769,  762369,  765968,  769569,  773169,\n",
       "        776769,  780368,  783969,  787569,  791169,  794769,  798369,\n",
       "        801969,  805569,  809169,  812769,  816369,  819969,  823569,\n",
       "        827169,  830769,  834369,  837969,  841569,  845169,  848769,\n",
       "        852369,  855969,  859569,  863169,  866769,  870369,  873969,\n",
       "        877569,  881169,  884769,  888369,  891969,  895569,  899169,\n",
       "        902769,  906369,  909969,  913569,  917169,  920769,  924370,\n",
       "        927969,  931569,  935169,  938770,  942370,  945969,  949569,\n",
       "        953170,  956770,  960369,  963969,  967570,  971170,  974770,\n",
       "        978369,  981970,  985570,  989170,  992769,  996370,  999970,\n",
       "       1003570, 1007170, 1010770, 1014370, 1017970, 1021570, 1025170,\n",
       "       1028770, 1032370, 1035970, 1039570, 1043170, 1046770, 1050370,\n",
       "       1053970, 1057570, 1061170, 1064770, 1068370, 1071970, 1075570,\n",
       "       1079170, 1082770, 1086370, 1089970, 1093570, 1097170, 1100770,\n",
       "       1104370, 1107970, 1111570, 1115170, 1118770, 1122370, 1125970,\n",
       "       1129570, 1133170, 1136770, 1140370, 1143970, 1147570, 1151171,\n",
       "       1154771, 1158370, 1161970, 1165571, 1169171, 1172770])"
      ]
     },
     "execution_count": 119,
     "metadata": {},
     "output_type": "execute_result"
    }
   ],
   "source": [
    "stim_stop = np.array(stim_offsets)\n",
    "stim_stop"
   ]
  },
  {
   "cell_type": "markdown",
   "metadata": {},
   "source": [
    "# BASELINE BASE_START"
   ]
  },
  {
   "cell_type": "code",
   "execution_count": 121,
   "metadata": {},
   "outputs": [
    {
     "data": {
      "text/html": [
       "<div>\n",
       "<style scoped>\n",
       "    .dataframe tbody tr th:only-of-type {\n",
       "        vertical-align: middle;\n",
       "    }\n",
       "\n",
       "    .dataframe tbody tr th {\n",
       "        vertical-align: top;\n",
       "    }\n",
       "\n",
       "    .dataframe thead th {\n",
       "        text-align: right;\n",
       "    }\n",
       "</style>\n",
       "<table border=\"1\" class=\"dataframe\">\n",
       "  <thead>\n",
       "    <tr style=\"text-align: right;\">\n",
       "      <th></th>\n",
       "      <th>start_time</th>\n",
       "      <th>stop_time</th>\n",
       "      <th>sb</th>\n",
       "      <th>frq</th>\n",
       "      <th>amp</th>\n",
       "    </tr>\n",
       "    <tr>\n",
       "      <th>id</th>\n",
       "      <th></th>\n",
       "      <th></th>\n",
       "      <th></th>\n",
       "      <th></th>\n",
       "      <th></th>\n",
       "    </tr>\n",
       "  </thead>\n",
       "  <tbody>\n",
       "    <tr>\n",
       "      <th>0</th>\n",
       "      <td>0.000000</td>\n",
       "      <td>7.930483</td>\n",
       "      <td>b</td>\n",
       "      <td>500.0</td>\n",
       "      <td>6.0</td>\n",
       "    </tr>\n",
       "    <tr>\n",
       "      <th>2</th>\n",
       "      <td>8.080483</td>\n",
       "      <td>8.160483</td>\n",
       "      <td>b</td>\n",
       "      <td>500</td>\n",
       "      <td>6</td>\n",
       "    </tr>\n",
       "    <tr>\n",
       "      <th>4</th>\n",
       "      <td>8.380515</td>\n",
       "      <td>8.460515</td>\n",
       "      <td>b</td>\n",
       "      <td>3175</td>\n",
       "      <td>6</td>\n",
       "    </tr>\n",
       "    <tr>\n",
       "      <th>6</th>\n",
       "      <td>8.680506</td>\n",
       "      <td>8.760506</td>\n",
       "      <td>b</td>\n",
       "      <td>12699</td>\n",
       "      <td>8</td>\n",
       "    </tr>\n",
       "    <tr>\n",
       "      <th>8</th>\n",
       "      <td>8.980497</td>\n",
       "      <td>9.060497</td>\n",
       "      <td>b</td>\n",
       "      <td>794</td>\n",
       "      <td>6</td>\n",
       "    </tr>\n",
       "    <tr>\n",
       "      <th>...</th>\n",
       "      <td>...</td>\n",
       "      <td>...</td>\n",
       "      <td>...</td>\n",
       "      <td>...</td>\n",
       "      <td>...</td>\n",
       "    </tr>\n",
       "    <tr>\n",
       "      <th>594</th>\n",
       "      <td>96.880902</td>\n",
       "      <td>96.960902</td>\n",
       "      <td>b</td>\n",
       "      <td>8000</td>\n",
       "      <td>6</td>\n",
       "    </tr>\n",
       "    <tr>\n",
       "      <th>596</th>\n",
       "      <td>97.180934</td>\n",
       "      <td>97.260934</td>\n",
       "      <td>b</td>\n",
       "      <td>1260</td>\n",
       "      <td>6</td>\n",
       "    </tr>\n",
       "    <tr>\n",
       "      <th>598</th>\n",
       "      <td>97.480925</td>\n",
       "      <td>97.560925</td>\n",
       "      <td>b</td>\n",
       "      <td>20159</td>\n",
       "      <td>4</td>\n",
       "    </tr>\n",
       "    <tr>\n",
       "      <th>600</th>\n",
       "      <td>97.780916</td>\n",
       "      <td>97.860916</td>\n",
       "      <td>b</td>\n",
       "      <td>2000</td>\n",
       "      <td>6</td>\n",
       "    </tr>\n",
       "    <tr>\n",
       "      <th>601</th>\n",
       "      <td>97.860916</td>\n",
       "      <td>101.669929</td>\n",
       "      <td>b</td>\n",
       "      <td>2000</td>\n",
       "      <td>6</td>\n",
       "    </tr>\n",
       "  </tbody>\n",
       "</table>\n",
       "<p>302 rows × 5 columns</p>\n",
       "</div>"
      ],
      "text/plain": [
       "     start_time   stop_time sb    frq  amp\n",
       "id                                        \n",
       "0      0.000000    7.930483  b  500.0  6.0\n",
       "2      8.080483    8.160483  b    500    6\n",
       "4      8.380515    8.460515  b   3175    6\n",
       "6      8.680506    8.760506  b  12699    8\n",
       "8      8.980497    9.060497  b    794    6\n",
       "..          ...         ... ..    ...  ...\n",
       "594   96.880902   96.960902  b   8000    6\n",
       "596   97.180934   97.260934  b   1260    6\n",
       "598   97.480925   97.560925  b  20159    4\n",
       "600   97.780916   97.860916  b   2000    6\n",
       "601   97.860916  101.669929  b   2000    6\n",
       "\n",
       "[302 rows x 5 columns]"
      ]
     },
     "execution_count": 121,
     "metadata": {},
     "output_type": "execute_result"
    }
   ],
   "source": [
    "df = nwb.trials.to_dataframe()\n",
    "# df = df[df[\"sb\"] == \"b\"]\n",
    "df_b = df[df[\"sb\"] == \"b\"]\n",
    "df_b"
   ]
  },
  {
   "cell_type": "code",
   "execution_count": 123,
   "metadata": {},
   "outputs": [
    {
     "data": {
      "text/html": [
       "<div>\n",
       "<style scoped>\n",
       "    .dataframe tbody tr th:only-of-type {\n",
       "        vertical-align: middle;\n",
       "    }\n",
       "\n",
       "    .dataframe tbody tr th {\n",
       "        vertical-align: top;\n",
       "    }\n",
       "\n",
       "    .dataframe thead th {\n",
       "        text-align: right;\n",
       "    }\n",
       "</style>\n",
       "<table border=\"1\" class=\"dataframe\">\n",
       "  <thead>\n",
       "    <tr style=\"text-align: right;\">\n",
       "      <th></th>\n",
       "      <th>start_time</th>\n",
       "      <th>sb</th>\n",
       "    </tr>\n",
       "    <tr>\n",
       "      <th>id</th>\n",
       "      <th></th>\n",
       "      <th></th>\n",
       "    </tr>\n",
       "  </thead>\n",
       "  <tbody>\n",
       "    <tr>\n",
       "      <th>0</th>\n",
       "      <td>0.000000</td>\n",
       "      <td>b</td>\n",
       "    </tr>\n",
       "    <tr>\n",
       "      <th>2</th>\n",
       "      <td>8.080483</td>\n",
       "      <td>b</td>\n",
       "    </tr>\n",
       "    <tr>\n",
       "      <th>4</th>\n",
       "      <td>8.380515</td>\n",
       "      <td>b</td>\n",
       "    </tr>\n",
       "    <tr>\n",
       "      <th>6</th>\n",
       "      <td>8.680506</td>\n",
       "      <td>b</td>\n",
       "    </tr>\n",
       "    <tr>\n",
       "      <th>8</th>\n",
       "      <td>8.980497</td>\n",
       "      <td>b</td>\n",
       "    </tr>\n",
       "    <tr>\n",
       "      <th>...</th>\n",
       "      <td>...</td>\n",
       "      <td>...</td>\n",
       "    </tr>\n",
       "    <tr>\n",
       "      <th>594</th>\n",
       "      <td>96.880902</td>\n",
       "      <td>b</td>\n",
       "    </tr>\n",
       "    <tr>\n",
       "      <th>596</th>\n",
       "      <td>97.180934</td>\n",
       "      <td>b</td>\n",
       "    </tr>\n",
       "    <tr>\n",
       "      <th>598</th>\n",
       "      <td>97.480925</td>\n",
       "      <td>b</td>\n",
       "    </tr>\n",
       "    <tr>\n",
       "      <th>600</th>\n",
       "      <td>97.780916</td>\n",
       "      <td>b</td>\n",
       "    </tr>\n",
       "    <tr>\n",
       "      <th>601</th>\n",
       "      <td>97.860916</td>\n",
       "      <td>b</td>\n",
       "    </tr>\n",
       "  </tbody>\n",
       "</table>\n",
       "<p>302 rows × 2 columns</p>\n",
       "</div>"
      ],
      "text/plain": [
       "     start_time sb\n",
       "id                \n",
       "0      0.000000  b\n",
       "2      8.080483  b\n",
       "4      8.380515  b\n",
       "6      8.680506  b\n",
       "8      8.980497  b\n",
       "..          ... ..\n",
       "594   96.880902  b\n",
       "596   97.180934  b\n",
       "598   97.480925  b\n",
       "600   97.780916  b\n",
       "601   97.860916  b\n",
       "\n",
       "[302 rows x 2 columns]"
      ]
     },
     "execution_count": 123,
     "metadata": {},
     "output_type": "execute_result"
    }
   ],
   "source": [
    "b_onsets = df_b.iloc[:, [0,2]]\n",
    "b_onsets"
   ]
  },
  {
   "cell_type": "code",
   "execution_count": 125,
   "metadata": {},
   "outputs": [],
   "source": [
    "base_markers = b_onsets['start_time'].to_list()"
   ]
  },
  {
   "cell_type": "code",
   "execution_count": 126,
   "metadata": {},
   "outputs": [],
   "source": [
    "base_onsets = [int(x*fs) for x in base_markers]"
   ]
  },
  {
   "cell_type": "code",
   "execution_count": 128,
   "metadata": {},
   "outputs": [
    {
     "data": {
      "text/plain": [
       "array([      0,   96965,  100566,  104166,  107765,  111365,  114966,\n",
       "        118566,  122166,  125765,  129366,  132966,  136566,  140165,\n",
       "        143766,  147366,  150966,  154566,  158166,  161766,  165366,\n",
       "        168966,  172566,  176166,  179766,  183366,  186966,  190566,\n",
       "        194166,  197766,  201366,  204966,  208566,  212166,  215766,\n",
       "        219366,  222966,  226566,  230166,  233766,  237366,  240966,\n",
       "        244566,  248166,  251766,  255366,  258966,  262566,  266166,\n",
       "        269766,  273366,  276966,  280566,  284166,  287766,  291366,\n",
       "        294966,  298566,  302167,  305766,  309366,  312966,  316567,\n",
       "        320166,  323766,  327366,  330967,  334567,  338166,  341766,\n",
       "        345367,  348967,  352567,  356166,  359767,  363367,  366967,\n",
       "        370566,  374167,  377767,  381367,  384967,  388567,  392167,\n",
       "        395767,  399367,  402967,  406567,  410167,  413767,  417367,\n",
       "        420967,  424567,  428167,  431767,  435367,  438967,  442567,\n",
       "        446167,  449767,  453367,  456967,  460567,  464167,  467767,\n",
       "        471367,  474967,  478567,  482167,  485767,  489367,  492967,\n",
       "        496567,  500168,  503767,  507367,  510967,  514568,  518167,\n",
       "        521767,  525367,  528968,  532568,  536167,  539767,  543368,\n",
       "        546968,  550567,  554167,  557768,  561368,  564968,  568567,\n",
       "        572168,  575768,  579368,  582967,  586568,  590168,  593768,\n",
       "        597368,  600968,  604568,  608168,  611768,  615368,  618968,\n",
       "        622568,  626168,  629768,  633368,  636968,  640568,  644168,\n",
       "        647768,  651368,  654968,  658568,  662168,  665768,  669368,\n",
       "        672968,  676568,  680168,  683768,  687368,  690968,  694568,\n",
       "        698168,  701768,  705368,  708968,  712569,  716168,  719768,\n",
       "        723368,  726969,  730568,  734168,  737768,  741369,  744969,\n",
       "        748568,  752168,  755769,  759369,  762969,  766568,  770169,\n",
       "        773769,  777369,  780968,  784569,  788169,  791769,  795369,\n",
       "        798969,  802569,  806169,  809769,  813369,  816969,  820569,\n",
       "        824169,  827769,  831369,  834969,  838569,  842169,  845769,\n",
       "        849369,  852969,  856569,  860169,  863769,  867369,  870969,\n",
       "        874569,  878169,  881769,  885369,  888969,  892569,  896169,\n",
       "        899769,  903369,  906969,  910569,  914169,  917769,  921369,\n",
       "        924970,  928569,  932169,  935769,  939370,  942970,  946569,\n",
       "        950169,  953770,  957370,  960969,  964569,  968170,  971770,\n",
       "        975370,  978969,  982570,  986170,  989770,  993369,  996970,\n",
       "       1000570, 1004170, 1007770, 1011370, 1014970, 1018570, 1022170,\n",
       "       1025770, 1029370, 1032970, 1036570, 1040170, 1043770, 1047370,\n",
       "       1050970, 1054570, 1058170, 1061770, 1065370, 1068970, 1072570,\n",
       "       1076170, 1079770, 1083370, 1086970, 1090570, 1094170, 1097770,\n",
       "       1101370, 1104970, 1108570, 1112170, 1115770, 1119370, 1122970,\n",
       "       1126570, 1130170, 1133770, 1137370, 1140970, 1144570, 1148170,\n",
       "       1151771, 1155371, 1158970, 1162570, 1166171, 1169771, 1173370,\n",
       "       1174330])"
      ]
     },
     "execution_count": 128,
     "metadata": {},
     "output_type": "execute_result"
    }
   ],
   "source": [
    "base_start = np.array(base_onsets)\n",
    "base_start"
   ]
  },
  {
   "cell_type": "markdown",
   "metadata": {},
   "source": [
    "# BASELINE BASE_STOP"
   ]
  },
  {
   "cell_type": "code",
   "execution_count": 129,
   "metadata": {},
   "outputs": [
    {
     "data": {
      "text/html": [
       "<div>\n",
       "<style scoped>\n",
       "    .dataframe tbody tr th:only-of-type {\n",
       "        vertical-align: middle;\n",
       "    }\n",
       "\n",
       "    .dataframe tbody tr th {\n",
       "        vertical-align: top;\n",
       "    }\n",
       "\n",
       "    .dataframe thead th {\n",
       "        text-align: right;\n",
       "    }\n",
       "</style>\n",
       "<table border=\"1\" class=\"dataframe\">\n",
       "  <thead>\n",
       "    <tr style=\"text-align: right;\">\n",
       "      <th></th>\n",
       "      <th>start_time</th>\n",
       "      <th>stop_time</th>\n",
       "      <th>sb</th>\n",
       "      <th>frq</th>\n",
       "      <th>amp</th>\n",
       "    </tr>\n",
       "    <tr>\n",
       "      <th>id</th>\n",
       "      <th></th>\n",
       "      <th></th>\n",
       "      <th></th>\n",
       "      <th></th>\n",
       "      <th></th>\n",
       "    </tr>\n",
       "  </thead>\n",
       "  <tbody>\n",
       "    <tr>\n",
       "      <th>0</th>\n",
       "      <td>0.000000</td>\n",
       "      <td>7.930483</td>\n",
       "      <td>b</td>\n",
       "      <td>500.0</td>\n",
       "      <td>6.0</td>\n",
       "    </tr>\n",
       "    <tr>\n",
       "      <th>2</th>\n",
       "      <td>8.080483</td>\n",
       "      <td>8.160483</td>\n",
       "      <td>b</td>\n",
       "      <td>500</td>\n",
       "      <td>6</td>\n",
       "    </tr>\n",
       "    <tr>\n",
       "      <th>4</th>\n",
       "      <td>8.380515</td>\n",
       "      <td>8.460515</td>\n",
       "      <td>b</td>\n",
       "      <td>3175</td>\n",
       "      <td>6</td>\n",
       "    </tr>\n",
       "    <tr>\n",
       "      <th>6</th>\n",
       "      <td>8.680506</td>\n",
       "      <td>8.760506</td>\n",
       "      <td>b</td>\n",
       "      <td>12699</td>\n",
       "      <td>8</td>\n",
       "    </tr>\n",
       "    <tr>\n",
       "      <th>8</th>\n",
       "      <td>8.980497</td>\n",
       "      <td>9.060497</td>\n",
       "      <td>b</td>\n",
       "      <td>794</td>\n",
       "      <td>6</td>\n",
       "    </tr>\n",
       "    <tr>\n",
       "      <th>...</th>\n",
       "      <td>...</td>\n",
       "      <td>...</td>\n",
       "      <td>...</td>\n",
       "      <td>...</td>\n",
       "      <td>...</td>\n",
       "    </tr>\n",
       "    <tr>\n",
       "      <th>594</th>\n",
       "      <td>96.880902</td>\n",
       "      <td>96.960902</td>\n",
       "      <td>b</td>\n",
       "      <td>8000</td>\n",
       "      <td>6</td>\n",
       "    </tr>\n",
       "    <tr>\n",
       "      <th>596</th>\n",
       "      <td>97.180934</td>\n",
       "      <td>97.260934</td>\n",
       "      <td>b</td>\n",
       "      <td>1260</td>\n",
       "      <td>6</td>\n",
       "    </tr>\n",
       "    <tr>\n",
       "      <th>598</th>\n",
       "      <td>97.480925</td>\n",
       "      <td>97.560925</td>\n",
       "      <td>b</td>\n",
       "      <td>20159</td>\n",
       "      <td>4</td>\n",
       "    </tr>\n",
       "    <tr>\n",
       "      <th>600</th>\n",
       "      <td>97.780916</td>\n",
       "      <td>97.860916</td>\n",
       "      <td>b</td>\n",
       "      <td>2000</td>\n",
       "      <td>6</td>\n",
       "    </tr>\n",
       "    <tr>\n",
       "      <th>601</th>\n",
       "      <td>97.860916</td>\n",
       "      <td>101.669929</td>\n",
       "      <td>b</td>\n",
       "      <td>2000</td>\n",
       "      <td>6</td>\n",
       "    </tr>\n",
       "  </tbody>\n",
       "</table>\n",
       "<p>302 rows × 5 columns</p>\n",
       "</div>"
      ],
      "text/plain": [
       "     start_time   stop_time sb    frq  amp\n",
       "id                                        \n",
       "0      0.000000    7.930483  b  500.0  6.0\n",
       "2      8.080483    8.160483  b    500    6\n",
       "4      8.380515    8.460515  b   3175    6\n",
       "6      8.680506    8.760506  b  12699    8\n",
       "8      8.980497    9.060497  b    794    6\n",
       "..          ...         ... ..    ...  ...\n",
       "594   96.880902   96.960902  b   8000    6\n",
       "596   97.180934   97.260934  b   1260    6\n",
       "598   97.480925   97.560925  b  20159    4\n",
       "600   97.780916   97.860916  b   2000    6\n",
       "601   97.860916  101.669929  b   2000    6\n",
       "\n",
       "[302 rows x 5 columns]"
      ]
     },
     "execution_count": 129,
     "metadata": {},
     "output_type": "execute_result"
    }
   ],
   "source": [
    "df = nwb.trials.to_dataframe()\n",
    "# df = df[df[\"sb\"] == \"b\"]\n",
    "df_b = df[df[\"sb\"] == \"b\"]\n",
    "df_b"
   ]
  },
  {
   "cell_type": "code",
   "execution_count": 130,
   "metadata": {},
   "outputs": [
    {
     "data": {
      "text/html": [
       "<div>\n",
       "<style scoped>\n",
       "    .dataframe tbody tr th:only-of-type {\n",
       "        vertical-align: middle;\n",
       "    }\n",
       "\n",
       "    .dataframe tbody tr th {\n",
       "        vertical-align: top;\n",
       "    }\n",
       "\n",
       "    .dataframe thead th {\n",
       "        text-align: right;\n",
       "    }\n",
       "</style>\n",
       "<table border=\"1\" class=\"dataframe\">\n",
       "  <thead>\n",
       "    <tr style=\"text-align: right;\">\n",
       "      <th></th>\n",
       "      <th>stop_time</th>\n",
       "      <th>sb</th>\n",
       "    </tr>\n",
       "    <tr>\n",
       "      <th>id</th>\n",
       "      <th></th>\n",
       "      <th></th>\n",
       "    </tr>\n",
       "  </thead>\n",
       "  <tbody>\n",
       "    <tr>\n",
       "      <th>0</th>\n",
       "      <td>7.930483</td>\n",
       "      <td>b</td>\n",
       "    </tr>\n",
       "    <tr>\n",
       "      <th>2</th>\n",
       "      <td>8.160483</td>\n",
       "      <td>b</td>\n",
       "    </tr>\n",
       "    <tr>\n",
       "      <th>4</th>\n",
       "      <td>8.460515</td>\n",
       "      <td>b</td>\n",
       "    </tr>\n",
       "    <tr>\n",
       "      <th>6</th>\n",
       "      <td>8.760506</td>\n",
       "      <td>b</td>\n",
       "    </tr>\n",
       "    <tr>\n",
       "      <th>8</th>\n",
       "      <td>9.060497</td>\n",
       "      <td>b</td>\n",
       "    </tr>\n",
       "    <tr>\n",
       "      <th>...</th>\n",
       "      <td>...</td>\n",
       "      <td>...</td>\n",
       "    </tr>\n",
       "    <tr>\n",
       "      <th>594</th>\n",
       "      <td>96.960902</td>\n",
       "      <td>b</td>\n",
       "    </tr>\n",
       "    <tr>\n",
       "      <th>596</th>\n",
       "      <td>97.260934</td>\n",
       "      <td>b</td>\n",
       "    </tr>\n",
       "    <tr>\n",
       "      <th>598</th>\n",
       "      <td>97.560925</td>\n",
       "      <td>b</td>\n",
       "    </tr>\n",
       "    <tr>\n",
       "      <th>600</th>\n",
       "      <td>97.860916</td>\n",
       "      <td>b</td>\n",
       "    </tr>\n",
       "    <tr>\n",
       "      <th>601</th>\n",
       "      <td>101.669929</td>\n",
       "      <td>b</td>\n",
       "    </tr>\n",
       "  </tbody>\n",
       "</table>\n",
       "<p>302 rows × 2 columns</p>\n",
       "</div>"
      ],
      "text/plain": [
       "      stop_time sb\n",
       "id                \n",
       "0      7.930483  b\n",
       "2      8.160483  b\n",
       "4      8.460515  b\n",
       "6      8.760506  b\n",
       "8      9.060497  b\n",
       "..          ... ..\n",
       "594   96.960902  b\n",
       "596   97.260934  b\n",
       "598   97.560925  b\n",
       "600   97.860916  b\n",
       "601  101.669929  b\n",
       "\n",
       "[302 rows x 2 columns]"
      ]
     },
     "execution_count": 130,
     "metadata": {},
     "output_type": "execute_result"
    }
   ],
   "source": [
    "b_offsets = df_b.iloc[:, [1,2]]\n",
    "b_offsets"
   ]
  },
  {
   "cell_type": "code",
   "execution_count": 131,
   "metadata": {},
   "outputs": [],
   "source": [
    "base_mrks = b_offsets['stop_time'].to_list()"
   ]
  },
  {
   "cell_type": "code",
   "execution_count": 132,
   "metadata": {},
   "outputs": [],
   "source": [
    "base_offsets = [int(x*fs) for x in base_mrks]"
   ]
  },
  {
   "cell_type": "code",
   "execution_count": 133,
   "metadata": {},
   "outputs": [
    {
     "data": {
      "text/plain": [
       "array([  95165,   97925,  101526,  105126,  108725,  112325,  115926,\n",
       "        119526,  123126,  126725,  130326,  133926,  137526,  141125,\n",
       "        144726,  148326,  151926,  155526,  159126,  162726,  166326,\n",
       "        169926,  173526,  177126,  180726,  184326,  187926,  191526,\n",
       "        195126,  198726,  202326,  205926,  209526,  213126,  216726,\n",
       "        220326,  223926,  227526,  231126,  234726,  238326,  241926,\n",
       "        245526,  249126,  252726,  256326,  259926,  263526,  267126,\n",
       "        270726,  274326,  277926,  281526,  285126,  288726,  292326,\n",
       "        295926,  299526,  303127,  306726,  310326,  313926,  317527,\n",
       "        321126,  324726,  328326,  331927,  335527,  339126,  342726,\n",
       "        346327,  349927,  353527,  357126,  360727,  364327,  367927,\n",
       "        371526,  375127,  378727,  382327,  385927,  389527,  393127,\n",
       "        396727,  400327,  403927,  407527,  411127,  414727,  418327,\n",
       "        421927,  425527,  429127,  432727,  436327,  439927,  443527,\n",
       "        447127,  450727,  454327,  457927,  461527,  465127,  468727,\n",
       "        472327,  475927,  479527,  483127,  486727,  490327,  493927,\n",
       "        497527,  501128,  504727,  508327,  511927,  515528,  519127,\n",
       "        522727,  526327,  529928,  533528,  537127,  540727,  544328,\n",
       "        547928,  551527,  555127,  558728,  562328,  565928,  569527,\n",
       "        573128,  576728,  580328,  583927,  587528,  591128,  594728,\n",
       "        598328,  601928,  605528,  609128,  612728,  616328,  619928,\n",
       "        623528,  627128,  630728,  634328,  637928,  641528,  645128,\n",
       "        648728,  652328,  655928,  659528,  663128,  666728,  670328,\n",
       "        673928,  677528,  681128,  684728,  688328,  691928,  695528,\n",
       "        699128,  702728,  706328,  709928,  713529,  717128,  720728,\n",
       "        724328,  727929,  731528,  735128,  738728,  742329,  745929,\n",
       "        749528,  753128,  756729,  760329,  763929,  767528,  771129,\n",
       "        774729,  778329,  781928,  785529,  789129,  792729,  796329,\n",
       "        799929,  803529,  807129,  810729,  814329,  817929,  821529,\n",
       "        825129,  828729,  832329,  835929,  839529,  843129,  846729,\n",
       "        850329,  853929,  857529,  861129,  864729,  868329,  871929,\n",
       "        875529,  879129,  882729,  886329,  889929,  893529,  897129,\n",
       "        900729,  904329,  907929,  911529,  915129,  918729,  922329,\n",
       "        925930,  929529,  933129,  936729,  940330,  943930,  947529,\n",
       "        951129,  954730,  958330,  961929,  965529,  969130,  972730,\n",
       "        976330,  979929,  983530,  987130,  990730,  994329,  997930,\n",
       "       1001530, 1005130, 1008730, 1012330, 1015930, 1019530, 1023130,\n",
       "       1026730, 1030330, 1033930, 1037530, 1041130, 1044730, 1048330,\n",
       "       1051930, 1055530, 1059130, 1062730, 1066330, 1069930, 1073530,\n",
       "       1077130, 1080730, 1084330, 1087930, 1091530, 1095130, 1098730,\n",
       "       1102330, 1105930, 1109530, 1113130, 1116730, 1120330, 1123930,\n",
       "       1127530, 1131130, 1134730, 1138330, 1141930, 1145530, 1149130,\n",
       "       1152731, 1156331, 1159930, 1163530, 1167131, 1170731, 1174330,\n",
       "       1220039])"
      ]
     },
     "execution_count": 133,
     "metadata": {},
     "output_type": "execute_result"
    }
   ],
   "source": [
    "base_stop = np.array(base_offsets)\n",
    "base_stop"
   ]
  },
  {
   "cell_type": "code",
   "execution_count": null,
   "metadata": {},
   "outputs": [],
   "source": []
  },
  {
   "cell_type": "code",
   "execution_count": null,
   "metadata": {},
   "outputs": [],
   "source": []
  },
  {
   "cell_type": "code",
   "execution_count": 11,
   "metadata": {},
   "outputs": [],
   "source": [
    "data = nwbfile_in.acquisition['ECoG'].data"
   ]
  },
  {
   "cell_type": "code",
   "execution_count": 43,
   "metadata": {},
   "outputs": [
    {
     "data": {
      "text/plain": [
       "978944"
      ]
     },
     "execution_count": 43,
     "metadata": {},
     "output_type": "execute_result"
    }
   ],
   "source": [
    "data.shape[0]"
   ]
  },
  {
   "cell_type": "code",
   "execution_count": 7,
   "metadata": {},
   "outputs": [
    {
     "ename": "KeyError",
     "evalue": "'recorded_mark'",
     "output_type": "error",
     "traceback": [
      "\u001b[0;31m---------------------------------------------------------------------------\u001b[0m",
      "\u001b[0;31mKeyError\u001b[0m                                  Traceback (most recent call last)",
      "\u001b[0;32m<ipython-input-7-b172dc7e11bd>\u001b[0m in \u001b[0;36m<module>\u001b[0;34m\u001b[0m\n\u001b[0;32m----> 1\u001b[0;31m \u001b[0mmark_data\u001b[0m \u001b[0;34m=\u001b[0m \u001b[0mnwbfile_in\u001b[0m\u001b[0;34m.\u001b[0m\u001b[0mstimulus\u001b[0m\u001b[0;34m[\u001b[0m\u001b[0;34m'recorded_mark'\u001b[0m\u001b[0;34m]\u001b[0m\u001b[0;34m.\u001b[0m\u001b[0mdata\u001b[0m\u001b[0;34m\u001b[0m\u001b[0;34m\u001b[0m\u001b[0m\n\u001b[0m\u001b[1;32m      2\u001b[0m \u001b[0mlen\u001b[0m\u001b[0;34m(\u001b[0m\u001b[0mmark_data\u001b[0m\u001b[0;34m)\u001b[0m\u001b[0;34m\u001b[0m\u001b[0;34m\u001b[0m\u001b[0m\n",
      "\u001b[0;32m~/opt/anaconda3/lib/python3.8/site-packages/hdmf/utils.py\u001b[0m in \u001b[0;36m__getitem__\u001b[0;34m(self, args)\u001b[0m\n\u001b[1;32m    930\u001b[0m                 \u001b[0;32mreturn\u001b[0m \u001b[0msuper\u001b[0m\u001b[0;34m(\u001b[0m\u001b[0;34m)\u001b[0m\u001b[0;34m.\u001b[0m\u001b[0m__getitem__\u001b[0m\u001b[0;34m(\u001b[0m\u001b[0mval\u001b[0m\u001b[0;34m)\u001b[0m\u001b[0;34m\u001b[0m\u001b[0;34m\u001b[0m\u001b[0m\n\u001b[1;32m    931\u001b[0m         \u001b[0;32melse\u001b[0m\u001b[0;34m:\u001b[0m\u001b[0;34m\u001b[0m\u001b[0;34m\u001b[0m\u001b[0m\n\u001b[0;32m--> 932\u001b[0;31m             \u001b[0;32mreturn\u001b[0m \u001b[0msuper\u001b[0m\u001b[0;34m(\u001b[0m\u001b[0;34m)\u001b[0m\u001b[0;34m.\u001b[0m\u001b[0m__getitem__\u001b[0m\u001b[0;34m(\u001b[0m\u001b[0mkey\u001b[0m\u001b[0;34m)\u001b[0m\u001b[0;34m\u001b[0m\u001b[0;34m\u001b[0m\u001b[0m\n\u001b[0m\u001b[1;32m    933\u001b[0m \u001b[0;34m\u001b[0m\u001b[0m\n\u001b[1;32m    934\u001b[0m     \u001b[0;32mdef\u001b[0m \u001b[0m__setitem__\u001b[0m\u001b[0;34m(\u001b[0m\u001b[0mself\u001b[0m\u001b[0;34m,\u001b[0m \u001b[0mkey\u001b[0m\u001b[0;34m,\u001b[0m \u001b[0mvalue\u001b[0m\u001b[0;34m)\u001b[0m\u001b[0;34m:\u001b[0m\u001b[0;34m\u001b[0m\u001b[0;34m\u001b[0m\u001b[0m\n",
      "\u001b[0;31mKeyError\u001b[0m: 'recorded_mark'"
     ]
    }
   ],
   "source": [
    "mark_data = nwbfile_in.stimulus['recorded_mark'].data\n",
    "len(mark_data)"
   ]
  },
  {
   "cell_type": "code",
   "execution_count": 129,
   "metadata": {},
   "outputs": [
    {
     "data": {
      "text/plain": [
       "12207.03125"
      ]
     },
     "execution_count": 129,
     "metadata": {},
     "output_type": "execute_result"
    }
   ],
   "source": [
    "mark_fs = nwbfile_in.stimulus['recorded_mark'].rate\n",
    "mark_fs"
   ]
  },
  {
   "cell_type": "code",
   "execution_count": 52,
   "metadata": {},
   "outputs": [],
   "source": [
    "mark_offset = 0.25"
   ]
  },
  {
   "cell_type": "code",
   "execution_count": 53,
   "metadata": {},
   "outputs": [],
   "source": [
    "stim_duration = 0.1"
   ]
  },
  {
   "cell_type": "code",
   "execution_count": 56,
   "metadata": {},
   "outputs": [
    {
     "data": {
      "text/plain": [
       "12207.03125"
      ]
     },
     "execution_count": 56,
     "metadata": {},
     "output_type": "execute_result"
    }
   ],
   "source": [
    "mark_fs"
   ]
  },
  {
   "cell_type": "markdown",
   "metadata": {},
   "source": [
    "Vanessa Practice"
   ]
  },
  {
   "cell_type": "code",
   "execution_count": 44,
   "metadata": {},
   "outputs": [],
   "source": [
    "end_time = data.shape[0] / fs"
   ]
  },
  {
   "cell_type": "code",
   "execution_count": 50,
   "metadata": {},
   "outputs": [],
   "source": [
    "# np.arange(0.5, end_time, 1.0)"
   ]
  },
  {
   "cell_type": "code",
   "execution_count": 128,
   "metadata": {},
   "outputs": [
    {
     "data": {
      "text/plain": [
       "1220.703125"
      ]
     },
     "execution_count": 128,
     "metadata": {},
     "output_type": "execute_result"
    }
   ],
   "source": [
    "stim_dur_samp = stim_duration*mark_fs\n",
    "stim_dur_samp"
   ]
  },
  {
   "cell_type": "code",
   "execution_count": 59,
   "metadata": {},
   "outputs": [],
   "source": [
    "mark_threshold = 0.3"
   ]
  },
  {
   "cell_type": "code",
   "execution_count": 158,
   "metadata": {},
   "outputs": [
    {
     "data": {
      "text/plain": [
       "(980992,)"
      ]
     },
     "execution_count": 158,
     "metadata": {},
     "output_type": "execute_result"
    }
   ],
   "source": [
    "idk = mark_data[:] > mark_threshold\n",
    "idk.shape"
   ]
  },
  {
   "cell_type": "code",
   "execution_count": 167,
   "metadata": {},
   "outputs": [],
   "source": [
    "thresh_crossings = np.diff( (idk).astype('int'), axis=0 )"
   ]
  },
  {
   "cell_type": "code",
   "execution_count": 163,
   "metadata": {},
   "outputs": [
    {
     "data": {
      "text/plain": [
       "(980991,)"
      ]
     },
     "execution_count": 163,
     "metadata": {},
     "output_type": "execute_result"
    }
   ],
   "source": [
    "thresh_crossings.shape"
   ]
  },
  {
   "cell_type": "code",
   "execution_count": 134,
   "metadata": {},
   "outputs": [],
   "source": [
    "new_thresh_crossings = np.r_[idk[0], thresh_crossings].cumsum()"
   ]
  },
  {
   "cell_type": "code",
   "execution_count": 221,
   "metadata": {},
   "outputs": [
    {
     "data": {
      "text/plain": [
       "array([212035, 224242, 236449, 248656, 260863, 273071, 285278, 297485,\n",
       "       309692, 321899, 334106, 346313, 358520, 370727, 382934, 395141,\n",
       "       407349, 419556, 431763, 443970, 456177, 468384, 480591, 492798,\n",
       "       505005, 517212, 529420, 541627, 553834, 566041, 578248, 590455,\n",
       "       602662, 614869, 627076, 639283, 651490, 663698, 675905, 688112,\n",
       "       700319, 712526, 724733, 736940, 749147, 761354, 773561, 785769,\n",
       "       797976, 810183, 822390, 834597, 846804, 859011, 871218, 883425,\n",
       "       895632, 907839, 920047])"
      ]
     },
     "execution_count": 221,
     "metadata": {},
     "output_type": "execute_result"
    }
   ],
   "source": [
    "stim_onsets = np.where(thresh_crossings > 0.5)[0] + 1\n",
    "stim_onsets"
   ]
  },
  {
   "cell_type": "code",
   "execution_count": 181,
   "metadata": {},
   "outputs": [
    {
     "data": {
      "text/plain": [
       "[212035]"
      ]
     },
     "execution_count": 181,
     "metadata": {},
     "output_type": "execute_result"
    }
   ],
   "source": [
    "real_stim_onsets = [stim_onsets[0]]\n",
    "real_stim_onsets"
   ]
  },
  {
   "cell_type": "code",
   "execution_count": 192,
   "metadata": {},
   "outputs": [],
   "source": [
    "for stim_onset in stim_onsets[1:]:\n",
    "        # Check that each stim onset is more than 2x the stimulus duration since the previous\n",
    "        if stim_onset > real_stim_onsets[-1] + 2*stim_dur_samp:\n",
    "            real_stim_onsets.append(stim_onset)"
   ]
  },
  {
   "cell_type": "code",
   "execution_count": 193,
   "metadata": {},
   "outputs": [
    {
     "name": "stdout",
     "output_type": "stream",
     "text": [
      "WARNING\n"
     ]
    }
   ],
   "source": [
    "if len(real_stim_onsets) != 60:\n",
    "        print(\"WARNING\")"
   ]
  },
  {
   "cell_type": "code",
   "execution_count": 220,
   "metadata": {},
   "outputs": [
    {
     "data": {
      "text/plain": [
       "array([17.3699072 , 18.36990464, 19.36990208, 20.36989952, 21.36989696,\n",
       "       22.36997632, 23.36997376, 24.3699712 , 25.36996864, 26.36996608,\n",
       "       27.36996352, 28.36996096, 29.3699584 , 30.36995584, 31.36995328,\n",
       "       32.36995072, 33.37003008, 34.37002752, 35.37002496, 36.3700224 ,\n",
       "       37.37001984, 38.37001728, 39.37001472, 40.37001216, 41.3700096 ,\n",
       "       42.37000704, 43.3700864 , 44.37008384, 45.37008128, 46.37007872,\n",
       "       47.37007616, 48.3700736 , 49.37007104, 50.37006848, 51.37006592,\n",
       "       52.37006336, 53.3700608 , 54.37014016, 55.3701376 , 56.37013504,\n",
       "       57.37013248, 58.37012992, 59.37012736, 60.3701248 , 61.37012224,\n",
       "       62.37011968, 63.37011712, 64.37019648, 65.37019392, 66.37019136,\n",
       "       67.3701888 , 68.37018624, 69.37018368, 70.37018112, 71.37017856,\n",
       "       72.370176  , 73.37017344, 74.37017088, 75.37025024])"
      ]
     },
     "execution_count": 220,
     "metadata": {},
     "output_type": "execute_result"
    }
   ],
   "source": [
    "markers = (real_stim_onsets / mark_fs)\n",
    "markers"
   ]
  },
  {
   "cell_type": "code",
   "execution_count": 169,
   "metadata": {},
   "outputs": [
    {
     "data": {
      "text/plain": [
       "(59,)"
      ]
     },
     "execution_count": 169,
     "metadata": {},
     "output_type": "execute_result"
    }
   ],
   "source": [
    "markers.shape"
   ]
  },
  {
   "cell_type": "code",
   "execution_count": 176,
   "metadata": {},
   "outputs": [],
   "source": [
    "a = np.array([2,3,4])"
   ]
  },
  {
   "cell_type": "code",
   "execution_count": 177,
   "metadata": {},
   "outputs": [
    {
     "data": {
      "text/plain": [
       "array([1, 2, 3, 4])"
      ]
     },
     "execution_count": 177,
     "metadata": {},
     "output_type": "execute_result"
    }
   ],
   "source": [
    "np.insert(a, 0, 1)"
   ]
  },
  {
   "cell_type": "code",
   "execution_count": 196,
   "metadata": {},
   "outputs": [
    {
     "data": {
      "text/plain": [
       "array([16.369907  , 17.3699072 , 18.36990464, 19.36990208, 20.36989952,\n",
       "       21.36989696, 22.36997632, 23.36997376, 24.3699712 , 25.36996864,\n",
       "       26.36996608, 27.36996352, 28.36996096, 29.3699584 , 30.36995584,\n",
       "       31.36995328, 32.36995072, 33.37003008, 34.37002752, 35.37002496,\n",
       "       36.3700224 , 37.37001984, 38.37001728, 39.37001472, 40.37001216,\n",
       "       41.3700096 , 42.37000704, 43.3700864 , 44.37008384, 45.37008128,\n",
       "       46.37007872, 47.37007616, 48.3700736 , 49.37007104, 50.37006848,\n",
       "       51.37006592, 52.37006336, 53.3700608 , 54.37014016, 55.3701376 ,\n",
       "       56.37013504, 57.37013248, 58.37012992, 59.37012736, 60.3701248 ,\n",
       "       61.37012224, 62.37011968, 63.37011712, 64.37019648, 65.37019392,\n",
       "       66.37019136, 67.3701888 , 68.37018624, 69.37018368, 70.37018112,\n",
       "       71.37017856, 72.370176  , 73.37017344, 74.37017088, 75.37025024])"
      ]
     },
     "execution_count": 196,
     "metadata": {},
     "output_type": "execute_result"
    }
   ],
   "source": [
    "np.insert(markers, 0, 16.369907)"
   ]
  },
  {
   "cell_type": "code",
   "execution_count": null,
   "metadata": {},
   "outputs": [],
   "source": []
  },
  {
   "cell_type": "code",
   "execution_count": null,
   "metadata": {},
   "outputs": [],
   "source": []
  },
  {
   "cell_type": "code",
   "execution_count": 12,
   "metadata": {},
   "outputs": [],
   "source": [
    "chs_ordered = [\n",
    "       81, 83, 85, 87, 89, 91, 93, 95, 97, 105, 98, 106, 114, 122, 113, 121,\n",
    "       82, 84, 86, 88, 90, 92, 94, 96, 99, 107, 100, 108, 116, 124, 115, 123,\n",
    "       66, 68, 70, 72, 74, 76, 78, 80, 101, 109, 102, 110, 118, 126, 117, 125,\n",
    "       65, 67, 69, 71, 73, 75, 77, 79, 103, 111, 104, 112, 120, 128, 119, 127,\n",
    "       63, 61, 59, 57, 55, 53, 51, 49, 25, 17, 26, 18, 10, 2, 9, 1,\n",
    "       64, 62, 60, 58, 56, 54, 52, 50, 27, 19, 28, 20, 12, 4, 11, 3,\n",
    "       48, 46, 44, 42, 40, 38, 36, 34, 29, 21, 30, 22, 14, 6, 13, 5,\n",
    "       47, 45, 43, 41, 39, 37, 35, 33, 31, 23, 32, 24, 16, 8, 15, 7\n",
    "       ]"
   ]
  },
  {
   "cell_type": "code",
   "execution_count": 18,
   "metadata": {},
   "outputs": [],
   "source": [
    "shape_wanted = data.shape\n",
    "new_data = np.empty((shape_wanted[0], shape_wanted[1]))"
   ]
  },
  {
   "cell_type": "code",
   "execution_count": 20,
   "metadata": {},
   "outputs": [
    {
     "name": "stdout",
     "output_type": "stream",
     "text": [
      "[[-271. -262. -266. ... -158. -113. -181.]\n",
      " [-276. -263. -262. ... -152. -120. -193.]\n",
      " [-271. -257. -249. ... -201. -127. -220.]\n",
      " ...\n",
      " [  -6.   12.   40. ... -597. -556. -523.]\n",
      " [   1.   13.   37. ... -568. -530. -496.]\n",
      " [   3.   15.   35. ... -528. -500. -473.]]\n"
     ]
    }
   ],
   "source": [
    "for i in np.arange(shape_wanted[1]):\n",
    "    new_data[:, i] = data[:, (chs_ordered[i] - 1)]\n",
    "print(new_data) "
   ]
  },
  {
   "cell_type": "code",
   "execution_count": 22,
   "metadata": {},
   "outputs": [
    {
     "data": {
      "text/plain": [
       "array([-271., -262., -266., -251., -411., -292., -273., -240., -223.,\n",
       "       -111., -214., -174., -222.,  185., -189., -216., -255., -216.,\n",
       "       -336., -485., -361., -319., -303., -262., -225., -113., -221.,\n",
       "       -104., -219.,   -2., -224., -201., -208., -120., -321., -402.,\n",
       "       -395., -183., -387., -361., -100., -222., -217., -186., -204.,\n",
       "         33., -201., -223., -381., -362., -390., -409., -376., -383.,\n",
       "       -401., -379., -118., -243., -174., -238., -277.,  -17., -209.,\n",
       "       -202.,  -74.,  -84.,  -97.,  -75.,  -82.,  -73.,  -79.,  -85.,\n",
       "        -96., -109., -105., -100., -162., -129., -110., -178.,  -51.,\n",
       "        -76.,  -95.,  -84.,  -50.,  -62., -119.,  -99., -116., -133.,\n",
       "       -105., -113., -177., -109., -130., -180.,  -84.,  -49., -110.,\n",
       "        -91., -131., -106., -127.,  -89., -113., -120., -129.,  -98.,\n",
       "       -155., -114., -113., -169.,  -94.,  -84., -113.,  -98., -120.,\n",
       "        -98., -108., -106., -120., -109., -102., -102., -157., -158.,\n",
       "       -113., -181.])"
      ]
     },
     "execution_count": 22,
     "metadata": {},
     "output_type": "execute_result"
    }
   ],
   "source": [
    "new_data[0]"
   ]
  },
  {
   "cell_type": "code",
   "execution_count": null,
   "metadata": {},
   "outputs": [],
   "source": []
  },
  {
   "cell_type": "code",
   "execution_count": null,
   "metadata": {},
   "outputs": [],
   "source": []
  },
  {
   "cell_type": "code",
   "execution_count": null,
   "metadata": {},
   "outputs": [],
   "source": []
  },
  {
   "cell_type": "code",
   "execution_count": null,
   "metadata": {},
   "outputs": [],
   "source": []
  },
  {
   "cell_type": "code",
   "execution_count": null,
   "metadata": {},
   "outputs": [],
   "source": []
  },
  {
   "cell_type": "code",
   "execution_count": 140,
   "metadata": {},
   "outputs": [],
   "source": [
    "io.close()"
   ]
  },
  {
   "cell_type": "code",
   "execution_count": null,
   "metadata": {},
   "outputs": [],
   "source": []
  },
  {
   "cell_type": "code",
   "execution_count": null,
   "metadata": {},
   "outputs": [],
   "source": []
  },
  {
   "cell_type": "code",
   "execution_count": null,
   "metadata": {},
   "outputs": [],
   "source": []
  },
  {
   "cell_type": "code",
   "execution_count": null,
   "metadata": {},
   "outputs": [],
   "source": []
  },
  {
   "cell_type": "code",
   "execution_count": 24,
   "metadata": {},
   "outputs": [],
   "source": [
    "one_timepoint = nwbfile_in.acquisition['ECoG'].data[:, :]"
   ]
  },
  {
   "cell_type": "code",
   "execution_count": 25,
   "metadata": {
    "scrolled": true
   },
   "outputs": [
    {
     "data": {
      "text/plain": [
       "(17860806, 128)"
      ]
     },
     "execution_count": 25,
     "metadata": {},
     "output_type": "execute_result"
    }
   ],
   "source": [
    "one_timepoint.shape"
   ]
  },
  {
   "cell_type": "code",
   "execution_count": 28,
   "metadata": {},
   "outputs": [
    {
     "data": {
      "text/plain": [
       "1463.15722752"
      ]
     },
     "execution_count": 28,
     "metadata": {},
     "output_type": "execute_result"
    }
   ],
   "source": [
    "17860806/nwbfile_in.acquisition['ECoG'].rate"
   ]
  },
  {
   "cell_type": "code",
   "execution_count": 29,
   "metadata": {},
   "outputs": [
    {
     "data": {
      "text/plain": [
       "24.383333333333333"
      ]
     },
     "execution_count": 29,
     "metadata": {},
     "output_type": "execute_result"
    }
   ],
   "source": [
    "1463/60"
   ]
  },
  {
   "cell_type": "code",
   "execution_count": null,
   "metadata": {},
   "outputs": [],
   "source": [
    "nwbfile_in.stimulus['recorded_mark']"
   ]
  },
  {
   "cell_type": "code",
   "execution_count": 30,
   "metadata": {},
   "outputs": [],
   "source": [
    "io1 = NWBHDF5IO('/Users/macproizzy/Desktop/R56_B13/R56_B13.nwb', 'r')\n",
    "nwbfile_in1 = io1.read()"
   ]
  },
  {
   "cell_type": "code",
   "execution_count": 31,
   "metadata": {
    "scrolled": true
   },
   "outputs": [
    {
     "data": {
      "text/plain": [
       "root pynwb.file.NWBFile at 0x140587758073216\n",
       "Fields:\n",
       "  acquisition: {\n",
       "    Raw <class 'pynwb.ecephys.LFP'>\n",
       "  }\n",
       "  devices: {\n",
       "    ECoG <class 'pynwb.device.Device'>,\n",
       "    Poly <class 'pynwb.device.Device'>\n",
       "  }\n",
       "  electrode_groups: {\n",
       "    ECoG <class 'pynwb.ecephys.ElectrodeGroup'>,\n",
       "    Poly <class 'pynwb.ecephys.ElectrodeGroup'>\n",
       "  }\n",
       "  electrodes: electrodes <class 'hdmf.common.table.DynamicTable'>\n",
       "  experiment_description: wn2 Stimulus Experiment\n",
       "  experimenter: ['Max Dougherty']\n",
       "  file_create_date: [datetime.datetime(2020, 12, 1, 12, 54, 12, 164816, tzinfo=tzoffset(None, -28800))]\n",
       "  identifier: R56_B13\n",
       "  institution: Lawrence Berkeley National Laboratory\n",
       "  intervals: {\n",
       "    trials <class 'pynwb.epoch.TimeIntervals'>\n",
       "  }\n",
       "  lab: Bouchard Lab\n",
       "  notes: TODO\n",
       "  pharmacology: TODO\n",
       "  processing: {\n",
       "    ECoG <class 'pynwb.base.ProcessingModule'>,\n",
       "    Hilb_54bands <class 'pynwb.base.ProcessingModule'>,\n",
       "    tMUA <class 'pynwb.base.ProcessingModule'>,\n",
       "    tMUA_rate <class 'pynwb.base.ProcessingModule'>\n",
       "  }\n",
       "  session_description: foo\n",
       "  session_id: R56_B13\n",
       "  session_start_time: 2020-12-01 12:54:12.164813-08:00\n",
       "  stimulus: {\n",
       "    recorded_mark <class 'pynwb.base.TimeSeries'>,\n",
       "    recorded_stim <class 'pynwb.base.TimeSeries'>\n",
       "  }\n",
       "  surgery: Acute Craniotomy\n",
       "  timestamps_reference_time: 2020-12-01 12:54:12.164813-08:00\n",
       "  trials: trials <class 'pynwb.epoch.TimeIntervals'>"
      ]
     },
     "execution_count": 31,
     "metadata": {},
     "output_type": "execute_result"
    }
   ],
   "source": [
    "nwbfile_in1"
   ]
  },
  {
   "cell_type": "code",
   "execution_count": 38,
   "metadata": {},
   "outputs": [
    {
     "data": {
      "text/plain": [
       "{'ECoG': ECoG pynwb.misc.DecompositionSeries at 0x140587755856320\n",
       " Fields:\n",
       "   bands: bands <class 'hdmf.common.table.DynamicTable'>\n",
       "   comments: no comments\n",
       "   conversion: 1.0\n",
       "   data: <HDF5 dataset \"data\": shape (29367, 128, 54), type \"<f4\">\n",
       "   description: processed data\n",
       "   metric: amplitude\n",
       "   rate: 400.0\n",
       "   resolution: 0.0\n",
       "   source_timeseries: ECoG pynwb.ecephys.ElectricalSeries at 0x140587754326960\n",
       " Fields:\n",
       "   comments: no comments\n",
       "   conversion: 1.0\n",
       "   data: <HDF5 dataset \"data\": shape (448099, 128), type \"<f4\">\n",
       "   description: no description\n",
       "   electrodes: electrodes <class 'hdmf.common.table.DynamicTableRegion'>\n",
       "   rate: 6103.515625\n",
       "   resolution: 0.0\n",
       "   starting_time: 0.0\n",
       "   starting_time_unit: seconds\n",
       "   unit: volts\n",
       " \n",
       "   starting_time: 0.0\n",
       "   starting_time_unit: seconds\n",
       "   unit: no unit}"
      ]
     },
     "execution_count": 38,
     "metadata": {},
     "output_type": "execute_result"
    }
   ],
   "source": [
    "nwbfile_in1.processing['Hilb_54bands'].data_interfaces"
   ]
  },
  {
   "cell_type": "code",
   "execution_count": 32,
   "metadata": {
    "scrolled": true
   },
   "outputs": [
    {
     "data": {
      "text/plain": [
       "Raw pynwb.ecephys.LFP at 0x140587758259264\n",
       "Fields:\n",
       "  electrical_series: {\n",
       "    ECoG <class 'pynwb.ecephys.ElectricalSeries'>,\n",
       "    Poly <class 'pynwb.ecephys.ElectricalSeries'>\n",
       "  }"
      ]
     },
     "execution_count": 32,
     "metadata": {},
     "output_type": "execute_result"
    }
   ],
   "source": [
    "nwbfile_in1.acquisition['Raw']"
   ]
  },
  {
   "cell_type": "code",
   "execution_count": 34,
   "metadata": {},
   "outputs": [
    {
     "data": {
      "text/plain": [
       "<HDF5 dataset \"data\": shape (1792394, 64), type \"<f4\">"
      ]
     },
     "execution_count": 34,
     "metadata": {},
     "output_type": "execute_result"
    }
   ],
   "source": [
    "nwbfile_in1.acquisition['Raw']['Poly'].data"
   ]
  },
  {
   "cell_type": "code",
   "execution_count": null,
   "metadata": {},
   "outputs": [],
   "source": [
    "nwbfile_in1.processing['tMUA_rate'].data_interfaces['ECoG']"
   ]
  }
 ],
 "metadata": {
  "kernelspec": {
   "display_name": "Python 3",
   "language": "python",
   "name": "python3"
  },
  "language_info": {
   "codemirror_mode": {
    "name": "ipython",
    "version": 3
   },
   "file_extension": ".py",
   "mimetype": "text/x-python",
   "name": "python",
   "nbconvert_exporter": "python",
   "pygments_lexer": "ipython3",
   "version": "3.8.5"
  }
 },
 "nbformat": 4,
 "nbformat_minor": 4
}
